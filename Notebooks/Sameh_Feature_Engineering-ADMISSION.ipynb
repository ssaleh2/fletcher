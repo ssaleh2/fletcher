{
 "cells": [
  {
   "cell_type": "code",
   "execution_count": 9,
   "metadata": {
    "collapsed": true
   },
   "outputs": [],
   "source": [
    "%matplotlib inline\n",
    "import matplotlib.pyplot as plt\n",
    "from sqlalchemy import MetaData\n",
    "import numpy as np\n",
    "import pandas as pd\n",
    "import csv\n",
    "from collections import defaultdict\n",
    "import re\n",
    "import statsmodels.api as sm\n",
    "from patsy import dmatrices\n",
    "from sklearn.cross_validation import train_test_split\n",
    "from __future__ import division\n",
    "from sklearn.ensemble import RandomForestClassifier, GradientBoostingClassifier\n",
    "from sklearn.linear_model import LogisticRegression\n",
    "from sklearn.metrics import roc_auc_score\n",
    "import seaborn as sns\n",
    "from sqlalchemy import MetaData\n",
    "from sqlalchemy import create_engine\n",
    "from sqlalchemy.engine.url import URL\n",
    "import settings\n",
    "import time\n",
    "import glob\n",
    "import pickle"
   ]
  },
  {
   "cell_type": "markdown",
   "metadata": {},
   "source": [
    "## Load working df into memory for use"
   ]
  },
  {
   "cell_type": "code",
   "execution_count": 263,
   "metadata": {
    "collapsed": false
   },
   "outputs": [],
   "source": [
    "def combine_pickles(tables):\n",
    "    dflist = []\n",
    "    count = 1\n",
    "    for table in tables:\n",
    "        print \"\\r\",\"working on %s, %d/%d tables\" % (table, count, len(tables)),\n",
    "        filename = \"../Pickles/backup/\" + table + '.p'\n",
    "        dflist.append(pickle.load(open(filename, 'rb')))\n",
    "        count +=1\n",
    "    df = pd.concat(dflist)\n",
    "    dflist=None\n",
    "    return df"
   ]
  },
  {
   "cell_type": "code",
   "execution_count": 265,
   "metadata": {
    "collapsed": false,
    "scrolled": true
   },
   "outputs": [
    {
     "name": "stdout",
     "output_type": "stream",
     "text": [
      "working on short_final_df_3, 4/4 tables\n"
     ]
    }
   ],
   "source": [
    "# with open('../Pickles/final_patient_df.p') as f:\n",
    "#     df = pickle.load(f)\n",
    "\n",
    "df = combine_pickles(['short_final_df_0', 'short_final_df_1', 'short_final_df_2', 'short_final_df_3'])"
   ]
  },
  {
   "cell_type": "code",
   "execution_count": 760,
   "metadata": {
    "collapsed": false
   },
   "outputs": [
    {
     "data": {
      "text/plain": [
       "(18097, 122)"
      ]
     },
     "execution_count": 760,
     "metadata": {},
     "output_type": "execute_result"
    }
   ],
   "source": [
    "df.shape"
   ]
  },
  {
   "cell_type": "markdown",
   "metadata": {},
   "source": [
    "### Create float of los in ICU "
   ]
  },
  {
   "cell_type": "code",
   "execution_count": 1086,
   "metadata": {
    "collapsed": false
   },
   "outputs": [
    {
     "data": {
      "text/plain": [
       "3428"
      ]
     },
     "execution_count": 1086,
     "metadata": {},
     "output_type": "execute_result"
    }
   ],
   "source": [
    "len(df[df.hospital_expire_flag == 1])"
   ]
  },
  {
   "cell_type": "code",
   "execution_count": 268,
   "metadata": {
    "collapsed": true
   },
   "outputs": [],
   "source": [
    "# patient_df = pd.read_csv('../TextFiles/FINAL_patient_list.csv')\n",
    "# patient_df = patient_df.drop(['Unnamed: 0', 'index', 'hadm_id, axis = 1)"
   ]
  },
  {
   "cell_type": "code",
   "execution_count": 269,
   "metadata": {
    "collapsed": false
   },
   "outputs": [],
   "source": [
    "df.los_icu = df.apply(lambda x: ((pd.Timestamp(x.outtime) - pd.Timestamp(x.intime))/np.timedelta64(1, 'D')).astype(float), axis = 1)"
   ]
  },
  {
   "cell_type": "code",
   "execution_count": 765,
   "metadata": {
    "collapsed": false,
    "scrolled": true
   },
   "outputs": [
    {
     "data": {
      "text/plain": [
       "(0, 40)"
      ]
     },
     "execution_count": 765,
     "metadata": {},
     "output_type": "execute_result"
    },
    {
     "data": {
      "image/png": "[encoded data removed]",
      "text/plain": [
       "<matplotlib.figure.Figure at 0x7f332557ae90>"
      ]
     },
     "metadata": {},
     "output_type": "display_data"
    }
   ],
   "source": [
    "df.los_icu.hist(bins = 500)\n",
    "plt.xlim(0, 40)"
   ]
  },
  {
   "cell_type": "markdown",
   "metadata": {},
   "source": [
    "## Determine type of each column - time series, num, category, etc."
   ]
  },
  {
   "cell_type": "code",
   "execution_count": null,
   "metadata": {
    "collapsed": false
   },
   "outputs": [],
   "source": []
  },
  {
   "cell_type": "code",
   "execution_count": 840,
   "metadata": {
    "collapsed": true
   },
   "outputs": [],
   "source": [
    "#Male = 1, Female = 0\n",
    "df.replace('M', 1, inplace = True)\n",
    "df.replace('F', 0, inplace = True)"
   ]
  },
  {
   "cell_type": "code",
   "execution_count": 841,
   "metadata": {
    "collapsed": false,
    "scrolled": true
   },
   "outputs": [],
   "source": [
    "#Get Feature Types into dictionary\n",
    "#0 = ignore\n",
    "#1 = numerical time series\n",
    "#2 = purely categorical\n",
    "#3 = numerical already\n",
    "#4 = categorical time series\n",
    "#5 = hold onto for now, drop when want to do model\n",
    "import csv\n",
    "featuretype_dict = {}\n",
    "typefeature_dict = defaultdict(list)\n",
    "reader = csv.reader(open('../TextFiles/feature_types.csv', 'r'))\n",
    "d = {}\n",
    "for k,v in reader:\n",
    "    featuretype_dict[k] = int(v)\n",
    "    typefeature_dict[int(v)].append(k)"
   ]
  },
  {
   "cell_type": "code",
   "execution_count": 858,
   "metadata": {
    "collapsed": false
   },
   "outputs": [
    {
     "name": "stdout",
     "output_type": "stream",
     "text": [
      "\n"
     ]
    }
   ],
   "source": [
    "# Have to rename resp rate separately since same name for columns in 44 and 45\n",
    "column_names = list(df.columns)\n",
    "column_names[44] = \"Discard_RR\"\n",
    "df.columns = column_names"
   ]
  },
  {
   "cell_type": "code",
   "execution_count": 859,
   "metadata": {
    "collapsed": false
   },
   "outputs": [
    {
     "data": {
      "text/plain": [
       "94"
      ]
     },
     "execution_count": 859,
     "metadata": {},
     "output_type": "execute_result"
    }
   ],
   "source": [
    "# Drop columns that we want to ignore (i.e. 0)\n",
    "model_df = df.drop(typefeature_dict[0], axis = 1)\n",
    "len(model_df.columns)"
   ]
  },
  {
   "cell_type": "code",
   "execution_count": null,
   "metadata": {
    "collapsed": true
   },
   "outputs": [],
   "source": []
  },
  {
   "cell_type": "code",
   "execution_count": 860,
   "metadata": {
    "collapsed": false,
    "scrolled": true
   },
   "outputs": [
    {
     "data": {
      "text/plain": [
       "136"
      ]
     },
     "execution_count": 860,
     "metadata": {},
     "output_type": "execute_result"
    }
   ],
   "source": [
    "# One hot encoding for purely categorical\n",
    "model_df = pd.get_dummies(model_df, columns = typefeature_dict[2])\n",
    "len(model_df.columns)"
   ]
  },
  {
   "cell_type": "code",
   "execution_count": 880,
   "metadata": {
    "collapsed": false,
    "scrolled": true
   },
   "outputs": [
    {
     "name": "stdout",
     "output_type": "stream",
     "text": [
      "(18097, 136)\n",
      "(18097, 136)\n",
      "(17776, 136)\n",
      "(15531, 136)\n",
      "(12943, 136)\n",
      "(11265, 136)\n"
     ]
    }
   ],
   "source": [
    "print model_df.shape\n",
    "print model_df[model_df.los_icu > 2].shape #LOS <2 (i.e. not cutting anything out)\n",
    "print model_df[model_df.los_icu > 2.5].shape #LOS <3\n",
    "print model_df[model_df.los_icu > 3].shape #LOS <4\n",
    "print model_df[model_df.los_icu > 3.5].shape #LOS <5\n",
    "print model_df[model_df.los_icu > 4].shape #LOS <5"
   ]
  },
  {
   "cell_type": "code",
   "execution_count": 882,
   "metadata": {
    "collapsed": false
   },
   "outputs": [
    {
     "data": {
      "image/png": "[encoded data removed]",
      "text/plain": [
       "<matplotlib.figure.Figure at 0x7f3326309790>"
      ]
     },
     "metadata": {},
     "output_type": "display_data"
    },
    {
     "data": {
      "text/plain": [
       "<matplotlib.axes._subplots.AxesSubplot at 0x7f332547be10>"
      ]
     },
     "execution_count": 882,
     "metadata": {},
     "output_type": "execute_result"
    },
    {
     "data": {
      "image/png": "[encoded data removed]",
      "text/plain": [
       "<matplotlib.figure.Figure at 0x7f332498e790>"
      ]
     },
     "metadata": {},
     "output_type": "display_data"
    }
   ],
   "source": [
    "model_df.los_icu.hist(bins = 100)\n",
    "plt.show()\n",
    "model_df[model_df.los_icu > 3].los_icu.hist(bins = 100)"
   ]
  },
  {
   "cell_type": "markdown",
   "metadata": {
    "collapsed": true
   },
   "source": [
    "## Transform time series into particular values using function lists"
   ]
  },
  {
   "cell_type": "code",
   "execution_count": 1074,
   "metadata": {
    "collapsed": false,
    "scrolled": true
   },
   "outputs": [],
   "source": [
    "# Runs specific function for one patient over the time period specified in last x hours at hours_out\n",
    "def get_measure(row, feature, function = None, last_x_hrs = 24, num_or_cat = 1, hours_out = 24, outlier_dict = {}, reverse = False):\n",
    "    #print feature\n",
    "    #print row \n",
    "    \n",
    "    events_raw = row[feature]\n",
    "    \n",
    "    time_from_discharge = pd.Timestamp(row.outtime) - pd.Timedelta(str(hours_out) + \"hours\")\n",
    "    #Get index in time series of when to start\n",
    "    \n",
    "    \n",
    "    #i.e. not null\n",
    "    if type(events_raw) == list and events_raw:\n",
    "        events = np.array(events_raw)\n",
    "        start_index = 0\n",
    "        \n",
    "        #Determines when you can start\n",
    "        while ((start_index != len(events)) and (time_from_discharge < pd.Timestamp(events[start_index][0]))):\n",
    "            start_index+=1\n",
    "        \n",
    "        ## Gets most recent     \n",
    "        if function == None:\n",
    "            if (((start_index != len(events))) and (time_from_discharge - pd.Timestamp(events[start_index][0])) < pd.Timedelta(str(last_x_hrs) + 'hours')):\n",
    "                if(num_or_cat == 1):\n",
    "                    if outlier_dict.get(feature) != None:\n",
    "                        if (outlier_dict[feature][0] < events[start_index,2] < outlier_dict[feature][1]):\n",
    "                            return float(events[start_index,2])\n",
    "                    else:\n",
    "                        return float(events[start_index,2])\n",
    "                else:\n",
    "                    return events[start_index,1]\n",
    "\n",
    "        else:\n",
    "            window = start_index\n",
    "            #Gets x numbers before discharge time (assumes 24 hours before d/c time is not included/cleared)\n",
    "            while(window != len(events) and (time_from_discharge - pd.Timestamp(events[window][0])) \\\n",
    "                  < pd.Timedelta(str(last_x_hrs) + 'hours')):\n",
    "                window += 1\n",
    "\n",
    "            ##array with values that are within x last hours\n",
    "            if num_or_cat == 1:\n",
    "                time_series = np.array(events[start_index:window,2]).astype(np.float)\n",
    "                if outlier_dict.get(feature) != None:\n",
    "                    time_series = time_series[(time_series > outlier_dict[feature][0]) & \\\n",
    "                                           (time_series < outlier_dict[feature][1])]\n",
    "#                 if feature == 'Sodium' or feature == 'Temp' or feature == 'WBC':\n",
    "#                     print \"TIME_SERIES: \", time_series\n",
    "                \n",
    "#                 #print time_series\n",
    "                \n",
    "            else:\n",
    "                time_series = np.array(events[start_index:window,1])\n",
    "                \n",
    "            if (time_series.size != 0):\n",
    "#                 if feature == 'Sodium' or feature == 'Temp' or feature == 'WBC':\n",
    "#                     print function, \n",
    "#                     print \": \", function(time_series)\n",
    "                \n",
    "                return function(time_series)\n",
    "\n",
    "    return np.nan"
   ]
  },
  {
   "cell_type": "code",
   "execution_count": 1075,
   "metadata": {
    "collapsed": false
   },
   "outputs": [
    {
     "name": "stdout",
     "output_type": "stream",
     "text": [
      "[ 129.  129.  131.  131.  134.  134.]\n"
     ]
    },
    {
     "data": {
      "text/plain": [
       "array([ 129.,  129.,  131.,  131.,  134.,  134.])"
      ]
     },
     "execution_count": 1075,
     "metadata": {},
     "output_type": "execute_result"
    }
   ],
   "source": [
    "time_series = np.array(df.ix[1, \"Sodium\"])[0:15,2]\n",
    "time_series = time_series.astype(np.float)\n",
    "print time_series\n",
    "time_series[(time_series > 80) & (time_series < 200)]"
   ]
  },
  {
   "cell_type": "code",
   "execution_count": 1076,
   "metadata": {
    "collapsed": true
   },
   "outputs": [],
   "source": [
    "## Runs list of functions on function list on all patients\n",
    "def run_list_measures(df, feature, func_list, last_x_hrs = 24, num_or_cat = 1, hours_out = 24, outlier_dict = {}):\n",
    "    for f in func_list:\n",
    "        if f == None:\n",
    "            df[str(feature) + '_most_recent'] = pd.Series()\n",
    "            df[str(feature) + '_most_recent'] = df.apply(lambda x: get_measure(x,feature, None, last_x_hrs, \n",
    "                                                                               num_or_cat, hours_out, outlier_dict), axis = 1)\n",
    "        else:\n",
    "            df[str(feature) + '_' + f.__name__] = pd.Series()\n",
    "            df[str(feature) + '_' + f.__name__] = df.apply(lambda x: get_measure(x,feature, f, last_x_hrs, \n",
    "                                                                                 num_or_cat, hours_out, outlier_dict), axis = 1)\n",
    "    \n",
    "    #drops original feature time series for modeling purposes\n",
    "    ## COMMENT OUT if you want to hold onto time series\n",
    "    df.drop(feature, axis = 1, inplace = True)\n",
    "    return df"
   ]
  },
  {
   "cell_type": "code",
   "execution_count": null,
   "metadata": {
    "collapsed": false
   },
   "outputs": [],
   "source": []
  },
  {
   "cell_type": "markdown",
   "metadata": {},
   "source": [
    "## Saving current model_df to pickle\n",
    "- Note how much smaller it is now that we only have one value per cell.\n",
    "- needs some work to cut out extraneous labels in categories like in ethnicity for example. "
   ]
  },
  {
   "cell_type": "code",
   "execution_count": 1077,
   "metadata": {
    "collapsed": true
   },
   "outputs": [],
   "source": [
    "outlier_dict = {\n",
    "'Sys_BP ':[20,400],\n",
    "'PEEP':[0, 40],\n",
    "'Heart_Rate':[0, 500],\n",
    "'Mean_BP':[0, 400],\n",
    "'Resp_Rate':[0, 100],\n",
    "'SpO2':[0, 100],\n",
    "'ALT':[0, 10000],\n",
    "'AST':[0, 10000],\n",
    "'Arterial_pH':[5, 9],\n",
    "'Bicarbonate':[0, 80],\n",
    "'Glucose':[0, 1400],\n",
    "'Hematocrit':[0, 500],\n",
    "'Hemoglobin':[0, 50],\n",
    "'SaO2':[0, 100],\n",
    "'BUN':[0, 400],\n",
    "'Albumin':[0, 20],\n",
    "'Calcium':[0, 20],\n",
    "'Creatinine':[0, 80],\n",
    "'INR':[0, 50],\n",
    "'Lactic_Acid':[0, 100],\n",
    "'Magnesium':[0, 20],\n",
    "'Phosphorous':[0, 40],\n",
    "'Potassium':[0, 12],\n",
    "'Total_Bili':[0, 100],\n",
    "'WBC':[0, 150],\n",
    "'Dias_BP':[0, 300],\n",
    "'Temp':[60, 120],\n",
    "'Fi_O2':[0, 100],\n",
    "'Sodium':[80, 200],\n",
    "'Platelets':[0, 3000]\n",
    "}"
   ]
  },
  {
   "cell_type": "code",
   "execution_count": 1078,
   "metadata": {
    "collapsed": false
   },
   "outputs": [],
   "source": [
    "feature_engineered_dict = {\n",
    "'Sys_BP':[None, np.nanmedian, np.nanstd, nanrange], \n",
    "'PEEP':[None, np.nanmax],\n",
    "'BSA':[None],\n",
    "'CVP':[None, np.nanmax],\n",
    "'Cardiac Index':[None],\n",
    "'Cuff_Pressure':[None],\n",
    "'ETT':[None],\n",
    "'GCS_Eyes':[None, nanrange],\n",
    "'Heart_Rate':[None, np.nanmedian, np.nanstd, nanrange],\n",
    "'Resp_Pressure':[None],\n",
    "'Minute_Volume':[None, np.nanmedian],\n",
    "'GCS_Motor':[None, nanrange],\n",
    "'Mean_BP':[None, np.nanmedian, np.nanstd, nanrange],\n",
    "'O2_Flow':[None],\n",
    "'PAP [Systolic]':[None],\n",
    "'PCWP':[None],\n",
    "'Plateau_Pressure':[None],\n",
    "'Pressure_Support':[None],\n",
    "'Resp_Rate':[None, np.nanmedian, np.nanstd, nanrange],\n",
    "'SVR':[None],\n",
    "'Tidal_Volume':[None],\n",
    "'SpO2':[None, np.nanmedian, np.nanstd, nanrange],\n",
    "'GCS_Verbal':[None, nanrange],\n",
    "'Waveform-Vent':[None],\n",
    "'Admit Wt':[None],\n",
    "'ALT':[None, np.nanmedian, nanrange],\n",
    "'AST':[None, np.nanmedian, nanrange],\n",
    "'Alkaline_Phosphate':[None, np.nanmedian, nanrange],\n",
    "'Arterial CO2(Calc)':[None],\n",
    "'Arterial PaCO2':[None],\n",
    "'Arterial PaO2':[None],\n",
    "'Arterial_pH':[None, np.nanmin, np.nanmedian, nanrange],\n",
    "'Bicarbonate':[None, np.nanmedian, nanrange],\n",
    "'D-Dimer (0-500)':[None],\n",
    "'Fibrinogen (150-400)':[None],\n",
    "'Glucose':[None, np.nanmedian, nanrange],\n",
    "'Hematocrit':[None, np.nanmedian, nanrange],\n",
    "'Hemoglobin':[None, np.nanmedian, nanrange],\n",
    "'LDH':[None, np.nanmedian, nanrange],\n",
    "'RBC':[None, np.nanmedian, nanrange],\n",
    "'SaO2':[None, np.nanmedian, np.nanstd, nanrange],\n",
    "'Troponin':[None, np.nanmedian, nanrange],\n",
    "'Vancomycin/Random':[None],\n",
    "'BUN':[None, np.nanmedian, nanrange],\n",
    "'Albumin':[None, np.nanmedian, nanrange],\n",
    "'Calcium':[None, np.nanmedian, nanrange],\n",
    "'Chloride':[None, np.nanmedian, nanrange],\n",
    "'Creatinine':[None, np.nanmedian, nanrange],\n",
    "'INR':[None, np.nanmedian, nanrange],\n",
    "'Lactic_Acid':[None, np.nanmedian, np.nanmax, nanrange],\n",
    "'Magnesium':[None, np.nanmedian, nanrange],\n",
    "'Phosphorous':[None, np.nanmedian, nanrange],\n",
    "'Potassium':[None, np.nanmedian, nanrange],\n",
    "'Total_Bili':[None, np.nanmedian, nanrange],\n",
    "'WBC':[None, np.nanmedian, nanrange],\n",
    "'APRV_Pressure':[None],\n",
    "'Dias_BP':[None, np.nanmedian, np.nanstd, nanrange],\n",
    "'PAP [Diastolic]':[None],\n",
    "'Central Venous Pressure':[None],\n",
    "'Arterial O2 pressure':[None],\n",
    "'Arterial O2 Saturation':[None],\n",
    "'Arterial CO2 Pressure':[None],\n",
    "'Temp':[None, np.nanmedian, np.nanstd, nanrange],\n",
    "'Fi_O2':[None, np.nanmin],\n",
    "'PSV_level':[None],\n",
    "'CK':[None],\n",
    "'TCO2 (calc) Arterial':[None],\n",
    "'Sodium':[None, np.nanmedian, nanrange],\n",
    "'Anion gap':[None],\n",
    "'CPK/MB':[None],\n",
    "'Platelets':[None, np.nanmedian, nanrange],\n",
    "'Fibrinogen':[None, np.nanmedian]\n",
    "}"
   ]
  },
  {
   "cell_type": "code",
   "execution_count": 1079,
   "metadata": {
    "collapsed": false
   },
   "outputs": [],
   "source": [
    "def nanrange(array):\n",
    "    return np.nanmax(array) - np.nanmin(array)"
   ]
  },
  {
   "cell_type": "code",
   "execution_count": 1080,
   "metadata": {
    "collapsed": false
   },
   "outputs": [],
   "source": [
    "def run_all_windows_of_time(df, typefeature_dict, hours_out_list = [24, 36, 48, 60, 72], out_dict = {}, engineered_dict = {}):\n",
    "    model_dfs_by_hour = []\n",
    "    \n",
    "    for hours_out in hours_out_list:\n",
    "         # Drop columns that we want to ignore (i.e. 0)\n",
    "        model_df = df.drop(typefeature_dict[0], axis = 1)\n",
    "    \n",
    "        # One hot encoding for purely categorical\n",
    "        model_df = pd.get_dummies(model_df, columns = typefeature_dict[2])\n",
    "   \n",
    "        #Decrease patient subset to only include requisite amount of days out\n",
    "        model_df = model_df[model_df.los_icu > (float(hours_out) + 24)/24]\n",
    "    \n",
    "        print \"DF to predict %d hour mortality is starting.\" %hours_out\n",
    "        print \"   It has %d of patients.\" %len(model_df)\n",
    "        \n",
    "        counter = 0\n",
    "        print \"First numerical...\"\n",
    "        for x in typefeature_dict[1]:\n",
    "            counter +=1\n",
    "            model_transformed_df = run_list_measures(df = model_df, \n",
    "                                                     feature = x, \n",
    "                                                     func_list = engineered_dict[x], \n",
    "                                                     last_x_hrs = 24,\n",
    "                                                     num_or_cat = 1, \n",
    "                                                     hours_out = hours_out, \n",
    "                                                    outlier_dict = out_dict)\n",
    "            print '\\r{0} %done'.format(counter/len(typefeature_dict[1])*100),\n",
    "        counter = 0\n",
    "        print \"\\nNow categorical...\"\n",
    "        for y in typefeature_dict[4]:\n",
    "            counter +=1\n",
    "            model_transformed_df = run_list_measures(df = model_transformed_df, \n",
    "                                                     feature = y,\n",
    "                                                     func_list = [None], \n",
    "                                                     last_x_hrs = 24,\n",
    "                                                     num_or_cat = 0, \n",
    "                                                     hours_out = hours_out)\n",
    "            print '\\r{0} %done'.format(counter/len(typefeature_dict[4])*100),\n",
    "        categories = []\n",
    "        for x in typefeature_dict[4]:\n",
    "            categories.append(x+\"_most_recent\")\n",
    "        #len(model_transformed_df.columns)\n",
    "        #print model_transformed_df.columns\n",
    "        service_series = model_transformed_df['Service Type_most_recent']\n",
    "        \n",
    "        model_transformed_df = pd.get_dummies(model_transformed_df, columns = categories)\n",
    "        #  len(model_transformed_df.columns)\n",
    "        model_transformed_df.to_pickle('../Pickles/' + str(hours_out) + '_out_model_df.p')\n",
    "        model_dfs_by_hour.append(model_transformed_df)\n",
    "        print \"DF to predict %d hour mortality is complete.\" %hours_out\n",
    "    return service_series, model_dfs_by_hour"
   ]
  },
  {
   "cell_type": "code",
   "execution_count": 1081,
   "metadata": {
    "collapsed": false,
    "scrolled": true
   },
   "outputs": [
    {
     "data": {
      "text/plain": [
       "0.0"
      ]
     },
     "execution_count": 1081,
     "metadata": {},
     "output_type": "execute_result"
    }
   ],
   "source": [
    "# model_dfs_by_hour = run_all_windows_of_time(df, typefeature_dict, hours_out_list= [168])\n",
    "np.nanstd([10.7, 10.7])"
   ]
  },
  {
   "cell_type": "code",
   "execution_count": 1084,
   "metadata": {
    "collapsed": false,
    "scrolled": true
   },
   "outputs": [
    {
     "name": "stdout",
     "output_type": "stream",
     "text": [
      "DF to predict 72 hour mortality is starting.\n",
      "   It has 11265 of patients.\n",
      "First numerical...\n",
      "100.0 %done \n",
      "Now categorical...\n",
      "100.0 %done DF to predict 72 hour mortality is complete.\n",
      "DF to predict 168 hour mortality is starting.\n",
      "   It has 4924 of patients.\n",
      "First numerical...\n",
      "100.0 %done \n",
      "Now categorical...\n",
      "100.0 %done DF to predict 168 hour mortality is complete.\n",
      "DF to predict 336 hour mortality is starting.\n",
      "   It has 1973 of patients.\n",
      "First numerical...\n",
      "100.0 %done \n",
      "Now categorical...\n",
      "100.0 %done DF to predict 336 hour mortality is complete.\n"
     ]
    }
   ],
   "source": [
    "service_series, model_dfs_by_hour = run_all_windows_of_time(df, typefeature_dict, \n",
    "                                                            hours_out_list = [72, 168, 336], \n",
    "                                                            out_dict = outlier_dict,\n",
    "                                                           engineered_dict = feature_engineered_dict)"
   ]
  },
  {
   "cell_type": "code",
   "execution_count": 381,
   "metadata": {
    "collapsed": true
   },
   "outputs": [],
   "source": [
    "# def save_file_pickle(df, num_split):\n",
    "#     length = len(df)\n",
    "#     for i in range(num_split):\n",
    "#         start_time = time.time()\n",
    "#         filename = '../Pickles/backup/short_final_df_' + str(i) + '.p'\n",
    "#         end = (i+1)*length/num_split\n",
    "#         start = (i)*length/num_split\n",
    "#         df[start:end].to_pickle(filename)\n",
    "#         print '\\r', time.time()-start_time, filename, 'done',"
   ]
  },
  {
   "cell_type": "markdown",
   "metadata": {},
   "source": [
    "## Attempt at XGB"
   ]
  },
  {
   "cell_type": "code",
   "execution_count": 782,
   "metadata": {
    "collapsed": true
   },
   "outputs": [],
   "source": [
    "from sklearn.ensemble import RandomForestClassifier, GradientBoostingClassifier\n",
    "from sklearn.linear_model import LogisticRegression\n",
    "from sklearn.metrics import f1_score, precision_score, accuracy_score, recall_score, precision_recall_curve, roc_curve, roc_auc_score\n",
    "from sklearn.cross_validation import train_test_split\n",
    "from sklearn.naive_bayes import GaussianNB\n",
    "from sklearn.svm import SVC\n",
    "from sklearn.tree import DecisionTreeClassifier\n",
    "from sklearn.ensemble import RandomForestClassifier\n",
    "from sklearn.neighbors import KNeighborsClassifier"
   ]
  },
  {
   "cell_type": "code",
   "execution_count": 781,
   "metadata": {
    "collapsed": false,
    "scrolled": false
   },
   "outputs": [],
   "source": [
    "modelable_df = model_transformed_df.drop(list(typefeature_dict[5]), axis = 1)"
   ]
  },
  {
   "cell_type": "code",
   "execution_count": 788,
   "metadata": {
    "collapsed": false
   },
   "outputs": [],
   "source": [
    "model_column_names = list(modelable_df.columns)\n",
    "model_column_names = [x.replace('<', \"_LESS_\") for x in model_column_names]\n",
    "model_column_names = [x.replace('[', \"\") for x in model_column_names]\n",
    "model_column_names = [x.replace(']', \"\") for x in model_column_names]\n",
    "modelable_df.columns = model_column_names"
   ]
  },
  {
   "cell_type": "code",
   "execution_count": 789,
   "metadata": {
    "collapsed": true
   },
   "outputs": [],
   "source": [
    "X = modelable_df.drop(['hospital_expire_flag'], axis = 1)\n",
    "y = modelable_df['hospital_expire_flag']\n",
    "X_train, X_test, y_train, y_test = train_test_split(X,\n",
    "                                                    y,\n",
    "                                                   test_size = 0.30)\n"
   ]
  },
  {
   "cell_type": "code",
   "execution_count": 790,
   "metadata": {
    "collapsed": false
   },
   "outputs": [],
   "source": [
    "#X.Heart_Rate_most_recent.hist(bins = 100)\n",
    "#plt.xlim(xmin = 100, xmax = 180)"
   ]
  },
  {
   "cell_type": "code",
   "execution_count": 791,
   "metadata": {
    "collapsed": false
   },
   "outputs": [],
   "source": [
    "xgb_train = xgb.DMatrix(X_train, missing = np.nan, label = y_train)\n",
    "xgb_test = xgb.DMatrix(X_test, missing = np.nan, label = y_test)\n",
    "xgb_total = xgb.DMatrix(X, missing = np.nan, label = y)"
   ]
  },
  {
   "cell_type": "code",
   "execution_count": 792,
   "metadata": {
    "collapsed": false,
    "scrolled": false
   },
   "outputs": [],
   "source": [
    "params = {'booster': 'gbtree', 'max_depth': 3, 'eta':0.3, 'objective': 'binary:logistic'}"
   ]
  },
  {
   "cell_type": "code",
   "execution_count": 793,
   "metadata": {
    "collapsed": false
   },
   "outputs": [],
   "source": [
    "gbm = xgb.train(dtrain = xgb_train, params=params, num_boost_round = 10)"
   ]
  },
  {
   "cell_type": "code",
   "execution_count": 794,
   "metadata": {
    "collapsed": true
   },
   "outputs": [],
   "source": [
    "preds = gbm.predict(xgb_test)\n",
    "pred_ALL = gbm.predict(xgb_total)"
   ]
  },
  {
   "cell_type": "code",
   "execution_count": 795,
   "metadata": {
    "collapsed": false,
    "scrolled": true
   },
   "outputs": [
    {
     "data": {
      "text/plain": [
       "<matplotlib.axes._subplots.AxesSubplot at 0x7f3373208950>"
      ]
     },
     "execution_count": 795,
     "metadata": {},
     "output_type": "execute_result"
    },
    {
     "data": {
      "image/png": "[encoded data removed]",
      "text/plain": [
       "<matplotlib.figure.Figure at 0x7f337326a090>"
      ]
     },
     "metadata": {},
     "output_type": "display_data"
    }
   ],
   "source": [
    "xgb.plot_importance(gbm)"
   ]
  },
  {
   "cell_type": "code",
   "execution_count": 796,
   "metadata": {
    "collapsed": false,
    "scrolled": false
   },
   "outputs": [
    {
     "data": {
      "text/plain": [
       "<matplotlib.text.Text at 0x7f330c38b890>"
      ]
     },
     "execution_count": 796,
     "metadata": {},
     "output_type": "execute_result"
    },
    {
     "data": {
      "image/png": "[encoded data removed]",
      "text/plain": [
       "<matplotlib.figure.Figure at 0x7f330c11d350>"
      ]
     },
     "metadata": {},
     "output_type": "display_data"
    }
   ],
   "source": [
    "f, ax = plt.subplots(1, 2, figsize = (12, 6))\n",
    "i = 0\n",
    "roc = roc_curve(y_test, preds)\n",
    "roc_ALL = roc_curve(y, pred_ALL)\n",
    "ax[0].plot(roc[0],roc[1], linewidth = 3) \n",
    "ax[0].plot(roc_ALL[0],roc_ALL[1], linewidth = 3) \n",
    "ax[0].set_title('ROC for GENERAL XGB')\n",
    "ax[0].set_xlabel('False Positive Rate')\n",
    "ax[0].set_ylabel('Precision | PPV')\n",
    "\n",
    "pr = precision_recall_curve(y_test, preds)\n",
    "pr_ALL = precision_recall_curve(y, pred_ALL)\n",
    "ax[1].plot(pr[0],pr[1], linewidth = 3) \n",
    "ax[1].plot(pr_ALL[0],pr_ALL[1], linewidth = 3) \n",
    "ax[1].set_title('PR Curve for GENERAL XGB')\n",
    "ax[1].set_xlabel('Precision | PPV')\n",
    "ax[1].set_ylabel('Recall | Sensitivity')"
   ]
  },
  {
   "cell_type": "code",
   "execution_count": 798,
   "metadata": {
    "collapsed": false,
    "scrolled": true
   },
   "outputs": [
    {
     "data": {
      "text/plain": [
       "<matplotlib.collections.PathCollection at 0x7f330c0c61d0>"
      ]
     },
     "execution_count": 798,
     "metadata": {},
     "output_type": "execute_result"
    },
    {
     "data": {
      "image/png": "[encoded data removed]",
      "text/plain": [
       "<matplotlib.figure.Figure at 0x7f3324879f90>"
      ]
     },
     "metadata": {},
     "output_type": "display_data"
    }
   ],
   "source": [
    "plt.figure(figsize= (10,10))\n",
    "plt.scatter(y_test, preds, alpha = 0.03)"
   ]
  },
  {
   "cell_type": "markdown",
   "metadata": {},
   "source": [
    "### Specifying XGB Classifier..."
   ]
  },
  {
   "cell_type": "code",
   "execution_count": 799,
   "metadata": {
    "collapsed": true
   },
   "outputs": [],
   "source": [
    "gbm_classifier = xgb.XGBClassifier()\n",
    "gbm_classifier.fit(X_train, y_train)\n",
    "#gbm_classifier.predict_proba(xgb_test)\n",
    "y_pred_proba = gbm_classifier.predict_proba(X_test)[:,1]\n",
    "y_pred_gbmC = gbm_classifier.predict(X_test)"
   ]
  },
  {
   "cell_type": "code",
   "execution_count": null,
   "metadata": {
    "collapsed": false
   },
   "outputs": [],
   "source": []
  },
  {
   "cell_type": "code",
   "execution_count": 819,
   "metadata": {
    "collapsed": false,
    "scrolled": true
   },
   "outputs": [
    {
     "data": {
      "image/png": "[encoded data removed]",
      "text/plain": [
       "<matplotlib.figure.Figure at 0x7f3326a4c710>"
      ]
     },
     "metadata": {},
     "output_type": "display_data"
    }
   ],
   "source": [
    "# ax, fig = plt.subplots(1, 1)\n",
    "plot = plt.figure(figsize= (50,50))\n",
    "x = xgb.plot_importance(gbm_classifier)"
   ]
  },
  {
   "cell_type": "code",
   "execution_count": 820,
   "metadata": {
    "collapsed": false
   },
   "outputs": [
    {
     "data": {
      "text/plain": [
       "<matplotlib.axes._subplots.AxesSubplot at 0x7f3326c32690>"
      ]
     },
     "execution_count": 820,
     "metadata": {},
     "output_type": "execute_result"
    }
   ],
   "source": [
    "x"
   ]
  },
  {
   "cell_type": "code",
   "execution_count": 801,
   "metadata": {
    "collapsed": false
   },
   "outputs": [
    {
     "name": "stdout",
     "output_type": "stream",
     "text": [
      "The accuracy is: 0.9282\n",
      "The precision is: 0.8966\n",
      "The recall is: 0.6878\n",
      "The f1 score is: 0.7784\n",
      "\n"
     ]
    }
   ],
   "source": [
    "accuracy = accuracy_score(y_test, y_pred_gbmC)\n",
    "print \"The accuracy is: %0.4f\" %accuracy\n",
    "precision = precision_score(y_test, y_pred_gbmC)\n",
    "print \"The precision is: %0.4f\" %precision\n",
    "recall = recall_score(y_test, y_pred_gbmC)\n",
    "print \"The recall is: %0.4f\" %recall\n",
    "f1 = f1_score(y_test, y_pred_gbmC)\n",
    "print \"The f1 score is: %0.4f\" %f1\n",
    "print"
   ]
  },
  {
   "cell_type": "code",
   "execution_count": 802,
   "metadata": {
    "collapsed": false
   },
   "outputs": [
    {
     "data": {
      "text/plain": [
       "<matplotlib.text.Text at 0x7f3327ba2c10>"
      ]
     },
     "execution_count": 802,
     "metadata": {},
     "output_type": "execute_result"
    },
    {
     "data": {
      "image/png": "[encoded data removed]",
      "text/plain": [
       "<matplotlib.figure.Figure at 0x7f330c00db50>"
      ]
     },
     "metadata": {},
     "output_type": "display_data"
    }
   ],
   "source": [
    "f, ax = plt.subplots(1, 2, figsize = (12, 6))\n",
    "i = 0\n",
    "roc = roc_curve(y_test, y_pred_proba)\n",
    "ax[0].plot(roc[0],roc[1], linewidth = 3) \n",
    "ax[0].set_title('ROC for XGB Classifier')\n",
    "ax[0].set_xlabel('False Positive Rate')\n",
    "ax[0].set_ylabel('Precision | PPV')\n",
    "\n",
    "pr = precision_recall_curve(y_test, y_pred_proba)\n",
    "ax[1].plot(pr[0],pr[1], linewidth = 3) \n",
    "ax[1].set_title('PR Curve for  XGB Classifier')\n",
    "ax[1].set_xlabel('Precision | PPV')\n",
    "ax[1].set_ylabel('Recall | Sensitivity')"
   ]
  },
  {
   "cell_type": "code",
   "execution_count": null,
   "metadata": {
    "collapsed": false
   },
   "outputs": [],
   "source": []
  },
  {
   "cell_type": "markdown",
   "metadata": {},
   "source": [
    "## K Nearest Neighbor Attempt"
   ]
  },
  {
   "cell_type": "code",
   "execution_count": 803,
   "metadata": {
    "collapsed": false
   },
   "outputs": [],
   "source": [
    "from sklearn.preprocessing import Imputer\n",
    "imp = Imputer(missing_values='NaN', strategy='median', axis=0)\n",
    "imp_X_train = imp.fit_transform(X_train)\n",
    "imp_X_test = imp.transform(X_test)"
   ]
  },
  {
   "cell_type": "code",
   "execution_count": 804,
   "metadata": {
    "collapsed": false,
    "scrolled": true
   },
   "outputs": [
    {
     "name": "stdout",
     "output_type": "stream",
     "text": [
      "With 1 neighbors, the score was: 0.802025782689\n",
      "With 2 neighbors, the score was: 0.832965009208\n",
      "With 3 neighbors, the score was: 0.833701657459\n",
      "With 4 neighbors, the score was: 0.837753222836\n",
      "With 5 neighbors, the score was: 0.837753222836\n",
      "With 6 neighbors, the score was: 0.836464088398\n",
      "With 7 neighbors, the score was: 0.840515653775\n",
      "With 8 neighbors, the score was: 0.838305709024\n",
      "With 9 neighbors, the score was: 0.842173112339\n",
      "With 10 neighbors, the score was: 0.840515653775\n",
      "0.840515653775\n",
      "\n",
      " The best k is 9 with a score of 0.8422\n"
     ]
    }
   ],
   "source": [
    "# accuracy_scores = []\n",
    "# for k in range(1, 11):\n",
    "#     knear = KNeighborsClassifier(k)\n",
    "#     knear.fit(imp_X_train, y_train)\n",
    "#     y_pred_knn = knear.predict(imp_X_test)\n",
    "#     acc = accuracy_score(y_test, y_pred_knn)\n",
    "#     print(\"With {0} neighbors, the score was: {1}\".format(k, acc))\n",
    "#     accuracy_scores.append(acc)\n",
    "# print acc\n",
    "# print \"\\n The best k is %d with a score of %0.4f\" %(accuracy_scores.index(max(accuracy_scores)) + 1,max(accuracy_scores))"
   ]
  },
  {
   "cell_type": "code",
   "execution_count": 805,
   "metadata": {
    "collapsed": false
   },
   "outputs": [
    {
     "name": "stdout",
     "output_type": "stream",
     "text": [
      "The accuracy is: 0.8422\n",
      "The precision is: 0.7220\n",
      "The recall is: 0.2269\n",
      "The f1 score is: 0.3453\n",
      "\n"
     ]
    }
   ],
   "source": [
    "knear = KNeighborsClassifier(9)\n",
    "knear.fit(imp_X_train, y_train)\n",
    "y_pred_knn = knear.predict(imp_X_test)    \n",
    "accuracy = accuracy_score(y_test, y_pred_knn)\n",
    "print \"The accuracy is: %0.4f\" %accuracy\n",
    "precision = precision_score(y_test, y_pred_knn)\n",
    "print \"The precision is: %0.4f\" %precision\n",
    "recall = recall_score(y_test, y_pred_knn)\n",
    "print \"The recall is: %0.4f\" %recall\n",
    "f1 = f1_score(y_test, y_pred_knn)\n",
    "print \"The f1 score is: %0.4f\" %f1\n",
    "print"
   ]
  },
  {
   "cell_type": "code",
   "execution_count": 806,
   "metadata": {
    "collapsed": true
   },
   "outputs": [],
   "source": [
    "# The accuracy is: 0.9249\n",
    "# The precision is: 0.8865\n",
    "# The recall is: 0.6885\n",
    "# The f1 score is: 0.7751"
   ]
  },
  {
   "cell_type": "markdown",
   "metadata": {},
   "source": [
    "## Attempt at Logistic Regression"
   ]
  },
  {
   "cell_type": "code",
   "execution_count": 807,
   "metadata": {
    "collapsed": true
   },
   "outputs": [],
   "source": [
    "lr = LogisticRegression()\n",
    "lr_fit = lr.fit(imp_X_train, y_train)\n",
    "y_pred_proba_lr = lr.predict_proba(imp_X_test)[:,1]\n",
    "y_pred_lr = lr.predict(imp_X_test)"
   ]
  },
  {
   "cell_type": "code",
   "execution_count": 808,
   "metadata": {
    "collapsed": false
   },
   "outputs": [
    {
     "name": "stdout",
     "output_type": "stream",
     "text": [
      "The accuracy is: 0.9145\n",
      "The precision is: 0.8428\n",
      "The recall is: 0.6566\n",
      "The f1 score is: 0.7381\n",
      "\n"
     ]
    }
   ],
   "source": [
    "accuracy = accuracy_score(y_test, y_pred_lr)\n",
    "print \"The accuracy is: %0.4f\" %accuracy\n",
    "precision = precision_score(y_test, y_pred_lr)\n",
    "print \"The precision is: %0.4f\" %precision\n",
    "recall = recall_score(y_test, y_pred_lr)\n",
    "print \"The recall is: %0.4f\" %recall\n",
    "f1 = f1_score(y_test, y_pred_lr)\n",
    "print \"The f1 score is: %0.4f\" %f1\n",
    "print\n",
    "\n",
    "# XGB Stats\n",
    "# The accuracy is: 0.9249\n",
    "# The precision is: 0.8865\n",
    "# The recall is: 0.6885\n",
    "# The f1 score is: 0.7751\n"
   ]
  },
  {
   "cell_type": "code",
   "execution_count": 809,
   "metadata": {
    "collapsed": false,
    "scrolled": true
   },
   "outputs": [
    {
     "data": {
      "text/plain": [
       "<matplotlib.text.Text at 0x7f3327a08f10>"
      ]
     },
     "execution_count": 809,
     "metadata": {},
     "output_type": "execute_result"
    },
    {
     "data": {
      "image/png": "[encoded data removed]",
      "text/plain": [
       "<matplotlib.figure.Figure at 0x7f3327b138d0>"
      ]
     },
     "metadata": {},
     "output_type": "display_data"
    }
   ],
   "source": [
    "f, ax = plt.subplots(1, 2, figsize = (12, 6))\n",
    "i = 0\n",
    "roc = roc_curve(y_test, y_pred_proba_lr)\n",
    "ax[0].plot(roc[0],roc[1], linewidth = 3) \n",
    "ax[0].set_title('ROC for Logistic Regression')\n",
    "ax[0].set_xlabel('False Positive Rate')\n",
    "ax[0].set_ylabel('Precision | PPV')\n",
    "\n",
    "pr = precision_recall_curve(y_test, y_pred_proba_lr)\n",
    "ax[1].plot(pr[0],pr[1], linewidth = 3) \n",
    "ax[1].set_title('PR Curve for Logistic Regression')\n",
    "ax[1].set_xlabel('Precision | PPV')\n",
    "ax[1].set_ylabel('Recall | Sensitivity')"
   ]
  },
  {
   "cell_type": "code",
   "execution_count": 810,
   "metadata": {
    "collapsed": false
   },
   "outputs": [
    {
     "data": {
      "text/plain": [
       "[('GCS_Eyes_most_recent', -0.5318594122979724),\n",
       " ('GCS_Motor_most_recent', -0.45534993210408009),\n",
       " ('GCS_Verbal_most_recent', -0.38222890275100596),\n",
       " ('PEEP_most_recent', 0.19369296766580624),\n",
       " ('icustay_seq', 0.17323257332581393),\n",
       " ('Hematocrit_most_recent', -0.1580974537376284),\n",
       " ('admission_type_EMERGENCY', 0.15621596060800616),\n",
       " ('Chloride_most_recent', -0.15179891824737862),\n",
       " ('Creatinine_most_recent', 0.15059526684075408),\n",
       " ('admission_type_ELECTIVE', -0.14479462376836721),\n",
       " ('hospstay_seq', 0.10837866627435305),\n",
       " ('CK_most_recent', -0.099756677632414539),\n",
       " ('Arterial O2 pressure_most_recent', 0.096382915484770834),\n",
       " ('Arterial_pH_most_recent', -0.081408543810143327),\n",
       " ('SpO2_most_recent', -0.077130320005102906),\n",
       " ('WBC_most_recent', 0.073489221494977566),\n",
       " ('Fi_O2_most_recent', 0.062915821662770224),\n",
       " ('PCWP_most_recent', -0.06269150516401191),\n",
       " ('Potassium_most_recent', 0.062013045390786323),\n",
       " ('Calcium_most_recent', -0.061395527121357402),\n",
       " ('Arterial O2 Saturation_most_recent', 0.059397313415681136),\n",
       " ('ethnicity_WHITE', 0.058478409723542221),\n",
       " ('TCO2 (calc) Arterial_most_recent', 0.055560093583501204),\n",
       " ('SaO2_most_recent', -0.05299140310622738),\n",
       " ('Alkaline_Phosphate_most_recent', -0.05288075080070171),\n",
       " ('BUN_most_recent', -0.052371540167083695),\n",
       " ('Arterial CO2(Calc)_most_recent', 0.048777266956226091),\n",
       " ('Magnesium_most_recent', -0.047140688454203161),\n",
       " ('Lactic_Acid_most_recent', -0.046162815163538977),\n",
       " ('Glucose_most_recent', 0.044269466930158624),\n",
       " ('LDH_most_recent', 0.037207032834891893),\n",
       " ('PAP Systolic_most_recent', 0.037042108633799441),\n",
       " ('Waveform-Vent_most_recent', -0.0352361567388823),\n",
       " ('RBC_most_recent', -0.034970971448890664),\n",
       " ('ethnicity_UNKNOWN/NOT SPECIFIED', 0.031752942046216953),\n",
       " ('ethnicity_BLACK/AFRICAN AMERICAN', -0.030835836291651764),\n",
       " ('Cuff_Pressure_most_recent', 0.028648245751636346),\n",
       " ('Total_Bili_most_recent', 0.026176454260934241),\n",
       " ('Vancomycin/Random_most_recent', 0.023852142416484139),\n",
       " ('age', 0.022476802566305503),\n",
       " ('Heart_Rate_most_recent', 0.021524774742103198),\n",
       " ('O2_Flow_most_recent', 0.021315028847259002),\n",
       " ('CVP_most_recent', 0.02120002830613325),\n",
       " ('Troponin_most_recent', 0.020783533796948316),\n",
       " ('gender', -0.020782807980682865),\n",
       " ('Sys_BP_most_recent', -0.019601411057190994),\n",
       " ('los_hospital', -0.01836208095420367),\n",
       " ('ethnicity_ASIAN', -0.017360382834236448),\n",
       " ('Plateau_Pressure_most_recent', 0.016923948776402437),\n",
       " ('ethnicity_HISPANIC OR LATINO', -0.016197240126917502),\n",
       " ('Cardiac Index_most_recent', 0.015926844254406342),\n",
       " ('Anion gap_most_recent', 0.015458263397526772),\n",
       " ('INR_most_recent', 0.013318911644340334),\n",
       " ('APRV_Pressure_most_recent', -0.013271722702393463),\n",
       " ('Dias_BP_most_recent', -0.012483026007297346),\n",
       " ('Pressure_Support_most_recent', 0.011123801283943304),\n",
       " ('los_icu', 0.011103203843887268),\n",
       " ('Resp_Pressure_most_recent', 0.010961853435443245),\n",
       " ('Sodium_most_recent', 0.010906805235728732),\n",
       " ('Arterial PaO2_most_recent', 0.010768283600802429),\n",
       " ('Mean_BP_most_recent', 0.0095105350399278775),\n",
       " ('admission_type_URGENT', -0.0093407190103157629),\n",
       " ('Albumin_most_recent', -0.0085948128478723386),\n",
       " ('ethnicity_UNABLE TO OBTAIN', 0.0057675770085138765),\n",
       " ('Temp_most_recent', 0.0049814151404076927),\n",
       " ('ethnicity_WHITE - RUSSIAN', -0.0048519248556696433),\n",
       " ('ethnicity_ASIAN - CHINESE', -0.0047467794874281113),\n",
       " ('Arterial CO2 Pressure_most_recent', 0.0045133487440357865),\n",
       " ('ethnicity_BLACK/CAPE VERDEAN', -0.0043879660342248696),\n",
       " ('ethnicity_BLACK/HAITIAN', -0.0042112332104473262),\n",
       " ('ethnicity_HISPANIC/LATINO - DOMINICAN', -0.0040144450575069308),\n",
       " ('ethnicity_HISPANIC/LATINO - PUERTO RICAN', 0.00393438727301743),\n",
       " ('ethnicity_WHITE - BRAZILIAN', -0.0039333822399941522),\n",
       " ('Minute_Volume_most_recent', 0.0039126920911602492),\n",
       " ('ethnicity_ASIAN - ASIAN INDIAN', -0.0031600763123766978),\n",
       " ('PAP Diastolic_most_recent', -0.0024629081302040418),\n",
       " ('CPK/MB_most_recent', -0.0023279696706104821),\n",
       " ('ethnicity_WHITE - OTHER EUROPEAN', 0.002184535407611351),\n",
       " ('BSA_most_recent', 0.0021666772647034541),\n",
       " ('Central Venous Pressure_most_recent', -0.0018802432580355395),\n",
       " ('Arterial PaCO2_most_recent', 0.001798883040933022),\n",
       " ('ethnicity_ASIAN - OTHER', 0.001508823301379444),\n",
       " ('ethnicity_PATIENT DECLINED TO ANSWER', 0.0013368940530463496),\n",
       " ('ethnicity_ASIAN - CAMBODIAN', -0.0010238199548833862),\n",
       " ('ethnicity_MULTI RACE ETHNICITY', -0.0010164047032382825),\n",
       " ('ethnicity_ASIAN - KOREAN', -0.00094121589194552159),\n",
       " ('ethnicity_BLACK/AFRICAN', -0.00086158659032497197),\n",
       " ('Admit Wt_most_recent', -0.00079437951642512576),\n",
       " ('ethnicity_OTHER', -0.00076085293158920488),\n",
       " ('D-Dimer (0-500)_most_recent', -0.00075867091442453579),\n",
       " ('Resp_Rate_most_recent', 0.00075625598606287919),\n",
       " ('Platelets_most_recent', 0.00068821697091865685),\n",
       " ('ethnicity_WHITE - EASTERN EUROPEAN', -0.0006778338895792285),\n",
       " ('SVR_most_recent', 0.00067320069049486429),\n",
       " ('ethnicity_AMERICAN INDIAN/ALASKA NATIVE', -0.00061200371086720794),\n",
       " ('ethnicity_HISPANIC/LATINO - CUBAN', -0.00057507077184619168),\n",
       " ('ethnicity_HISPANIC/LATINO - GUATEMALAN', -0.00056961307226637741),\n",
       " ('ethnicity_PORTUGUESE', -0.00053340347883506286),\n",
       " ('ALT_most_recent', 0.00049017919219154923),\n",
       " ('ethnicity_NATIVE HAWAIIAN OR OTHER PACIFIC ISLANDER',\n",
       "  -0.00047064636687330302),\n",
       " ('ethnicity_ASIAN - VIETNAMESE', -0.00041343068650303997),\n",
       " ('ethnicity_MIDDLE EASTERN', 0.00041171946652194657),\n",
       " ('ethnicity_HISPANIC/LATINO - COLOMBIAN', -0.00040610977038138671),\n",
       " ('Hemoglobin_most_recent', 0.00040350042694901065),\n",
       " ('ETT_most_recent', 0.00035412908886261265),\n",
       " ('AST_most_recent', 0.00031255832438278062),\n",
       " ('ethnicity_HISPANIC/LATINO - SALVADORAN', -0.00029861208596798216),\n",
       " ('Fibrinogen (150-400)_most_recent', 0.00028409590297465734),\n",
       " ('Phosphorous_most_recent', -0.00027625561661056132),\n",
       " ('ethnicity_HISPANIC/LATINO - MEXICAN', -0.00022555302678053252),\n",
       " ('ethnicity_AMERICAN INDIAN/ALASKA NATIVE FEDERALLY RECOGNIZED TRIBE',\n",
       "  0.00017227104661509052),\n",
       " ('Bicarbonate_most_recent', 0.0001712265710504703),\n",
       " ('ethnicity_CARIBBEAN ISLAND', -0.00012384854627976559),\n",
       " ('ethnicity_SOUTH AMERICAN', -0.00011224769549020939),\n",
       " ('ethnicity_ASIAN - THAI', -9.5058082953566729e-05),\n",
       " ('PSV_level_most_recent', -8.5432037918888642e-05),\n",
       " ('ethnicity_HISPANIC/LATINO - CENTRAL AMERICAN (OTHER)',\n",
       "  -7.6860083932437165e-05),\n",
       " ('ethnicity_ASIAN - JAPANESE', 4.5559967786656832e-05),\n",
       " ('Tidal_Volume_most_recent', -3.3989940668532437e-05),\n",
       " ('ethnicity_ASIAN - FILIPINO', -1.9063673935210918e-05),\n",
       " ('ethnicity_HISPANIC/LATINO - HONDURAN', 0.0)]"
      ]
     },
     "execution_count": 810,
     "metadata": {},
     "output_type": "execute_result"
    }
   ],
   "source": [
    "lr_coef = zip(X_train.columns, lr.coef_[0])\n",
    "lr_coef.sort(key = lambda x: abs(x[1]), reverse = True)\n",
    "lr_coef"
   ]
  },
  {
   "cell_type": "markdown",
   "metadata": {},
   "source": [
    "### Creating the scatter plot df\n",
    "sorry it's disorganized"
   ]
  },
  {
   "cell_type": "code",
   "execution_count": 920,
   "metadata": {
    "collapsed": false,
    "scrolled": true
   },
   "outputs": [
    {
     "data": {
      "text/plain": [
       "0    [[2101-10-25 20:00:00, MICU, nan, ], [2101-10-...\n",
       "1    [[2175-06-02 13:00:00, NSICU, nan, ], [2175-06...\n",
       "2    [[2149-11-13 20:30:00, NSICU, nan, ], [2149-11...\n",
       "3    [[2104-08-14 17:00:00, NSICU, nan, ], [2104-08...\n",
       "4    [[2167-01-11 10:30:00, CSRU, nan, ], [2167-01-...\n",
       "Name: Service Type, dtype: object"
      ]
     },
     "execution_count": 920,
     "metadata": {},
     "output_type": "execute_result"
    }
   ],
   "source": [
    "df['Service Type'].head()"
   ]
  },
  {
   "cell_type": "code",
   "execution_count": null,
   "metadata": {
    "collapsed": true
   },
   "outputs": [],
   "source": [
    "visualization_df = model_transformed_df.copy()"
   ]
  },
  {
   "cell_type": "code",
   "execution_count": null,
   "metadata": {
    "collapsed": true
   },
   "outputs": [],
   "source": [
    "visualization_df['Prob_Mortality'] = pred_ALL"
   ]
  },
  {
   "cell_type": "code",
   "execution_count": 948,
   "metadata": {
    "collapsed": true
   },
   "outputs": [],
   "source": [
    "scatter_df = visualization_df[['Prob_Mortality', 'icustay_id', 'age', 'los_icu', 'hospital_expire_flag']]"
   ]
  },
  {
   "cell_type": "code",
   "execution_count": 949,
   "metadata": {
    "collapsed": false,
    "scrolled": false
   },
   "outputs": [
    {
     "data": {
      "text/html": [
       "<div>\n",
       "<table border=\"1\" class=\"dataframe\">\n",
       "  <thead>\n",
       "    <tr style=\"text-align: right;\">\n",
       "      <th></th>\n",
       "      <th>Prob_Mortality</th>\n",
       "      <th>icustay_id</th>\n",
       "      <th>age</th>\n",
       "      <th>los_icu</th>\n",
       "      <th>hospital_expire_flag</th>\n",
       "    </tr>\n",
       "  </thead>\n",
       "  <tbody>\n",
       "    <tr>\n",
       "      <th>0</th>\n",
       "      <td>0.05</td>\n",
       "      <td>211552</td>\n",
       "      <td>76.52</td>\n",
       "      <td>6.06</td>\n",
       "      <td>0</td>\n",
       "    </tr>\n",
       "    <tr>\n",
       "      <th>1</th>\n",
       "      <td>0.11</td>\n",
       "      <td>228232</td>\n",
       "      <td>65.94</td>\n",
       "      <td>3.67</td>\n",
       "      <td>0</td>\n",
       "    </tr>\n",
       "    <tr>\n",
       "      <th>2</th>\n",
       "      <td>0.86</td>\n",
       "      <td>220597</td>\n",
       "      <td>41.79</td>\n",
       "      <td>5.32</td>\n",
       "      <td>1</td>\n",
       "    </tr>\n",
       "    <tr>\n",
       "      <th>3</th>\n",
       "      <td>0.13</td>\n",
       "      <td>232669</td>\n",
       "      <td>72.37</td>\n",
       "      <td>7.63</td>\n",
       "      <td>1</td>\n",
       "    </tr>\n",
       "    <tr>\n",
       "      <th>4</th>\n",
       "      <td>0.06</td>\n",
       "      <td>263738</td>\n",
       "      <td>39.86</td>\n",
       "      <td>3.67</td>\n",
       "      <td>0</td>\n",
       "    </tr>\n",
       "    <tr>\n",
       "      <th>5</th>\n",
       "      <td>0.85</td>\n",
       "      <td>216859</td>\n",
       "      <td>87.82</td>\n",
       "      <td>8.36</td>\n",
       "      <td>1</td>\n",
       "    </tr>\n",
       "    <tr>\n",
       "      <th>6</th>\n",
       "      <td>0.04</td>\n",
       "      <td>203487</td>\n",
       "      <td>58.95</td>\n",
       "      <td>3.55</td>\n",
       "      <td>0</td>\n",
       "    </tr>\n",
       "    <tr>\n",
       "      <th>7</th>\n",
       "      <td>0.83</td>\n",
       "      <td>254478</td>\n",
       "      <td>72.26</td>\n",
       "      <td>7.94</td>\n",
       "      <td>1</td>\n",
       "    </tr>\n",
       "    <tr>\n",
       "      <th>8</th>\n",
       "      <td>0.05</td>\n",
       "      <td>295037</td>\n",
       "      <td>45.51</td>\n",
       "      <td>7.69</td>\n",
       "      <td>0</td>\n",
       "    </tr>\n",
       "    <tr>\n",
       "      <th>9</th>\n",
       "      <td>0.05</td>\n",
       "      <td>282039</td>\n",
       "      <td>69.44</td>\n",
       "      <td>5.38</td>\n",
       "      <td>0</td>\n",
       "    </tr>\n",
       "    <tr>\n",
       "      <th>10</th>\n",
       "      <td>0.14</td>\n",
       "      <td>241249</td>\n",
       "      <td>72.73</td>\n",
       "      <td>4.35</td>\n",
       "      <td>0</td>\n",
       "    </tr>\n",
       "    <tr>\n",
       "      <th>11</th>\n",
       "      <td>0.06</td>\n",
       "      <td>248910</td>\n",
       "      <td>75.94</td>\n",
       "      <td>25.55</td>\n",
       "      <td>0</td>\n",
       "    </tr>\n",
       "    <tr>\n",
       "      <th>12</th>\n",
       "      <td>0.06</td>\n",
       "      <td>237024</td>\n",
       "      <td>56.63</td>\n",
       "      <td>3.15</td>\n",
       "      <td>0</td>\n",
       "    </tr>\n",
       "    <tr>\n",
       "      <th>13</th>\n",
       "      <td>0.04</td>\n",
       "      <td>225852</td>\n",
       "      <td>32.77</td>\n",
       "      <td>4.63</td>\n",
       "      <td>0</td>\n",
       "    </tr>\n",
       "    <tr>\n",
       "      <th>14</th>\n",
       "      <td>0.11</td>\n",
       "      <td>291554</td>\n",
       "      <td>80.18</td>\n",
       "      <td>4.15</td>\n",
       "      <td>0</td>\n",
       "    </tr>\n",
       "    <tr>\n",
       "      <th>15</th>\n",
       "      <td>0.13</td>\n",
       "      <td>252348</td>\n",
       "      <td>54.65</td>\n",
       "      <td>2.56</td>\n",
       "      <td>0</td>\n",
       "    </tr>\n",
       "    <tr>\n",
       "      <th>16</th>\n",
       "      <td>0.05</td>\n",
       "      <td>244776</td>\n",
       "      <td>26.56</td>\n",
       "      <td>3.33</td>\n",
       "      <td>0</td>\n",
       "    </tr>\n",
       "    <tr>\n",
       "      <th>17</th>\n",
       "      <td>0.13</td>\n",
       "      <td>272667</td>\n",
       "      <td>41.85</td>\n",
       "      <td>6.40</td>\n",
       "      <td>0</td>\n",
       "    </tr>\n",
       "    <tr>\n",
       "      <th>18</th>\n",
       "      <td>0.33</td>\n",
       "      <td>211832</td>\n",
       "      <td>36.50</td>\n",
       "      <td>2.86</td>\n",
       "      <td>0</td>\n",
       "    </tr>\n",
       "    <tr>\n",
       "      <th>19</th>\n",
       "      <td>0.94</td>\n",
       "      <td>256972</td>\n",
       "      <td>81.57</td>\n",
       "      <td>3.48</td>\n",
       "      <td>1</td>\n",
       "    </tr>\n",
       "    <tr>\n",
       "      <th>20</th>\n",
       "      <td>0.39</td>\n",
       "      <td>213450</td>\n",
       "      <td>74.95</td>\n",
       "      <td>22.90</td>\n",
       "      <td>0</td>\n",
       "    </tr>\n",
       "    <tr>\n",
       "      <th>21</th>\n",
       "      <td>0.10</td>\n",
       "      <td>211943</td>\n",
       "      <td>38.49</td>\n",
       "      <td>20.03</td>\n",
       "      <td>0</td>\n",
       "    </tr>\n",
       "    <tr>\n",
       "      <th>22</th>\n",
       "      <td>0.07</td>\n",
       "      <td>288376</td>\n",
       "      <td>73.39</td>\n",
       "      <td>4.48</td>\n",
       "      <td>0</td>\n",
       "    </tr>\n",
       "    <tr>\n",
       "      <th>23</th>\n",
       "      <td>0.18</td>\n",
       "      <td>233111</td>\n",
       "      <td>82.18</td>\n",
       "      <td>9.89</td>\n",
       "      <td>1</td>\n",
       "    </tr>\n",
       "    <tr>\n",
       "      <th>24</th>\n",
       "      <td>0.07</td>\n",
       "      <td>212246</td>\n",
       "      <td>60.33</td>\n",
       "      <td>3.02</td>\n",
       "      <td>0</td>\n",
       "    </tr>\n",
       "    <tr>\n",
       "      <th>25</th>\n",
       "      <td>0.21</td>\n",
       "      <td>294980</td>\n",
       "      <td>35.34</td>\n",
       "      <td>5.00</td>\n",
       "      <td>0</td>\n",
       "    </tr>\n",
       "    <tr>\n",
       "      <th>26</th>\n",
       "      <td>0.96</td>\n",
       "      <td>252051</td>\n",
       "      <td>28.36</td>\n",
       "      <td>6.17</td>\n",
       "      <td>1</td>\n",
       "    </tr>\n",
       "    <tr>\n",
       "      <th>27</th>\n",
       "      <td>0.07</td>\n",
       "      <td>214027</td>\n",
       "      <td>24.93</td>\n",
       "      <td>3.22</td>\n",
       "      <td>0</td>\n",
       "    </tr>\n",
       "    <tr>\n",
       "      <th>28</th>\n",
       "      <td>0.04</td>\n",
       "      <td>254245</td>\n",
       "      <td>66.77</td>\n",
       "      <td>10.57</td>\n",
       "      <td>0</td>\n",
       "    </tr>\n",
       "    <tr>\n",
       "      <th>29</th>\n",
       "      <td>0.11</td>\n",
       "      <td>232514</td>\n",
       "      <td>75.74</td>\n",
       "      <td>7.13</td>\n",
       "      <td>0</td>\n",
       "    </tr>\n",
       "    <tr>\n",
       "      <th>...</th>\n",
       "      <td>...</td>\n",
       "      <td>...</td>\n",
       "      <td>...</td>\n",
       "      <td>...</td>\n",
       "      <td>...</td>\n",
       "    </tr>\n",
       "    <tr>\n",
       "      <th>18067</th>\n",
       "      <td>0.04</td>\n",
       "      <td>226190</td>\n",
       "      <td>63.89</td>\n",
       "      <td>3.17</td>\n",
       "      <td>0</td>\n",
       "    </tr>\n",
       "    <tr>\n",
       "      <th>18068</th>\n",
       "      <td>0.05</td>\n",
       "      <td>262109</td>\n",
       "      <td>56.43</td>\n",
       "      <td>10.54</td>\n",
       "      <td>0</td>\n",
       "    </tr>\n",
       "    <tr>\n",
       "      <th>18069</th>\n",
       "      <td>0.04</td>\n",
       "      <td>239830</td>\n",
       "      <td>72.06</td>\n",
       "      <td>5.07</td>\n",
       "      <td>0</td>\n",
       "    </tr>\n",
       "    <tr>\n",
       "      <th>18070</th>\n",
       "      <td>0.77</td>\n",
       "      <td>236983</td>\n",
       "      <td>42.28</td>\n",
       "      <td>31.16</td>\n",
       "      <td>1</td>\n",
       "    </tr>\n",
       "    <tr>\n",
       "      <th>18071</th>\n",
       "      <td>0.39</td>\n",
       "      <td>267661</td>\n",
       "      <td>72.40</td>\n",
       "      <td>14.22</td>\n",
       "      <td>0</td>\n",
       "    </tr>\n",
       "    <tr>\n",
       "      <th>18072</th>\n",
       "      <td>0.07</td>\n",
       "      <td>281746</td>\n",
       "      <td>61.26</td>\n",
       "      <td>3.12</td>\n",
       "      <td>0</td>\n",
       "    </tr>\n",
       "    <tr>\n",
       "      <th>18073</th>\n",
       "      <td>0.39</td>\n",
       "      <td>225994</td>\n",
       "      <td>57.76</td>\n",
       "      <td>4.26</td>\n",
       "      <td>0</td>\n",
       "    </tr>\n",
       "    <tr>\n",
       "      <th>18074</th>\n",
       "      <td>0.16</td>\n",
       "      <td>245915</td>\n",
       "      <td>70.62</td>\n",
       "      <td>4.87</td>\n",
       "      <td>1</td>\n",
       "    </tr>\n",
       "    <tr>\n",
       "      <th>18075</th>\n",
       "      <td>0.95</td>\n",
       "      <td>297672</td>\n",
       "      <td>61.30</td>\n",
       "      <td>4.11</td>\n",
       "      <td>1</td>\n",
       "    </tr>\n",
       "    <tr>\n",
       "      <th>18076</th>\n",
       "      <td>0.16</td>\n",
       "      <td>211489</td>\n",
       "      <td>49.28</td>\n",
       "      <td>14.79</td>\n",
       "      <td>0</td>\n",
       "    </tr>\n",
       "    <tr>\n",
       "      <th>18077</th>\n",
       "      <td>0.21</td>\n",
       "      <td>240303</td>\n",
       "      <td>52.10</td>\n",
       "      <td>19.85</td>\n",
       "      <td>0</td>\n",
       "    </tr>\n",
       "    <tr>\n",
       "      <th>18078</th>\n",
       "      <td>0.09</td>\n",
       "      <td>219261</td>\n",
       "      <td>75.63</td>\n",
       "      <td>3.75</td>\n",
       "      <td>0</td>\n",
       "    </tr>\n",
       "    <tr>\n",
       "      <th>18079</th>\n",
       "      <td>0.11</td>\n",
       "      <td>216757</td>\n",
       "      <td>42.69</td>\n",
       "      <td>28.73</td>\n",
       "      <td>0</td>\n",
       "    </tr>\n",
       "    <tr>\n",
       "      <th>18080</th>\n",
       "      <td>0.05</td>\n",
       "      <td>215004</td>\n",
       "      <td>87.90</td>\n",
       "      <td>5.24</td>\n",
       "      <td>0</td>\n",
       "    </tr>\n",
       "    <tr>\n",
       "      <th>18081</th>\n",
       "      <td>0.13</td>\n",
       "      <td>208873</td>\n",
       "      <td>88.55</td>\n",
       "      <td>2.12</td>\n",
       "      <td>0</td>\n",
       "    </tr>\n",
       "    <tr>\n",
       "      <th>18082</th>\n",
       "      <td>0.06</td>\n",
       "      <td>204236</td>\n",
       "      <td>60.00</td>\n",
       "      <td>3.71</td>\n",
       "      <td>0</td>\n",
       "    </tr>\n",
       "    <tr>\n",
       "      <th>18083</th>\n",
       "      <td>0.78</td>\n",
       "      <td>245756</td>\n",
       "      <td>86.96</td>\n",
       "      <td>9.14</td>\n",
       "      <td>1</td>\n",
       "    </tr>\n",
       "    <tr>\n",
       "      <th>18084</th>\n",
       "      <td>0.09</td>\n",
       "      <td>226541</td>\n",
       "      <td>68.83</td>\n",
       "      <td>6.12</td>\n",
       "      <td>0</td>\n",
       "    </tr>\n",
       "    <tr>\n",
       "      <th>18085</th>\n",
       "      <td>0.08</td>\n",
       "      <td>236183</td>\n",
       "      <td>84.54</td>\n",
       "      <td>12.09</td>\n",
       "      <td>0</td>\n",
       "    </tr>\n",
       "    <tr>\n",
       "      <th>18086</th>\n",
       "      <td>0.06</td>\n",
       "      <td>292375</td>\n",
       "      <td>71.09</td>\n",
       "      <td>3.17</td>\n",
       "      <td>0</td>\n",
       "    </tr>\n",
       "    <tr>\n",
       "      <th>18087</th>\n",
       "      <td>0.04</td>\n",
       "      <td>291007</td>\n",
       "      <td>17.95</td>\n",
       "      <td>3.55</td>\n",
       "      <td>0</td>\n",
       "    </tr>\n",
       "    <tr>\n",
       "      <th>18088</th>\n",
       "      <td>0.05</td>\n",
       "      <td>213906</td>\n",
       "      <td>NaN</td>\n",
       "      <td>3.82</td>\n",
       "      <td>0</td>\n",
       "    </tr>\n",
       "    <tr>\n",
       "      <th>18089</th>\n",
       "      <td>0.09</td>\n",
       "      <td>296707</td>\n",
       "      <td>80.84</td>\n",
       "      <td>7.28</td>\n",
       "      <td>0</td>\n",
       "    </tr>\n",
       "    <tr>\n",
       "      <th>18090</th>\n",
       "      <td>0.11</td>\n",
       "      <td>252442</td>\n",
       "      <td>26.95</td>\n",
       "      <td>2.88</td>\n",
       "      <td>0</td>\n",
       "    </tr>\n",
       "    <tr>\n",
       "      <th>18091</th>\n",
       "      <td>0.07</td>\n",
       "      <td>221067</td>\n",
       "      <td>85.48</td>\n",
       "      <td>4.05</td>\n",
       "      <td>0</td>\n",
       "    </tr>\n",
       "    <tr>\n",
       "      <th>18092</th>\n",
       "      <td>0.80</td>\n",
       "      <td>243255</td>\n",
       "      <td>63.19</td>\n",
       "      <td>5.67</td>\n",
       "      <td>1</td>\n",
       "    </tr>\n",
       "    <tr>\n",
       "      <th>18093</th>\n",
       "      <td>0.05</td>\n",
       "      <td>257127</td>\n",
       "      <td>68.05</td>\n",
       "      <td>2.87</td>\n",
       "      <td>0</td>\n",
       "    </tr>\n",
       "    <tr>\n",
       "      <th>18094</th>\n",
       "      <td>0.08</td>\n",
       "      <td>239827</td>\n",
       "      <td>65.38</td>\n",
       "      <td>6.17</td>\n",
       "      <td>0</td>\n",
       "    </tr>\n",
       "    <tr>\n",
       "      <th>18095</th>\n",
       "      <td>0.04</td>\n",
       "      <td>279638</td>\n",
       "      <td>53.81</td>\n",
       "      <td>11.30</td>\n",
       "      <td>0</td>\n",
       "    </tr>\n",
       "    <tr>\n",
       "      <th>18096</th>\n",
       "      <td>0.04</td>\n",
       "      <td>226241</td>\n",
       "      <td>47.72</td>\n",
       "      <td>3.14</td>\n",
       "      <td>0</td>\n",
       "    </tr>\n",
       "  </tbody>\n",
       "</table>\n",
       "<p>18097 rows × 5 columns</p>\n",
       "</div>"
      ],
      "text/plain": [
       "       Prob_Mortality  icustay_id    age  los_icu  hospital_expire_flag\n",
       "0                0.05      211552  76.52     6.06                     0\n",
       "1                0.11      228232  65.94     3.67                     0\n",
       "2                0.86      220597  41.79     5.32                     1\n",
       "3                0.13      232669  72.37     7.63                     1\n",
       "4                0.06      263738  39.86     3.67                     0\n",
       "5                0.85      216859  87.82     8.36                     1\n",
       "6                0.04      203487  58.95     3.55                     0\n",
       "7                0.83      254478  72.26     7.94                     1\n",
       "8                0.05      295037  45.51     7.69                     0\n",
       "9                0.05      282039  69.44     5.38                     0\n",
       "10               0.14      241249  72.73     4.35                     0\n",
       "11               0.06      248910  75.94    25.55                     0\n",
       "12               0.06      237024  56.63     3.15                     0\n",
       "13               0.04      225852  32.77     4.63                     0\n",
       "14               0.11      291554  80.18     4.15                     0\n",
       "15               0.13      252348  54.65     2.56                     0\n",
       "16               0.05      244776  26.56     3.33                     0\n",
       "17               0.13      272667  41.85     6.40                     0\n",
       "18               0.33      211832  36.50     2.86                     0\n",
       "19               0.94      256972  81.57     3.48                     1\n",
       "20               0.39      213450  74.95    22.90                     0\n",
       "21               0.10      211943  38.49    20.03                     0\n",
       "22               0.07      288376  73.39     4.48                     0\n",
       "23               0.18      233111  82.18     9.89                     1\n",
       "24               0.07      212246  60.33     3.02                     0\n",
       "25               0.21      294980  35.34     5.00                     0\n",
       "26               0.96      252051  28.36     6.17                     1\n",
       "27               0.07      214027  24.93     3.22                     0\n",
       "28               0.04      254245  66.77    10.57                     0\n",
       "29               0.11      232514  75.74     7.13                     0\n",
       "...               ...         ...    ...      ...                   ...\n",
       "18067            0.04      226190  63.89     3.17                     0\n",
       "18068            0.05      262109  56.43    10.54                     0\n",
       "18069            0.04      239830  72.06     5.07                     0\n",
       "18070            0.77      236983  42.28    31.16                     1\n",
       "18071            0.39      267661  72.40    14.22                     0\n",
       "18072            0.07      281746  61.26     3.12                     0\n",
       "18073            0.39      225994  57.76     4.26                     0\n",
       "18074            0.16      245915  70.62     4.87                     1\n",
       "18075            0.95      297672  61.30     4.11                     1\n",
       "18076            0.16      211489  49.28    14.79                     0\n",
       "18077            0.21      240303  52.10    19.85                     0\n",
       "18078            0.09      219261  75.63     3.75                     0\n",
       "18079            0.11      216757  42.69    28.73                     0\n",
       "18080            0.05      215004  87.90     5.24                     0\n",
       "18081            0.13      208873  88.55     2.12                     0\n",
       "18082            0.06      204236  60.00     3.71                     0\n",
       "18083            0.78      245756  86.96     9.14                     1\n",
       "18084            0.09      226541  68.83     6.12                     0\n",
       "18085            0.08      236183  84.54    12.09                     0\n",
       "18086            0.06      292375  71.09     3.17                     0\n",
       "18087            0.04      291007  17.95     3.55                     0\n",
       "18088            0.05      213906    NaN     3.82                     0\n",
       "18089            0.09      296707  80.84     7.28                     0\n",
       "18090            0.11      252442  26.95     2.88                     0\n",
       "18091            0.07      221067  85.48     4.05                     0\n",
       "18092            0.80      243255  63.19     5.67                     1\n",
       "18093            0.05      257127  68.05     2.87                     0\n",
       "18094            0.08      239827  65.38     6.17                     0\n",
       "18095            0.04      279638  53.81    11.30                     0\n",
       "18096            0.04      226241  47.72     3.14                     0\n",
       "\n",
       "[18097 rows x 5 columns]"
      ]
     },
     "execution_count": 949,
     "metadata": {},
     "output_type": "execute_result"
    }
   ],
   "source": [
    "scatter_df.round(decimals = 2)"
   ]
  },
  {
   "cell_type": "code",
   "execution_count": 950,
   "metadata": {
    "collapsed": true
   },
   "outputs": [],
   "source": [
    "services_df = pd.read_pickle(\"../Pickles/services.p\")"
   ]
  },
  {
   "cell_type": "code",
   "execution_count": 951,
   "metadata": {
    "collapsed": true
   },
   "outputs": [],
   "source": [
    "scatter_df = scatter_df.merge(services_df, on = 'icustay_id')"
   ]
  },
  {
   "cell_type": "code",
   "execution_count": 952,
   "metadata": {
    "collapsed": false,
    "scrolled": true
   },
   "outputs": [
    {
     "data": {
      "text/html": [
       "<div>\n",
       "<table border=\"1\" class=\"dataframe\">\n",
       "  <thead>\n",
       "    <tr style=\"text-align: right;\">\n",
       "      <th></th>\n",
       "      <th>Prob_Mortality</th>\n",
       "      <th>icustay_id</th>\n",
       "      <th>age</th>\n",
       "      <th>los_icu</th>\n",
       "      <th>hospital_expire_flag</th>\n",
       "      <th>first_careunit</th>\n",
       "    </tr>\n",
       "  </thead>\n",
       "  <tbody>\n",
       "    <tr>\n",
       "      <th>0</th>\n",
       "      <td>0.051163</td>\n",
       "      <td>211552</td>\n",
       "      <td>76.5246</td>\n",
       "      <td>6.064560</td>\n",
       "      <td>0</td>\n",
       "      <td>MICU</td>\n",
       "    </tr>\n",
       "    <tr>\n",
       "      <th>1</th>\n",
       "      <td>0.106510</td>\n",
       "      <td>228232</td>\n",
       "      <td>65.9398</td>\n",
       "      <td>3.672917</td>\n",
       "      <td>0</td>\n",
       "      <td>SICU</td>\n",
       "    </tr>\n",
       "    <tr>\n",
       "      <th>2</th>\n",
       "      <td>0.855007</td>\n",
       "      <td>220597</td>\n",
       "      <td>41.7887</td>\n",
       "      <td>5.323056</td>\n",
       "      <td>1</td>\n",
       "      <td>MICU</td>\n",
       "    </tr>\n",
       "    <tr>\n",
       "      <th>3</th>\n",
       "      <td>0.128123</td>\n",
       "      <td>232669</td>\n",
       "      <td>72.3712</td>\n",
       "      <td>7.634815</td>\n",
       "      <td>1</td>\n",
       "      <td>SICU</td>\n",
       "    </tr>\n",
       "    <tr>\n",
       "      <th>4</th>\n",
       "      <td>0.055095</td>\n",
       "      <td>263738</td>\n",
       "      <td>39.8640</td>\n",
       "      <td>3.666042</td>\n",
       "      <td>0</td>\n",
       "      <td>CCU</td>\n",
       "    </tr>\n",
       "    <tr>\n",
       "      <th>5</th>\n",
       "      <td>0.850528</td>\n",
       "      <td>216859</td>\n",
       "      <td>87.8240</td>\n",
       "      <td>8.364722</td>\n",
       "      <td>1</td>\n",
       "      <td>MICU</td>\n",
       "    </tr>\n",
       "    <tr>\n",
       "      <th>6</th>\n",
       "      <td>0.044178</td>\n",
       "      <td>203487</td>\n",
       "      <td>58.9500</td>\n",
       "      <td>3.546574</td>\n",
       "      <td>0</td>\n",
       "      <td>CCU</td>\n",
       "    </tr>\n",
       "    <tr>\n",
       "      <th>7</th>\n",
       "      <td>0.827182</td>\n",
       "      <td>254478</td>\n",
       "      <td>72.2644</td>\n",
       "      <td>7.937940</td>\n",
       "      <td>1</td>\n",
       "      <td>MICU</td>\n",
       "    </tr>\n",
       "    <tr>\n",
       "      <th>8</th>\n",
       "      <td>0.051889</td>\n",
       "      <td>295037</td>\n",
       "      <td>45.5123</td>\n",
       "      <td>7.685417</td>\n",
       "      <td>0</td>\n",
       "      <td>TSICU</td>\n",
       "    </tr>\n",
       "    <tr>\n",
       "      <th>9</th>\n",
       "      <td>0.047776</td>\n",
       "      <td>282039</td>\n",
       "      <td>69.4416</td>\n",
       "      <td>5.375718</td>\n",
       "      <td>0</td>\n",
       "      <td>CSRU</td>\n",
       "    </tr>\n",
       "    <tr>\n",
       "      <th>10</th>\n",
       "      <td>0.135918</td>\n",
       "      <td>241249</td>\n",
       "      <td>72.7271</td>\n",
       "      <td>4.348299</td>\n",
       "      <td>0</td>\n",
       "      <td>MICU</td>\n",
       "    </tr>\n",
       "    <tr>\n",
       "      <th>11</th>\n",
       "      <td>0.055297</td>\n",
       "      <td>248910</td>\n",
       "      <td>75.9414</td>\n",
       "      <td>25.548461</td>\n",
       "      <td>0</td>\n",
       "      <td>CCU</td>\n",
       "    </tr>\n",
       "    <tr>\n",
       "      <th>12</th>\n",
       "      <td>0.058142</td>\n",
       "      <td>237024</td>\n",
       "      <td>56.6337</td>\n",
       "      <td>3.147604</td>\n",
       "      <td>0</td>\n",
       "      <td>CSRU</td>\n",
       "    </tr>\n",
       "    <tr>\n",
       "      <th>13</th>\n",
       "      <td>0.044178</td>\n",
       "      <td>225852</td>\n",
       "      <td>32.7673</td>\n",
       "      <td>4.625162</td>\n",
       "      <td>0</td>\n",
       "      <td>TSICU</td>\n",
       "    </tr>\n",
       "    <tr>\n",
       "      <th>14</th>\n",
       "      <td>0.111158</td>\n",
       "      <td>291554</td>\n",
       "      <td>80.1825</td>\n",
       "      <td>4.149942</td>\n",
       "      <td>0</td>\n",
       "      <td>CSRU</td>\n",
       "    </tr>\n",
       "    <tr>\n",
       "      <th>15</th>\n",
       "      <td>0.130511</td>\n",
       "      <td>252348</td>\n",
       "      <td>54.6542</td>\n",
       "      <td>2.559074</td>\n",
       "      <td>0</td>\n",
       "      <td>MICU</td>\n",
       "    </tr>\n",
       "    <tr>\n",
       "      <th>16</th>\n",
       "      <td>0.052788</td>\n",
       "      <td>244776</td>\n",
       "      <td>26.5632</td>\n",
       "      <td>3.325984</td>\n",
       "      <td>0</td>\n",
       "      <td>TSICU</td>\n",
       "    </tr>\n",
       "    <tr>\n",
       "      <th>17</th>\n",
       "      <td>0.127740</td>\n",
       "      <td>272667</td>\n",
       "      <td>41.8490</td>\n",
       "      <td>6.398333</td>\n",
       "      <td>0</td>\n",
       "      <td>MICU</td>\n",
       "    </tr>\n",
       "    <tr>\n",
       "      <th>18</th>\n",
       "      <td>0.329023</td>\n",
       "      <td>211832</td>\n",
       "      <td>36.5046</td>\n",
       "      <td>2.860903</td>\n",
       "      <td>0</td>\n",
       "      <td>MICU</td>\n",
       "    </tr>\n",
       "    <tr>\n",
       "      <th>19</th>\n",
       "      <td>0.941714</td>\n",
       "      <td>256972</td>\n",
       "      <td>81.5733</td>\n",
       "      <td>3.475000</td>\n",
       "      <td>1</td>\n",
       "      <td>MICU</td>\n",
       "    </tr>\n",
       "    <tr>\n",
       "      <th>20</th>\n",
       "      <td>0.394247</td>\n",
       "      <td>213450</td>\n",
       "      <td>74.9530</td>\n",
       "      <td>22.897731</td>\n",
       "      <td>0</td>\n",
       "      <td>MICU</td>\n",
       "    </tr>\n",
       "    <tr>\n",
       "      <th>21</th>\n",
       "      <td>0.098140</td>\n",
       "      <td>211943</td>\n",
       "      <td>38.4950</td>\n",
       "      <td>20.028877</td>\n",
       "      <td>0</td>\n",
       "      <td>TSICU</td>\n",
       "    </tr>\n",
       "    <tr>\n",
       "      <th>22</th>\n",
       "      <td>0.067180</td>\n",
       "      <td>288376</td>\n",
       "      <td>73.3870</td>\n",
       "      <td>4.477963</td>\n",
       "      <td>0</td>\n",
       "      <td>CSRU</td>\n",
       "    </tr>\n",
       "    <tr>\n",
       "      <th>23</th>\n",
       "      <td>0.177468</td>\n",
       "      <td>233111</td>\n",
       "      <td>82.1839</td>\n",
       "      <td>9.891852</td>\n",
       "      <td>1</td>\n",
       "      <td>MICU</td>\n",
       "    </tr>\n",
       "    <tr>\n",
       "      <th>24</th>\n",
       "      <td>0.068255</td>\n",
       "      <td>212246</td>\n",
       "      <td>60.3271</td>\n",
       "      <td>3.023669</td>\n",
       "      <td>0</td>\n",
       "      <td>TSICU</td>\n",
       "    </tr>\n",
       "    <tr>\n",
       "      <th>25</th>\n",
       "      <td>0.214646</td>\n",
       "      <td>294980</td>\n",
       "      <td>35.3410</td>\n",
       "      <td>4.996782</td>\n",
       "      <td>0</td>\n",
       "      <td>MICU</td>\n",
       "    </tr>\n",
       "    <tr>\n",
       "      <th>26</th>\n",
       "      <td>0.963772</td>\n",
       "      <td>252051</td>\n",
       "      <td>28.3565</td>\n",
       "      <td>6.165428</td>\n",
       "      <td>1</td>\n",
       "      <td>MICU</td>\n",
       "    </tr>\n",
       "    <tr>\n",
       "      <th>27</th>\n",
       "      <td>0.069056</td>\n",
       "      <td>214027</td>\n",
       "      <td>24.9287</td>\n",
       "      <td>3.219722</td>\n",
       "      <td>0</td>\n",
       "      <td>CCU</td>\n",
       "    </tr>\n",
       "    <tr>\n",
       "      <th>28</th>\n",
       "      <td>0.044178</td>\n",
       "      <td>254245</td>\n",
       "      <td>66.7722</td>\n",
       "      <td>10.570833</td>\n",
       "      <td>0</td>\n",
       "      <td>CCU</td>\n",
       "    </tr>\n",
       "    <tr>\n",
       "      <th>29</th>\n",
       "      <td>0.111158</td>\n",
       "      <td>232514</td>\n",
       "      <td>75.7388</td>\n",
       "      <td>7.127998</td>\n",
       "      <td>0</td>\n",
       "      <td>SICU</td>\n",
       "    </tr>\n",
       "    <tr>\n",
       "      <th>...</th>\n",
       "      <td>...</td>\n",
       "      <td>...</td>\n",
       "      <td>...</td>\n",
       "      <td>...</td>\n",
       "      <td>...</td>\n",
       "      <td>...</td>\n",
       "    </tr>\n",
       "    <tr>\n",
       "      <th>18067</th>\n",
       "      <td>0.044178</td>\n",
       "      <td>226190</td>\n",
       "      <td>63.8919</td>\n",
       "      <td>3.173715</td>\n",
       "      <td>0</td>\n",
       "      <td>MICU</td>\n",
       "    </tr>\n",
       "    <tr>\n",
       "      <th>18068</th>\n",
       "      <td>0.052788</td>\n",
       "      <td>262109</td>\n",
       "      <td>56.4311</td>\n",
       "      <td>10.541991</td>\n",
       "      <td>0</td>\n",
       "      <td>SICU</td>\n",
       "    </tr>\n",
       "    <tr>\n",
       "      <th>18069</th>\n",
       "      <td>0.044178</td>\n",
       "      <td>239830</td>\n",
       "      <td>72.0618</td>\n",
       "      <td>5.074236</td>\n",
       "      <td>0</td>\n",
       "      <td>TSICU</td>\n",
       "    </tr>\n",
       "    <tr>\n",
       "      <th>18070</th>\n",
       "      <td>0.773180</td>\n",
       "      <td>236983</td>\n",
       "      <td>42.2788</td>\n",
       "      <td>31.156088</td>\n",
       "      <td>1</td>\n",
       "      <td>CSRU</td>\n",
       "    </tr>\n",
       "    <tr>\n",
       "      <th>18071</th>\n",
       "      <td>0.392122</td>\n",
       "      <td>267661</td>\n",
       "      <td>72.3986</td>\n",
       "      <td>14.221377</td>\n",
       "      <td>0</td>\n",
       "      <td>TSICU</td>\n",
       "    </tr>\n",
       "    <tr>\n",
       "      <th>18072</th>\n",
       "      <td>0.074675</td>\n",
       "      <td>281746</td>\n",
       "      <td>61.2608</td>\n",
       "      <td>3.122859</td>\n",
       "      <td>0</td>\n",
       "      <td>MICU</td>\n",
       "    </tr>\n",
       "    <tr>\n",
       "      <th>18073</th>\n",
       "      <td>0.391120</td>\n",
       "      <td>225994</td>\n",
       "      <td>57.7644</td>\n",
       "      <td>4.259421</td>\n",
       "      <td>0</td>\n",
       "      <td>SICU</td>\n",
       "    </tr>\n",
       "    <tr>\n",
       "      <th>18074</th>\n",
       "      <td>0.155927</td>\n",
       "      <td>245915</td>\n",
       "      <td>70.6244</td>\n",
       "      <td>4.873877</td>\n",
       "      <td>1</td>\n",
       "      <td>SICU</td>\n",
       "    </tr>\n",
       "    <tr>\n",
       "      <th>18075</th>\n",
       "      <td>0.951199</td>\n",
       "      <td>297672</td>\n",
       "      <td>61.2963</td>\n",
       "      <td>4.109074</td>\n",
       "      <td>1</td>\n",
       "      <td>MICU</td>\n",
       "    </tr>\n",
       "    <tr>\n",
       "      <th>18076</th>\n",
       "      <td>0.156857</td>\n",
       "      <td>211489</td>\n",
       "      <td>49.2769</td>\n",
       "      <td>14.792778</td>\n",
       "      <td>0</td>\n",
       "      <td>CSRU</td>\n",
       "    </tr>\n",
       "    <tr>\n",
       "      <th>18077</th>\n",
       "      <td>0.214278</td>\n",
       "      <td>240303</td>\n",
       "      <td>52.1024</td>\n",
       "      <td>19.852859</td>\n",
       "      <td>0</td>\n",
       "      <td>MICU</td>\n",
       "    </tr>\n",
       "    <tr>\n",
       "      <th>18078</th>\n",
       "      <td>0.086048</td>\n",
       "      <td>219261</td>\n",
       "      <td>75.6266</td>\n",
       "      <td>3.746308</td>\n",
       "      <td>0</td>\n",
       "      <td>MICU</td>\n",
       "    </tr>\n",
       "    <tr>\n",
       "      <th>18079</th>\n",
       "      <td>0.112837</td>\n",
       "      <td>216757</td>\n",
       "      <td>42.6922</td>\n",
       "      <td>28.730613</td>\n",
       "      <td>0</td>\n",
       "      <td>SICU</td>\n",
       "    </tr>\n",
       "    <tr>\n",
       "      <th>18080</th>\n",
       "      <td>0.051163</td>\n",
       "      <td>215004</td>\n",
       "      <td>87.9034</td>\n",
       "      <td>5.238287</td>\n",
       "      <td>0</td>\n",
       "      <td>CSRU</td>\n",
       "    </tr>\n",
       "    <tr>\n",
       "      <th>18081</th>\n",
       "      <td>0.133845</td>\n",
       "      <td>208873</td>\n",
       "      <td>88.5495</td>\n",
       "      <td>2.124016</td>\n",
       "      <td>0</td>\n",
       "      <td>MICU</td>\n",
       "    </tr>\n",
       "    <tr>\n",
       "      <th>18082</th>\n",
       "      <td>0.056888</td>\n",
       "      <td>204236</td>\n",
       "      <td>60.0013</td>\n",
       "      <td>3.713356</td>\n",
       "      <td>0</td>\n",
       "      <td>TSICU</td>\n",
       "    </tr>\n",
       "    <tr>\n",
       "      <th>18083</th>\n",
       "      <td>0.782690</td>\n",
       "      <td>245756</td>\n",
       "      <td>86.9560</td>\n",
       "      <td>9.143889</td>\n",
       "      <td>1</td>\n",
       "      <td>MICU</td>\n",
       "    </tr>\n",
       "    <tr>\n",
       "      <th>18084</th>\n",
       "      <td>0.087224</td>\n",
       "      <td>226541</td>\n",
       "      <td>68.8283</td>\n",
       "      <td>6.124178</td>\n",
       "      <td>0</td>\n",
       "      <td>CCU</td>\n",
       "    </tr>\n",
       "    <tr>\n",
       "      <th>18085</th>\n",
       "      <td>0.079898</td>\n",
       "      <td>236183</td>\n",
       "      <td>84.5439</td>\n",
       "      <td>12.086736</td>\n",
       "      <td>0</td>\n",
       "      <td>MICU</td>\n",
       "    </tr>\n",
       "    <tr>\n",
       "      <th>18086</th>\n",
       "      <td>0.055095</td>\n",
       "      <td>292375</td>\n",
       "      <td>71.0899</td>\n",
       "      <td>3.166898</td>\n",
       "      <td>0</td>\n",
       "      <td>CSRU</td>\n",
       "    </tr>\n",
       "    <tr>\n",
       "      <th>18087</th>\n",
       "      <td>0.044178</td>\n",
       "      <td>291007</td>\n",
       "      <td>17.9470</td>\n",
       "      <td>3.548924</td>\n",
       "      <td>0</td>\n",
       "      <td>TSICU</td>\n",
       "    </tr>\n",
       "    <tr>\n",
       "      <th>18088</th>\n",
       "      <td>0.051163</td>\n",
       "      <td>213906</td>\n",
       "      <td>NaN</td>\n",
       "      <td>3.818530</td>\n",
       "      <td>0</td>\n",
       "      <td>SICU</td>\n",
       "    </tr>\n",
       "    <tr>\n",
       "      <th>18089</th>\n",
       "      <td>0.092281</td>\n",
       "      <td>296707</td>\n",
       "      <td>80.8368</td>\n",
       "      <td>7.281331</td>\n",
       "      <td>0</td>\n",
       "      <td>CSRU</td>\n",
       "    </tr>\n",
       "    <tr>\n",
       "      <th>18090</th>\n",
       "      <td>0.106510</td>\n",
       "      <td>252442</td>\n",
       "      <td>26.9493</td>\n",
       "      <td>2.877951</td>\n",
       "      <td>0</td>\n",
       "      <td>MICU</td>\n",
       "    </tr>\n",
       "    <tr>\n",
       "      <th>18091</th>\n",
       "      <td>0.067180</td>\n",
       "      <td>221067</td>\n",
       "      <td>85.4803</td>\n",
       "      <td>4.054167</td>\n",
       "      <td>0</td>\n",
       "      <td>CCU</td>\n",
       "    </tr>\n",
       "    <tr>\n",
       "      <th>18092</th>\n",
       "      <td>0.802950</td>\n",
       "      <td>243255</td>\n",
       "      <td>63.1910</td>\n",
       "      <td>5.671933</td>\n",
       "      <td>1</td>\n",
       "      <td>SICU</td>\n",
       "    </tr>\n",
       "    <tr>\n",
       "      <th>18093</th>\n",
       "      <td>0.052616</td>\n",
       "      <td>257127</td>\n",
       "      <td>68.0508</td>\n",
       "      <td>2.868380</td>\n",
       "      <td>0</td>\n",
       "      <td>MICU</td>\n",
       "    </tr>\n",
       "    <tr>\n",
       "      <th>18094</th>\n",
       "      <td>0.082020</td>\n",
       "      <td>239827</td>\n",
       "      <td>65.3758</td>\n",
       "      <td>6.170104</td>\n",
       "      <td>0</td>\n",
       "      <td>CCU</td>\n",
       "    </tr>\n",
       "    <tr>\n",
       "      <th>18095</th>\n",
       "      <td>0.044178</td>\n",
       "      <td>279638</td>\n",
       "      <td>53.8082</td>\n",
       "      <td>11.299838</td>\n",
       "      <td>0</td>\n",
       "      <td>MICU</td>\n",
       "    </tr>\n",
       "    <tr>\n",
       "      <th>18096</th>\n",
       "      <td>0.044178</td>\n",
       "      <td>226241</td>\n",
       "      <td>47.7163</td>\n",
       "      <td>3.142616</td>\n",
       "      <td>0</td>\n",
       "      <td>TSICU</td>\n",
       "    </tr>\n",
       "  </tbody>\n",
       "</table>\n",
       "<p>18097 rows × 6 columns</p>\n",
       "</div>"
      ],
      "text/plain": [
       "       Prob_Mortality  icustay_id      age    los_icu  hospital_expire_flag  \\\n",
       "0            0.051163      211552  76.5246   6.064560                     0   \n",
       "1            0.106510      228232  65.9398   3.672917                     0   \n",
       "2            0.855007      220597  41.7887   5.323056                     1   \n",
       "3            0.128123      232669  72.3712   7.634815                     1   \n",
       "4            0.055095      263738  39.8640   3.666042                     0   \n",
       "5            0.850528      216859  87.8240   8.364722                     1   \n",
       "6            0.044178      203487  58.9500   3.546574                     0   \n",
       "7            0.827182      254478  72.2644   7.937940                     1   \n",
       "8            0.051889      295037  45.5123   7.685417                     0   \n",
       "9            0.047776      282039  69.4416   5.375718                     0   \n",
       "10           0.135918      241249  72.7271   4.348299                     0   \n",
       "11           0.055297      248910  75.9414  25.548461                     0   \n",
       "12           0.058142      237024  56.6337   3.147604                     0   \n",
       "13           0.044178      225852  32.7673   4.625162                     0   \n",
       "14           0.111158      291554  80.1825   4.149942                     0   \n",
       "15           0.130511      252348  54.6542   2.559074                     0   \n",
       "16           0.052788      244776  26.5632   3.325984                     0   \n",
       "17           0.127740      272667  41.8490   6.398333                     0   \n",
       "18           0.329023      211832  36.5046   2.860903                     0   \n",
       "19           0.941714      256972  81.5733   3.475000                     1   \n",
       "20           0.394247      213450  74.9530  22.897731                     0   \n",
       "21           0.098140      211943  38.4950  20.028877                     0   \n",
       "22           0.067180      288376  73.3870   4.477963                     0   \n",
       "23           0.177468      233111  82.1839   9.891852                     1   \n",
       "24           0.068255      212246  60.3271   3.023669                     0   \n",
       "25           0.214646      294980  35.3410   4.996782                     0   \n",
       "26           0.963772      252051  28.3565   6.165428                     1   \n",
       "27           0.069056      214027  24.9287   3.219722                     0   \n",
       "28           0.044178      254245  66.7722  10.570833                     0   \n",
       "29           0.111158      232514  75.7388   7.127998                     0   \n",
       "...               ...         ...      ...        ...                   ...   \n",
       "18067        0.044178      226190  63.8919   3.173715                     0   \n",
       "18068        0.052788      262109  56.4311  10.541991                     0   \n",
       "18069        0.044178      239830  72.0618   5.074236                     0   \n",
       "18070        0.773180      236983  42.2788  31.156088                     1   \n",
       "18071        0.392122      267661  72.3986  14.221377                     0   \n",
       "18072        0.074675      281746  61.2608   3.122859                     0   \n",
       "18073        0.391120      225994  57.7644   4.259421                     0   \n",
       "18074        0.155927      245915  70.6244   4.873877                     1   \n",
       "18075        0.951199      297672  61.2963   4.109074                     1   \n",
       "18076        0.156857      211489  49.2769  14.792778                     0   \n",
       "18077        0.214278      240303  52.1024  19.852859                     0   \n",
       "18078        0.086048      219261  75.6266   3.746308                     0   \n",
       "18079        0.112837      216757  42.6922  28.730613                     0   \n",
       "18080        0.051163      215004  87.9034   5.238287                     0   \n",
       "18081        0.133845      208873  88.5495   2.124016                     0   \n",
       "18082        0.056888      204236  60.0013   3.713356                     0   \n",
       "18083        0.782690      245756  86.9560   9.143889                     1   \n",
       "18084        0.087224      226541  68.8283   6.124178                     0   \n",
       "18085        0.079898      236183  84.5439  12.086736                     0   \n",
       "18086        0.055095      292375  71.0899   3.166898                     0   \n",
       "18087        0.044178      291007  17.9470   3.548924                     0   \n",
       "18088        0.051163      213906      NaN   3.818530                     0   \n",
       "18089        0.092281      296707  80.8368   7.281331                     0   \n",
       "18090        0.106510      252442  26.9493   2.877951                     0   \n",
       "18091        0.067180      221067  85.4803   4.054167                     0   \n",
       "18092        0.802950      243255  63.1910   5.671933                     1   \n",
       "18093        0.052616      257127  68.0508   2.868380                     0   \n",
       "18094        0.082020      239827  65.3758   6.170104                     0   \n",
       "18095        0.044178      279638  53.8082  11.299838                     0   \n",
       "18096        0.044178      226241  47.7163   3.142616                     0   \n",
       "\n",
       "      first_careunit  \n",
       "0               MICU  \n",
       "1               SICU  \n",
       "2               MICU  \n",
       "3               SICU  \n",
       "4                CCU  \n",
       "5               MICU  \n",
       "6                CCU  \n",
       "7               MICU  \n",
       "8              TSICU  \n",
       "9               CSRU  \n",
       "10              MICU  \n",
       "11               CCU  \n",
       "12              CSRU  \n",
       "13             TSICU  \n",
       "14              CSRU  \n",
       "15              MICU  \n",
       "16             TSICU  \n",
       "17              MICU  \n",
       "18              MICU  \n",
       "19              MICU  \n",
       "20              MICU  \n",
       "21             TSICU  \n",
       "22              CSRU  \n",
       "23              MICU  \n",
       "24             TSICU  \n",
       "25              MICU  \n",
       "26              MICU  \n",
       "27               CCU  \n",
       "28               CCU  \n",
       "29              SICU  \n",
       "...              ...  \n",
       "18067           MICU  \n",
       "18068           SICU  \n",
       "18069          TSICU  \n",
       "18070           CSRU  \n",
       "18071          TSICU  \n",
       "18072           MICU  \n",
       "18073           SICU  \n",
       "18074           SICU  \n",
       "18075           MICU  \n",
       "18076           CSRU  \n",
       "18077           MICU  \n",
       "18078           MICU  \n",
       "18079           SICU  \n",
       "18080           CSRU  \n",
       "18081           MICU  \n",
       "18082          TSICU  \n",
       "18083           MICU  \n",
       "18084            CCU  \n",
       "18085           MICU  \n",
       "18086           CSRU  \n",
       "18087          TSICU  \n",
       "18088           SICU  \n",
       "18089           CSRU  \n",
       "18090           MICU  \n",
       "18091            CCU  \n",
       "18092           SICU  \n",
       "18093           MICU  \n",
       "18094            CCU  \n",
       "18095           MICU  \n",
       "18096          TSICU  \n",
       "\n",
       "[18097 rows x 6 columns]"
      ]
     },
     "execution_count": 952,
     "metadata": {},
     "output_type": "execute_result"
    }
   ],
   "source": [
    "scatter_df"
   ]
  },
  {
   "cell_type": "code",
   "execution_count": 953,
   "metadata": {
    "collapsed": true
   },
   "outputs": [],
   "source": [
    "scatter_df.to_csv(\"../TextFiles/scatter_df.csv\")"
   ]
  },
  {
   "cell_type": "code",
   "execution_count": 657,
   "metadata": {
    "collapsed": true
   },
   "outputs": [],
   "source": [
    "brush_and_zoom = visualization_df[visualization_df.hospital_expire_flag == 1][['intime','hospital_expire_flag']]\n",
    "brush_and_zoom.sort_values('intime', inplace=True)\n",
    "brush_and_zoom['intime'] =  pd.to_datetime(brush_and_zoom['intime'], format='%Y-%m-%d %H:%M:%S')\n",
    "\n",
    "per = brush_and_zoom.intime.dt.to_period(\"M\")\n",
    "month_year_df = brush_and_zoom.groupby(per).sum()\n",
    "\n",
    "month_year_df = month_year_df.reset_index()\n",
    "\n",
    "month_year_df.to_csv(\"../TextFiles/month_and_year.csv\", index = False)"
   ]
  },
  {
   "cell_type": "code",
   "execution_count": null,
   "metadata": {
    "collapsed": false
   },
   "outputs": [],
   "source": []
  },
  {
   "cell_type": "code",
   "execution_count": 556,
   "metadata": {
    "collapsed": false,
    "scrolled": true
   },
   "outputs": [],
   "source": [
    "# pd.set_option('display.max_columns', len(model_transformed_df.head().columns))\n",
    "# model_transformed_df.head()\n",
    "    "
   ]
  },
  {
   "cell_type": "code",
   "execution_count": 557,
   "metadata": {
    "collapsed": true
   },
   "outputs": [],
   "source": [
    "# pd.reset_option('display.max_columns')"
   ]
  }
 ],
 "metadata": {
  "kernelspec": {
   "display_name": "Python [Root]",
   "language": "python",
   "name": "Python [Root]"
  },
  "language_info": {
   "codemirror_mode": {
    "name": "ipython",
    "version": 2
   },
   "file_extension": ".py",
   "mimetype": "text/x-python",
   "name": "python",
   "nbconvert_exporter": "python",
   "pygments_lexer": "ipython2",
   "version": "2.7.12"
  }
 },
 "nbformat": 4,
 "nbformat_minor": 0
}
