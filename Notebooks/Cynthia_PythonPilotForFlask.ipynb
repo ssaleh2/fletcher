{
 "cells": [
  {
   "cell_type": "code",
   "execution_count": 220,
   "metadata": {
    "collapsed": true
   },
   "outputs": [],
   "source": [
    "import numpy as np\n",
    "import pandas as pd\n",
    "from __future__ import division"
   ]
  },
  {
   "cell_type": "code",
   "execution_count": 223,
   "metadata": {
    "collapsed": true
   },
   "outputs": [],
   "source": [
    "# Get all patients data (features, targets and predictions)\n",
    "patients = pd.read_csv(\"all_features_dates_and_predictions.csv\")"
   ]
  },
  {
   "cell_type": "code",
   "execution_count": 224,
   "metadata": {
    "collapsed": false
   },
   "outputs": [
    {
     "data": {
      "text/plain": [
       "Index([u'Unnamed: 0', u'subject_id', u'icustay_id', u'gender', u'admittime',\n",
       "       u'dischtime', u'los_hospital', u'age', u'hospital_expire_flag',\n",
       "       u'hospstay_seq',\n",
       "       ...\n",
       "       u'Religion_most_recent_UNI', u'Pain Present_most_recent_',\n",
       "       u'Pain Present_most_recent_No',\n",
       "       u'Pain Present_most_recent_Other/Remarks',\n",
       "       u'Pain Present_most_recent_Yes', u'first_careunit_CCU',\n",
       "       u'first_careunit_CSRU', u'first_careunit_MICU', u'first_careunit_SICU',\n",
       "       u'first_careunit_TSICU'],\n",
       "      dtype='object', length=298)"
      ]
     },
     "execution_count": 224,
     "metadata": {},
     "output_type": "execute_result"
    }
   ],
   "source": [
    "patients.columns"
   ]
  },
  {
   "cell_type": "code",
   "execution_count": 225,
   "metadata": {
    "collapsed": false
   },
   "outputs": [],
   "source": [
    "X = patients[[  'age',\n",
    "                'gender',\n",
    "                'Temp_nanmedian',\n",
    "                'Heart_Rate_nanmedian',\n",
    "                'Dias_BP_nanmedian',\n",
    "                'Sys_BP_nanmedian',\n",
    "                'Platelets_most_recent',\n",
    "                'BUN_most_recent',\n",
    "                'Glucose_most_recent',\n",
    "                'WBC_most_recent',\n",
    "                'SpO2_nanmedian',\n",
    "                'Resp_Rate_nanmedian',\n",
    "                'Creatinine_most_recent',\n",
    "                'los_icu',\n",
    "                'los_hospital']]\n",
    "Y = patients['hospital_expire_flag']"
   ]
  },
  {
   "cell_type": "code",
   "execution_count": 226,
   "metadata": {
    "collapsed": false
   },
   "outputs": [
    {
     "data": {
      "text/html": [
       "<div>\n",
       "<table border=\"1\" class=\"dataframe\">\n",
       "  <thead>\n",
       "    <tr style=\"text-align: right;\">\n",
       "      <th></th>\n",
       "      <th>age</th>\n",
       "      <th>gender</th>\n",
       "      <th>Temp_nanmedian</th>\n",
       "      <th>Heart_Rate_nanmedian</th>\n",
       "      <th>Dias_BP_nanmedian</th>\n",
       "      <th>Sys_BP_nanmedian</th>\n",
       "      <th>Platelets_most_recent</th>\n",
       "      <th>BUN_most_recent</th>\n",
       "      <th>Glucose_most_recent</th>\n",
       "      <th>WBC_most_recent</th>\n",
       "      <th>SpO2_nanmedian</th>\n",
       "      <th>Resp_Rate_nanmedian</th>\n",
       "      <th>Creatinine_most_recent</th>\n",
       "      <th>los_icu</th>\n",
       "      <th>los_hospital</th>\n",
       "    </tr>\n",
       "  </thead>\n",
       "  <tbody>\n",
       "    <tr>\n",
       "      <th>0</th>\n",
       "      <td>76.5246</td>\n",
       "      <td>1</td>\n",
       "      <td>97.699997</td>\n",
       "      <td>95.0</td>\n",
       "      <td>58.0</td>\n",
       "      <td>127.0</td>\n",
       "      <td>155.0</td>\n",
       "      <td>20.0</td>\n",
       "      <td>80.0</td>\n",
       "      <td>10.7</td>\n",
       "      <td>96.0</td>\n",
       "      <td>19.0</td>\n",
       "      <td>1.3</td>\n",
       "      <td>6.064560</td>\n",
       "      <td>11.0</td>\n",
       "    </tr>\n",
       "    <tr>\n",
       "      <th>1</th>\n",
       "      <td>65.9398</td>\n",
       "      <td>0</td>\n",
       "      <td>98.950001</td>\n",
       "      <td>91.0</td>\n",
       "      <td>59.0</td>\n",
       "      <td>160.0</td>\n",
       "      <td>174.0</td>\n",
       "      <td>69.0</td>\n",
       "      <td>89.0</td>\n",
       "      <td>8.5</td>\n",
       "      <td>96.0</td>\n",
       "      <td>16.0</td>\n",
       "      <td>6.2</td>\n",
       "      <td>3.672917</td>\n",
       "      <td>16.0</td>\n",
       "    </tr>\n",
       "  </tbody>\n",
       "</table>\n",
       "</div>"
      ],
      "text/plain": [
       "       age  gender  Temp_nanmedian  Heart_Rate_nanmedian  Dias_BP_nanmedian  \\\n",
       "0  76.5246       1       97.699997                  95.0               58.0   \n",
       "1  65.9398       0       98.950001                  91.0               59.0   \n",
       "\n",
       "   Sys_BP_nanmedian  Platelets_most_recent  BUN_most_recent  \\\n",
       "0             127.0                  155.0             20.0   \n",
       "1             160.0                  174.0             69.0   \n",
       "\n",
       "   Glucose_most_recent  WBC_most_recent  SpO2_nanmedian  Resp_Rate_nanmedian  \\\n",
       "0                 80.0             10.7            96.0                 19.0   \n",
       "1                 89.0              8.5            96.0                 16.0   \n",
       "\n",
       "   Creatinine_most_recent   los_icu  los_hospital  \n",
       "0                     1.3  6.064560          11.0  \n",
       "1                     6.2  3.672917          16.0  "
      ]
     },
     "execution_count": 226,
     "metadata": {},
     "output_type": "execute_result"
    }
   ],
   "source": [
    "X.head(2)"
   ]
  },
  {
   "cell_type": "code",
   "execution_count": 227,
   "metadata": {
    "collapsed": false
   },
   "outputs": [
    {
     "data": {
      "text/plain": [
       "Index([u'age', u'gender', u'Temp_nanmedian', u'Heart_Rate_nanmedian',\n",
       "       u'Dias_BP_nanmedian', u'Sys_BP_nanmedian', u'Platelets_most_recent',\n",
       "       u'BUN_most_recent', u'Glucose_most_recent', u'WBC_most_recent',\n",
       "       u'SpO2_nanmedian', u'Resp_Rate_nanmedian', u'Creatinine_most_recent',\n",
       "       u'los_icu', u'los_hospital'],\n",
       "      dtype='object')"
      ]
     },
     "execution_count": 227,
     "metadata": {},
     "output_type": "execute_result"
    }
   ],
   "source": [
    "X.columns"
   ]
  },
  {
   "cell_type": "code",
   "execution_count": 229,
   "metadata": {
    "collapsed": false
   },
   "outputs": [],
   "source": [
    "X.columns = ['AGE',\n",
    "            'GENDER',\n",
    "            'TEM_F',\n",
    "            'HEART_RATE',\n",
    "            'DIAS_BP',\n",
    "            'SYS_BP',\n",
    "            'PLATELETS',\n",
    "            'BUN',\n",
    "            'GLUCOSE',\n",
    "            'WBC',\n",
    "            'SPO2',\n",
    "            'RESP_RATE',\n",
    "            'CREATININE',\n",
    "            'LOS_ICU',\n",
    "            'LOS_HOSP']"
   ]
  },
  {
   "cell_type": "code",
   "execution_count": 232,
   "metadata": {
    "collapsed": false
   },
   "outputs": [
    {
     "name": "stderr",
     "output_type": "stream",
     "text": [
      "//anaconda/lib/python2.7/site-packages/numpy/lib/function_base.py:3834: RuntimeWarning: Invalid value encountered in percentile\n",
      "  RuntimeWarning)\n"
     ]
    },
    {
     "data": {
      "text/html": [
       "<div>\n",
       "<table border=\"1\" class=\"dataframe\">\n",
       "  <thead>\n",
       "    <tr style=\"text-align: right;\">\n",
       "      <th></th>\n",
       "      <th>age</th>\n",
       "      <th>gender</th>\n",
       "      <th>temp</th>\n",
       "      <th>HR</th>\n",
       "      <th>Dias_BP</th>\n",
       "      <th>Sys_BP</th>\n",
       "      <th>Platelets</th>\n",
       "      <th>BUN</th>\n",
       "      <th>Glucose</th>\n",
       "      <th>WBC</th>\n",
       "      <th>SpO2</th>\n",
       "      <th>Resp_Rate</th>\n",
       "      <th>Creatinine</th>\n",
       "      <th>los_icu</th>\n",
       "      <th>los_hospital</th>\n",
       "    </tr>\n",
       "  </thead>\n",
       "  <tbody>\n",
       "    <tr>\n",
       "      <th>count</th>\n",
       "      <td>17206.000000</td>\n",
       "      <td>18097.000000</td>\n",
       "      <td>17105.000000</td>\n",
       "      <td>17787.000000</td>\n",
       "      <td>17731.000000</td>\n",
       "      <td>17732.000000</td>\n",
       "      <td>17068.000000</td>\n",
       "      <td>17197.000000</td>\n",
       "      <td>17469.000000</td>\n",
       "      <td>17057.000000</td>\n",
       "      <td>17600.000000</td>\n",
       "      <td>17745.000000</td>\n",
       "      <td>17182.000000</td>\n",
       "      <td>18097.000000</td>\n",
       "      <td>18097.000000</td>\n",
       "    </tr>\n",
       "    <tr>\n",
       "      <th>mean</th>\n",
       "      <td>64.041753</td>\n",
       "      <td>0.557993</td>\n",
       "      <td>98.338501</td>\n",
       "      <td>85.571625</td>\n",
       "      <td>60.174186</td>\n",
       "      <td>122.707168</td>\n",
       "      <td>235.661911</td>\n",
       "      <td>29.292609</td>\n",
       "      <td>139.228812</td>\n",
       "      <td>11.676863</td>\n",
       "      <td>96.573182</td>\n",
       "      <td>20.141815</td>\n",
       "      <td>1.383716</td>\n",
       "      <td>7.616170</td>\n",
       "      <td>14.519644</td>\n",
       "    </tr>\n",
       "    <tr>\n",
       "      <th>std</th>\n",
       "      <td>16.221883</td>\n",
       "      <td>0.496639</td>\n",
       "      <td>1.092546</td>\n",
       "      <td>15.592522</td>\n",
       "      <td>11.636779</td>\n",
       "      <td>19.143030</td>\n",
       "      <td>147.766727</td>\n",
       "      <td>23.781043</td>\n",
       "      <td>50.439573</td>\n",
       "      <td>6.568882</td>\n",
       "      <td>2.052880</td>\n",
       "      <td>4.624209</td>\n",
       "      <td>1.495187</td>\n",
       "      <td>7.578935</td>\n",
       "      <td>12.826120</td>\n",
       "    </tr>\n",
       "    <tr>\n",
       "      <th>min</th>\n",
       "      <td>15.184500</td>\n",
       "      <td>0.000000</td>\n",
       "      <td>90.300003</td>\n",
       "      <td>35.000000</td>\n",
       "      <td>13.000000</td>\n",
       "      <td>44.000000</td>\n",
       "      <td>5.000000</td>\n",
       "      <td>1.000000</td>\n",
       "      <td>1.120000</td>\n",
       "      <td>0.100000</td>\n",
       "      <td>50.000000</td>\n",
       "      <td>6.000000</td>\n",
       "      <td>0.100000</td>\n",
       "      <td>2.024653</td>\n",
       "      <td>0.000000</td>\n",
       "    </tr>\n",
       "    <tr>\n",
       "      <th>25%</th>\n",
       "      <td>NaN</td>\n",
       "      <td>0.000000</td>\n",
       "      <td>NaN</td>\n",
       "      <td>NaN</td>\n",
       "      <td>NaN</td>\n",
       "      <td>NaN</td>\n",
       "      <td>NaN</td>\n",
       "      <td>NaN</td>\n",
       "      <td>NaN</td>\n",
       "      <td>NaN</td>\n",
       "      <td>NaN</td>\n",
       "      <td>NaN</td>\n",
       "      <td>NaN</td>\n",
       "      <td>3.313495</td>\n",
       "      <td>7.000000</td>\n",
       "    </tr>\n",
       "    <tr>\n",
       "      <th>50%</th>\n",
       "      <td>NaN</td>\n",
       "      <td>1.000000</td>\n",
       "      <td>NaN</td>\n",
       "      <td>NaN</td>\n",
       "      <td>NaN</td>\n",
       "      <td>NaN</td>\n",
       "      <td>NaN</td>\n",
       "      <td>NaN</td>\n",
       "      <td>NaN</td>\n",
       "      <td>NaN</td>\n",
       "      <td>NaN</td>\n",
       "      <td>NaN</td>\n",
       "      <td>NaN</td>\n",
       "      <td>4.869502</td>\n",
       "      <td>11.000000</td>\n",
       "    </tr>\n",
       "    <tr>\n",
       "      <th>75%</th>\n",
       "      <td>NaN</td>\n",
       "      <td>1.000000</td>\n",
       "      <td>NaN</td>\n",
       "      <td>NaN</td>\n",
       "      <td>NaN</td>\n",
       "      <td>NaN</td>\n",
       "      <td>NaN</td>\n",
       "      <td>NaN</td>\n",
       "      <td>NaN</td>\n",
       "      <td>NaN</td>\n",
       "      <td>NaN</td>\n",
       "      <td>NaN</td>\n",
       "      <td>NaN</td>\n",
       "      <td>8.598356</td>\n",
       "      <td>18.000000</td>\n",
       "    </tr>\n",
       "    <tr>\n",
       "      <th>max</th>\n",
       "      <td>88.995800</td>\n",
       "      <td>1.000000</td>\n",
       "      <td>104.500000</td>\n",
       "      <td>165.500000</td>\n",
       "      <td>114.000000</td>\n",
       "      <td>198.000000</td>\n",
       "      <td>1569.000000</td>\n",
       "      <td>259.000000</td>\n",
       "      <td>1005.000000</td>\n",
       "      <td>148.600000</td>\n",
       "      <td>99.000000</td>\n",
       "      <td>45.000000</td>\n",
       "      <td>69.000000</td>\n",
       "      <td>104.248264</td>\n",
       "      <td>207.000000</td>\n",
       "    </tr>\n",
       "  </tbody>\n",
       "</table>\n",
       "</div>"
      ],
      "text/plain": [
       "                age        gender          temp            HR       Dias_BP  \\\n",
       "count  17206.000000  18097.000000  17105.000000  17787.000000  17731.000000   \n",
       "mean      64.041753      0.557993     98.338501     85.571625     60.174186   \n",
       "std       16.221883      0.496639      1.092546     15.592522     11.636779   \n",
       "min       15.184500      0.000000     90.300003     35.000000     13.000000   \n",
       "25%             NaN      0.000000           NaN           NaN           NaN   \n",
       "50%             NaN      1.000000           NaN           NaN           NaN   \n",
       "75%             NaN      1.000000           NaN           NaN           NaN   \n",
       "max       88.995800      1.000000    104.500000    165.500000    114.000000   \n",
       "\n",
       "             Sys_BP     Platelets           BUN       Glucose           WBC  \\\n",
       "count  17732.000000  17068.000000  17197.000000  17469.000000  17057.000000   \n",
       "mean     122.707168    235.661911     29.292609    139.228812     11.676863   \n",
       "std       19.143030    147.766727     23.781043     50.439573      6.568882   \n",
       "min       44.000000      5.000000      1.000000      1.120000      0.100000   \n",
       "25%             NaN           NaN           NaN           NaN           NaN   \n",
       "50%             NaN           NaN           NaN           NaN           NaN   \n",
       "75%             NaN           NaN           NaN           NaN           NaN   \n",
       "max      198.000000   1569.000000    259.000000   1005.000000    148.600000   \n",
       "\n",
       "               SpO2     Resp_Rate    Creatinine       los_icu  los_hospital  \n",
       "count  17600.000000  17745.000000  17182.000000  18097.000000  18097.000000  \n",
       "mean      96.573182     20.141815      1.383716      7.616170     14.519644  \n",
       "std        2.052880      4.624209      1.495187      7.578935     12.826120  \n",
       "min       50.000000      6.000000      0.100000      2.024653      0.000000  \n",
       "25%             NaN           NaN           NaN      3.313495      7.000000  \n",
       "50%             NaN           NaN           NaN      4.869502     11.000000  \n",
       "75%             NaN           NaN           NaN      8.598356     18.000000  \n",
       "max       99.000000     45.000000     69.000000    104.248264    207.000000  "
      ]
     },
     "execution_count": 232,
     "metadata": {},
     "output_type": "execute_result"
    }
   ],
   "source": [
    "X.describe()"
   ]
  },
  {
   "cell_type": "code",
   "execution_count": null,
   "metadata": {
    "collapsed": true
   },
   "outputs": [],
   "source": [
    "BUNmax =\n",
    "BUNmin =\n",
    "Creatininemax =\n",
    "Creatininemin =\n",
    "Dias_BPmax =\n",
    "Dias_BPmin =\n",
    "Glucosemax =\n",
    "Glucosemin =\n",
    "HRmax =\n",
    "HRmin =\n",
    "Plateletsmax =\n",
    "Plateletsmin =\n",
    "Resp_Ratemax =\n",
    "Resp_Ratemin =\n",
    "SpO2max =\n",
    "SpO2min =\n",
    "Sys_BP'max =\n",
    "Sys_BP'min =\n",
    "WBCmax =\n",
    "WBCmin =\n",
    "agemax =\n",
    "agemin =\n",
    "gendermax =\n",
    "gendermin =\n",
    "los_hospitalmax =\n",
    "los_hospitalmin =\n",
    "los_icumax =\n",
    "los_icumin =\n",
    "tempmax =\n",
    "tempmin ="
   ]
  },
  {
   "cell_type": "code",
   "execution_count": 172,
   "metadata": {
    "collapsed": false
   },
   "outputs": [
    {
     "data": {
      "text/plain": [
       "0    True\n",
       "1    True\n",
       "2    True\n",
       "Name: age, dtype: bool"
      ]
     },
     "execution_count": 172,
     "metadata": {},
     "output_type": "execute_result"
    }
   ],
   "source": [
    "right_age = ((X.age >= agemin) & (X.age <= agemax))\n",
    "right_age.head(3)"
   ]
  },
  {
   "cell_type": "code",
   "execution_count": 173,
   "metadata": {
    "collapsed": false
   },
   "outputs": [
    {
     "data": {
      "text/plain": [
       "0.73630136986301364"
      ]
     },
     "execution_count": 173,
     "metadata": {},
     "output_type": "execute_result"
    }
   ],
   "source": [
    "sum(Y[right_age]) / len(Y[right_age])"
   ]
  },
  {
   "cell_type": "code",
   "execution_count": 174,
   "metadata": {
    "collapsed": false
   },
   "outputs": [],
   "source": [
    "right_year = ((X.year >= yearmin) & (X.year <= yearmax))"
   ]
  },
  {
   "cell_type": "code",
   "execution_count": 175,
   "metadata": {
    "collapsed": false
   },
   "outputs": [
    {
     "data": {
      "text/plain": [
       "0.73529411764705888"
      ]
     },
     "execution_count": 175,
     "metadata": {},
     "output_type": "execute_result"
    }
   ],
   "source": [
    "sum(Y[right_year]) / len(Y[right_year])"
   ]
  },
  {
   "cell_type": "code",
   "execution_count": 176,
   "metadata": {
    "collapsed": true
   },
   "outputs": [],
   "source": [
    "right_nodes = ((X.nodes >= nodesmin) & (X.nodes <= nodesmax))"
   ]
  },
  {
   "cell_type": "code",
   "execution_count": 177,
   "metadata": {
    "collapsed": false
   },
   "outputs": [
    {
     "data": {
      "text/plain": [
       "0.69696969696969702"
      ]
     },
     "execution_count": 177,
     "metadata": {},
     "output_type": "execute_result"
    }
   ],
   "source": [
    "sum(Y[right_nodes]) / len(Y[right_nodes])"
   ]
  },
  {
   "cell_type": "code",
   "execution_count": 182,
   "metadata": {
    "collapsed": true
   },
   "outputs": [],
   "source": [
    "a= (right_age & right_year & right_nodes)"
   ]
  },
  {
   "cell_type": "code",
   "execution_count": 183,
   "metadata": {
    "collapsed": false
   },
   "outputs": [
    {
     "data": {
      "text/plain": [
       "1      1\n",
       "4      1\n",
       "28     1\n",
       "39     1\n",
       "58     1\n",
       "68     1\n",
       "72     1\n",
       "90     0\n",
       "94     1\n",
       "103    1\n",
       "104    1\n",
       "105    1\n",
       "121    1\n",
       "134    1\n",
       "137    0\n",
       "142    0\n",
       "144    0\n",
       "145    0\n",
       "147    1\n",
       "149    1\n",
       "156    0\n",
       "158    0\n",
       "172    1\n",
       "187    1\n",
       "191    0\n",
       "209    1\n",
       "213    1\n",
       "219    1\n",
       "222    1\n",
       "286    0\n",
       "Name: survived, dtype: int64"
      ]
     },
     "execution_count": 183,
     "metadata": {},
     "output_type": "execute_result"
    }
   ],
   "source": [
    "Y[a]"
   ]
  },
  {
   "cell_type": "code",
   "execution_count": 141,
   "metadata": {
    "collapsed": false
   },
   "outputs": [
    {
     "data": {
      "text/plain": [
       "58     1\n",
       "68     1\n",
       "72     1\n",
       "90     0\n",
       "94     1\n",
       "103    1\n",
       "104    1\n",
       "105    1\n",
       "121    1\n",
       "134    1\n",
       "137    0\n",
       "142    0\n",
       "144    0\n",
       "145    0\n",
       "147    1\n",
       "149    1\n",
       "156    0\n",
       "158    0\n",
       "172    1\n",
       "187    1\n",
       "191    0\n",
       "209    1\n",
       "213    1\n",
       "219    1\n",
       "222    1\n",
       "Name: survived, dtype: int64"
      ]
     },
     "execution_count": 141,
     "metadata": {},
     "output_type": "execute_result"
    }
   ],
   "source": [
    "Y[right_age & right_year & right_nodes]"
   ]
  },
  {
   "cell_type": "code",
   "execution_count": 140,
   "metadata": {
    "collapsed": true
   },
   "outputs": [],
   "source": [
    "data={u'example': [20, 47, 1990, 1960, 1]}"
   ]
  },
  {
   "cell_type": "code",
   "execution_count": 60,
   "metadata": {
    "collapsed": false
   },
   "outputs": [
    {
     "data": {
      "text/plain": [
       "47"
      ]
     },
     "execution_count": 60,
     "metadata": {},
     "output_type": "execute_result"
    }
   ],
   "source": [
    "data['example'][1]"
   ]
  },
  {
   "cell_type": "code",
   "execution_count": 143,
   "metadata": {
    "collapsed": false
   },
   "outputs": [
    {
     "data": {
      "text/plain": [
       "True"
      ]
     },
     "execution_count": 143,
     "metadata": {},
     "output_type": "execute_result"
    }
   ],
   "source": [
    "3>=0"
   ]
  },
  {
   "cell_type": "code",
   "execution_count": 145,
   "metadata": {
    "collapsed": false
   },
   "outputs": [],
   "source": [
    "a=[True,False,False]\n",
    "b=[True,True,False]\n",
    "c=[True, False, True]"
   ]
  },
  {
   "cell_type": "code",
   "execution_count": 146,
   "metadata": {
    "collapsed": false
   },
   "outputs": [
    {
     "ename": "TypeError",
     "evalue": "unsupported operand type(s) for &: 'list' and 'list'",
     "output_type": "error",
     "traceback": [
      "\u001b[0;31m-----------------------------------------------------------------\u001b[0m",
      "\u001b[0;31mTypeError\u001b[0m                       Traceback (most recent call last)",
      "\u001b[0;32m<ipython-input-146-c5273c79eea7>\u001b[0m in \u001b[0;36m<module>\u001b[0;34m()\u001b[0m\n\u001b[0;32m----> 1\u001b[0;31m \u001b[0ma\u001b[0m\u001b[0;34m&\u001b[0m\u001b[0mb\u001b[0m\u001b[0;34m\u001b[0m\u001b[0m\n\u001b[0m",
      "\u001b[0;31mTypeError\u001b[0m: unsupported operand type(s) for &: 'list' and 'list'"
     ]
    }
   ],
   "source": [
    "a&b"
   ]
  },
  {
   "cell_type": "code",
   "execution_count": 180,
   "metadata": {
    "collapsed": false
   },
   "outputs": [
    {
     "data": {
      "text/plain": [
       "52"
      ]
     },
     "execution_count": 180,
     "metadata": {},
     "output_type": "execute_result"
    }
   ],
   "source": [
    "max(X.nodes)"
   ]
  },
  {
   "cell_type": "code",
   "execution_count": null,
   "metadata": {
    "collapsed": true
   },
   "outputs": [],
   "source": []
  }
 ],
 "metadata": {
  "kernelspec": {
   "display_name": "Python [Root]",
   "language": "python",
   "name": "Python [Root]"
  },
  "language_info": {
   "codemirror_mode": {
    "name": "ipython",
    "version": 2
   },
   "file_extension": ".py",
   "mimetype": "text/x-python",
   "name": "python",
   "nbconvert_exporter": "python",
   "pygments_lexer": "ipython2",
   "version": "2.7.12"
  }
 },
 "nbformat": 4,
 "nbformat_minor": 0
}
