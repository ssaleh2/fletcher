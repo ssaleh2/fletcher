{
 "cells": [
  {
   "cell_type": "markdown",
   "metadata": {},
   "source": [
    "### Get Corpus"
   ]
  },
  {
   "cell_type": "code",
   "execution_count": 4,
   "metadata": {
    "collapsed": false
   },
   "outputs": [],
   "source": [
    "import numpy as np\n",
    "import pandas as pd\n",
    "import pickle\n",
    "provider_notes_first_24_FINAL = pd.read_pickle('../Pickles/Provider_Notes_24.p')"
   ]
  },
  {
   "cell_type": "markdown",
   "metadata": {},
   "source": [
    "### Test Train Split"
   ]
  },
  {
   "cell_type": "code",
   "execution_count": 8,
   "metadata": {
    "collapsed": false
   },
   "outputs": [],
   "source": [
    "import re\n",
    "from sklearn.cross_validation import train_test_split\n",
    "def remove_nums(data):\n",
    "    return re.sub(r\"\\d+\", \"\", data)\n",
    "\n",
    "X = provider_notes_first_24_FINAL.text\n",
    "X = X.apply(remove_nums)\n",
    "y = provider_notes_first_24_FINAL.hospital_expire_flag\n",
    "X_train, X_test, y_train, y_test = train_test_split(X, y, test_size=0.30)"
   ]
  },
  {
   "cell_type": "markdown",
   "metadata": {},
   "source": [
    "### Topic Modeling with LDA"
   ]
  },
  {
   "cell_type": "code",
   "execution_count": 9,
   "metadata": {
    "collapsed": true
   },
   "outputs": [],
   "source": [
    "## Add stop words\n",
    "# from nltk.corpus import stopwords\n",
    "# stop = stopwords.words('english')\n",
    "stopwordsfile = open('../TextFiles/stopwords.txt', 'r')\n",
    "stop = []\n",
    "for line in stopwordsfile:\n",
    "    if len(line) > 1:\n",
    "        stop.append(line.strip())\n",
    "stop += ['.', ',', '(', ')', \"'\", '\"']\n",
    "# stop += map(str, range(0, 10000))"
   ]
  },
  {
   "cell_type": "markdown",
   "metadata": {},
   "source": [
    "### Sklearn LDA"
   ]
  },
  {
   "cell_type": "code",
   "execution_count": null,
   "metadata": {
    "collapsed": true
   },
   "outputs": [],
   "source": [
    "from sklearn.feature_extraction.text import TfidfVectorizer, CountVectorizer\n",
    " \n",
    "count_vect = CountVectorizer(ngram_range=(1,2), \n",
    "#                                  analyzer = partial(regexp_tokenize, \n",
    "#                                                     pattern = tokenization_pattern), \n",
    "                             token_pattern = '[a-zA-Z][a-zA-Z][a-zA-Z]+',\n",
    "                             analyzer = 'word',\n",
    "                             stop_words = stop,\n",
    "                             max_df = 0.25,\n",
    "                             min_df = 5\n",
    "                             )\n",
    "count_vect.fit(X[:100])\n",
    "vecs = count_vect.transform(X[:100])"
   ]
  },
  {
   "cell_type": "code",
   "execution_count": 72,
   "metadata": {
    "collapsed": false
   },
   "outputs": [
    {
     "data": {
      "text/plain": [
       "(100, 1314)"
      ]
     },
     "execution_count": 72,
     "metadata": {},
     "output_type": "execute_result"
    }
   ],
   "source": [
    "vecs.shape"
   ]
  },
  {
   "cell_type": "code",
   "execution_count": 14,
   "metadata": {
    "collapsed": false
   },
   "outputs": [
    {
     "data": {
      "text/plain": [
       "(1314, 100)"
      ]
     },
     "execution_count": 14,
     "metadata": {},
     "output_type": "execute_result"
    }
   ],
   "source": [
    "# Create the term-document matrix\n",
    "# Transpose it so the terms are the rows\n",
    "ng_vecs = vecs.transpose()\n",
    "ng_vecs.shape"
   ]
  },
  {
   "cell_type": "code",
   "execution_count": 17,
   "metadata": {
    "collapsed": false
   },
   "outputs": [],
   "source": [
    "# Convert sparse matrix of counts to a gensim corpus\n",
    "corpus = matutils.Sparse2Corpus(ng_vecs)"
   ]
  },
  {
   "cell_type": "code",
   "execution_count": 18,
   "metadata": {
    "collapsed": true
   },
   "outputs": [],
   "source": [
    "id2word = dict((v, k) for k, v in count_vect.vocabulary_.items())"
   ]
  },
  {
   "cell_type": "code",
   "execution_count": 16,
   "metadata": {
    "collapsed": false,
    "scrolled": true
   },
   "outputs": [
    {
     "name": "stderr",
     "output_type": "stream",
     "text": [
      "/home/ubuntu/anaconda2/lib/python2.7/site-packages/numpy/lib/utils.py:99: DeprecationWarning: `scipy.sparse.sparsetools` is deprecated!\n",
      "scipy.sparse.sparsetools is a private module for scipy.sparse, and should not be used.\n",
      "  warnings.warn(depdoc, DeprecationWarning)\n"
     ]
    }
   ],
   "source": [
    "from gensim import corpora, models, similarities, matutils\n",
    "# sklearn\n",
    "from sklearn import datasets\n",
    "from sklearn.feature_extraction.text import CountVectorizer\n",
    "from sklearn.cluster import KMeans\n",
    "# logging for gensim (set to INFO)\n",
    "import logging\n",
    "logging.basicConfig(format='%(asctime)s : %(levelname)s : %(message)s', level=logging.INFO)"
   ]
  },
  {
   "cell_type": "code",
   "execution_count": 19,
   "metadata": {
    "collapsed": false,
    "scrolled": true
   },
   "outputs": [
    {
     "data": {
      "text/plain": [
       "LatentDirichletAllocation(batch_size=128, doc_topic_prior=None,\n",
       "             evaluate_every=-1, learning_decay=0.7,\n",
       "             learning_method='online', learning_offset=10.0,\n",
       "             max_doc_update_iter=100, max_iter=10, mean_change_tol=0.001,\n",
       "             n_jobs=1, n_topics=1, perp_tol=0.1, random_state=0,\n",
       "             topic_word_prior=None, total_samples=1000000.0, verbose=0)"
      ]
     },
     "execution_count": 19,
     "metadata": {},
     "output_type": "execute_result"
    }
   ],
   "source": [
    "from sklearn.decomposition import LatentDirichletAllocation\n",
    "# for TF DTM\n",
    "lda_tf = LatentDirichletAllocation(n_topics=1, random_state=0)\n",
    "lda_tf.fit(vecs)"
   ]
  },
  {
   "cell_type": "code",
   "execution_count": 21,
   "metadata": {
    "collapsed": true
   },
   "outputs": [],
   "source": [
    "import pickle\n",
    "pickle.dump(lda_tf, open(\"../Pickles/Sklearn_LDA.p\", \"wb\"))\n",
    "pickle.dump(vecs, open(\"../Pickles/vecs.p\", \"wb\"))\n",
    "pickle.dump(count_vect, open(\"../Pickles/count_vect.p\", 'wb'))"
   ]
  },
  {
   "cell_type": "markdown",
   "metadata": {},
   "source": [
    "### Gensim LDA"
   ]
  },
  {
   "cell_type": "code",
   "execution_count": 81,
   "metadata": {
    "collapsed": true
   },
   "outputs": [],
   "source": [
    "def prep_corpus(docs, stopwords=set(), no_below=5, no_above=0.25):\n",
    "    print('Building dictionary...')\n",
    "    dictionary = Dictionary(docs)\n",
    "    stopword_ids = map(dictionary.token2id.get, stopwords)\n",
    "    dictionary.filter_tokens(stopword_ids)\n",
    "    dictionary.compactify()\n",
    "    dictionary.filter_extremes(no_below=no_below, no_above=no_above, keep_n=None)\n",
    "    dictionary.compactify()\n",
    "    print 'Done with dictionary!'\n",
    "    \n",
    "    print('Building corpus...')\n",
    "    corpus = [dictionary.doc2bow(doc) for doc in docs]\n",
    "    print 'Done with corpus!'\n",
    "    return dictionary, corpus"
   ]
  },
  {
   "cell_type": "code",
   "execution_count": null,
   "metadata": {
    "collapsed": true
   },
   "outputs": [],
   "source": []
  },
  {
   "cell_type": "code",
   "execution_count": 82,
   "metadata": {
    "collapsed": true
   },
   "outputs": [],
   "source": [
    "from gensim.corpora import Dictionary, MmCorpus\n",
    "import funcy as fp\n",
    "from nltk.tokenize import RegexpTokenizer\n",
    "three_plus_token = RegexpTokenizer('[a-zA-Z][a-zA-Z][a-zA-Z]+')"
   ]
  },
  {
   "cell_type": "code",
   "execution_count": 83,
   "metadata": {
    "collapsed": true
   },
   "outputs": [],
   "source": [
    "docs = [three_plus_token.tokenize(doc.lower()) for doc in X]"
   ]
  },
  {
   "cell_type": "code",
   "execution_count": 84,
   "metadata": {
    "collapsed": false
   },
   "outputs": [
    {
     "data": {
      "text/plain": [
       "477"
      ]
     },
     "execution_count": 84,
     "metadata": {},
     "output_type": "execute_result"
    }
   ],
   "source": [
    "len(docs[0])"
   ]
  },
  {
   "cell_type": "markdown",
   "metadata": {},
   "source": [
    "### Add bigrams"
   ]
  },
  {
   "cell_type": "code",
   "execution_count": 85,
   "metadata": {
    "collapsed": true
   },
   "outputs": [],
   "source": [
    "# for doc in docs:\n",
    "#     for i in range(len(doc)-1):\n",
    "#         doc.append(doc[i] + '_' + doc[i+1])"
   ]
  },
  {
   "cell_type": "code",
   "execution_count": 86,
   "metadata": {
    "collapsed": false
   },
   "outputs": [
    {
     "data": {
      "text/plain": [
       "477"
      ]
     },
     "execution_count": 86,
     "metadata": {},
     "output_type": "execute_result"
    }
   ],
   "source": [
    "len(docs[0])"
   ]
  },
  {
   "cell_type": "code",
   "execution_count": 87,
   "metadata": {
    "collapsed": false,
    "scrolled": true
   },
   "outputs": [
    {
     "name": "stderr",
     "output_type": "stream",
     "text": [
      "2016-08-26 02:10:01,718 : INFO : adding document #0 to Dictionary(0 unique tokens: [])\n"
     ]
    },
    {
     "name": "stdout",
     "output_type": "stream",
     "text": [
      "Building dictionary...\n"
     ]
    },
    {
     "name": "stderr",
     "output_type": "stream",
     "text": [
      "2016-08-26 02:10:07,256 : INFO : adding document #10000 to Dictionary(51842 unique tokens: [u'dialyzable', u'spkie', u'localizes', u'unreponsivness', u'sweliing']...)\n",
      "2016-08-26 02:10:12,614 : INFO : built Dictionary(69733 unique tokens: [u'dialyzable', u'spkie', u'fjluid', u'catechols', u'localizes']...) from 13421 documents (total 15635068 corpus positions)\n",
      "2016-08-26 02:10:12,838 : INFO : discarding 51589 tokens: [(u'dialyzable', 1), (u'spkie', 1), (u'fjluid', 1), (u'catechols', 1), (u'sweliing', 1), (u'circuitry', 1), (u'ultimatley', 1), (u'woody', 2), (u'lasixmg', 1), (u'dasating', 1)]...\n",
      "2016-08-26 02:10:12,839 : INFO : keeping 17716 tokens which were in no less than 5 and no more than 3355 (=25.0%) documents\n",
      "2016-08-26 02:10:12,874 : INFO : resulting dictionary: Dictionary(17716 unique tokens: [u'monitoirng', u'intuabated', u'diffusely', u'hemodynamiclly', u'localizes']...)\n"
     ]
    },
    {
     "name": "stdout",
     "output_type": "stream",
     "text": [
      "Done with dictionary!\n",
      "Building corpus...\n",
      "Done with corpus!\n"
     ]
    }
   ],
   "source": [
    "dictionary, corpus = prep_corpus(docs, stopwords= stop)"
   ]
  },
  {
   "cell_type": "code",
   "execution_count": 88,
   "metadata": {
    "collapsed": false,
    "scrolled": true
   },
   "outputs": [
    {
     "data": {
      "text/plain": [
       "17716"
      ]
     },
     "execution_count": 88,
     "metadata": {},
     "output_type": "execute_result"
    }
   ],
   "source": [
    "len(dictionary)"
   ]
  },
  {
   "cell_type": "code",
   "execution_count": 89,
   "metadata": {
    "collapsed": false
   },
   "outputs": [
    {
     "data": {
      "text/plain": [
       "13421"
      ]
     },
     "execution_count": 89,
     "metadata": {},
     "output_type": "execute_result"
    }
   ],
   "source": [
    "len(corpus)"
   ]
  },
  {
   "cell_type": "code",
   "execution_count": 70,
   "metadata": {
    "collapsed": false,
    "scrolled": true
   },
   "outputs": [
    {
     "name": "stderr",
     "output_type": "stream",
     "text": [
      "2016-08-26 00:37:28,959 : INFO : using symmetric alpha at 0.02\n",
      "2016-08-26 00:37:28,960 : INFO : using symmetric eta at 0.02\n",
      "2016-08-26 00:37:28,961 : INFO : using serial LDA version on this node\n",
      "2016-08-26 00:44:18,068 : INFO : running online LDA training, 50 topics, 10 passes over the supplied corpus of 13421 documents, updating model once every 2000 documents, evaluating perplexity every 13421 documents, iterating 50x with a convergence threshold of 0.001000\n",
      "2016-08-26 00:44:18,069 : INFO : PROGRESS: pass 0, at document #2000/13421\n",
      "2016-08-26 00:44:33,891 : INFO : merging changes from 2000 documents into a model of 13421 documents\n",
      "2016-08-26 00:45:11,522 : INFO : topic #26 (0.020): 0.001*history + 0.001*assessed + 0.001*ccu + 0.001*she_was + 0.001*wife + 0.001*hypotension + 0.001*afternoon + 0.001*sicu + 0.001*poor + 0.001*abdominal\n",
      "2016-08-26 00:45:11,609 : INFO : topic #45 (0.020): 0.001*assessed + 0.001*history + 0.001*hypotension + 0.001*not_assessed + 0.001*daily + 0.001*bleeding + 0.001*ativan + 0.001*respiratory_care + 0.001*action + 0.001*pulse\n",
      "2016-08-26 00:45:11,695 : INFO : topic #36 (0.020): 0.001*history + 0.001*pulse + 0.001*medications + 0.001*assessed + 0.001*ativan + 0.001*hypotension + 0.001*abdominal + 0.001*action + 0.001*balance + 0.001*not_assessed\n",
      "2016-08-26 00:45:11,781 : INFO : topic #29 (0.020): 0.001*history + 0.001*hypotension + 0.001*fentanyl + 0.001*neo + 0.001*ccu + 0.001*not_assessed + 0.001*abdominal + 0.001*cabg + 0.001*balance + 0.001*negative\n",
      "2016-08-26 00:45:11,868 : INFO : topic #30 (0.020): 0.001*history + 0.001*arm + 0.001*titrated + 0.001*pulse + 0.001*balance + 0.001*not_assessed + 0.001*hypotension + 0.001*neo + 0.001*wife + 0.001*floor\n",
      "2016-08-26 00:45:11,965 : INFO : topic diff=34.696353, rho=1.000000\n",
      "2016-08-26 00:45:11,967 : INFO : PROGRESS: pass 0, at document #4000/13421\n",
      "2016-08-26 00:45:28,129 : INFO : merging changes from 2000 documents into a model of 13421 documents\n",
      "2016-08-26 00:45:56,485 : INFO : topic #11 (0.020): 0.002*sicu + 0.001*iabp + 0.001*wife + 0.001*ccu + 0.001*ativan + 0.001*does_not + 0.001*visit + 0.001*repleted + 0.001*nsg + 0.001*osh\n",
      "2016-08-26 00:45:56,572 : INFO : topic #5 (0.020): 0.002*neo + 0.001*ccu + 0.001*see_carevue + 0.001*nausea + 0.001*carevue_for + 0.001*please_see + 0.001*admit + 0.001*alert_and + 0.001*amounts + 0.001*hypotension\n",
      "2016-08-26 00:45:56,655 : INFO : topic #26 (0.020): 0.001*ativan + 0.001*she_was + 0.001*afternoon + 0.001*carevue_for + 0.001*osh + 0.001*resp_care + 0.001*levophed + 0.001*hrs + 0.001*receiving + 0.001*ccu\n",
      "2016-08-26 00:45:56,742 : INFO : topic #44 (0.020): 0.003*history + 0.002*pulse + 0.002*assessed + 0.002*medications + 0.002*action + 0.002*failure + 0.002*daily + 0.002*meq_meq + 0.002*hypotension + 0.001*not_assessed\n",
      "2016-08-26 00:45:56,830 : INFO : topic #9 (0.020): 0.001*history + 0.001*vanco + 0.001*neo + 0.001*hypotension + 0.001*sicu + 0.001*bleeding + 0.001*wife + 0.001*drip + 0.001*she_was + 0.001*osh\n",
      "2016-08-26 00:45:56,927 : INFO : topic diff=5.656060, rho=0.707107\n",
      "2016-08-26 00:45:56,930 : INFO : PROGRESS: pass 0, at document #6000/13421\n",
      "2016-08-26 00:46:13,010 : INFO : merging changes from 2000 documents into a model of 13421 documents\n",
      "2016-08-26 00:46:36,491 : INFO : topic #5 (0.020): 0.002*neo + 0.001*ccu + 0.001*nausea + 0.001*see_carevue + 0.001*drain + 0.001*ntg + 0.001*alert_and + 0.001*morphine + 0.001*admit + 0.001*cooperative\n",
      "2016-08-26 00:46:36,573 : INFO : topic #20 (0.020): 0.004*neo + 0.001*titrated + 0.001*extubated + 0.001*see_carevue + 0.001*side + 0.001*follows_commands + 0.001*insulin_gtt + 0.001*relief + 0.001*dressing + 0.001*good_effect\n",
      "2016-08-26 00:46:36,658 : INFO : topic #18 (0.020): 0.003*ccu + 0.002*iabp + 0.002*lab + 0.002*groin + 0.001*cath_lab + 0.001*hematoma + 0.001*fem + 0.001*lopressor + 0.001*sheath + 0.001*admit\n",
      "2016-08-26 00:46:36,746 : INFO : topic #31 (0.020): 0.004*history + 0.003*chronic + 0.002*daily + 0.002*action + 0.002*assessed + 0.002*not_assessed + 0.002*comments + 0.002*medications + 0.002*review + 0.002*failure\n",
      "2016-08-26 00:46:36,832 : INFO : topic #19 (0.020): 0.001*indeterminate + 0.001*diet_will + 0.001*bleeding + 0.001*nausea + 0.001*neo + 0.001*medical + 0.001*history + 0.001*osh + 0.001*treated + 0.001*pts_higher\n",
      "2016-08-26 00:46:36,930 : INFO : topic diff=4.880953, rho=0.577350\n",
      "2016-08-26 00:46:36,932 : INFO : PROGRESS: pass 0, at document #8000/13421\n",
      "2016-08-26 00:46:53,715 : INFO : merging changes from 2000 documents into a model of 13421 documents\n",
      "2016-08-26 00:47:14,449 : INFO : topic #6 (0.020): 0.005*ccu + 0.004*iabp + 0.002*groin + 0.002*cath_lab + 0.002*lab + 0.002*maps + 0.001*dopamine + 0.001*dopa + 0.001*ntg + 0.001*ccu_npn\n",
      "2016-08-26 00:47:14,536 : INFO : topic #48 (0.020): 0.001*cll + 0.001*history + 0.001*not_transplant + 0.001*tagged_rbc + 0.001*she_was + 0.001*assessed + 0.001*bleed + 0.001*local_hospital + 0.001*and_brbpr + 0.001*medications\n",
      "2016-08-26 00:47:14,620 : INFO : topic #38 (0.020): 0.001*mri + 0.001*hrs + 0.001*bleeding + 0.001*endoscopy + 0.001*procedure + 0.001*liver + 0.001*admit + 0.001*daughter + 0.001*bleed + 0.001*oral\n",
      "2016-08-26 00:47:14,706 : INFO : topic #47 (0.020): 0.002*history + 0.002*icd + 0.002*ccu + 0.002*chf + 0.002*daily + 0.001*cardiomyopathy + 0.001*chronic + 0.001*failure + 0.001*ventricular + 0.001*medications\n",
      "2016-08-26 00:47:14,793 : INFO : topic #21 (0.020): 0.002*neo + 0.002*epidural + 0.002*levo + 0.002*boluses + 0.001*ngt + 0.001*acidosis + 0.001*fentanyl + 0.001*trach + 0.001*versed + 0.001*area\n",
      "2016-08-26 00:47:14,891 : INFO : topic diff=4.179050, rho=0.500000\n",
      "2016-08-26 00:47:14,893 : INFO : PROGRESS: pass 0, at document #10000/13421\n",
      "2016-08-26 00:47:33,101 : INFO : merging changes from 2000 documents into a model of 13421 documents\n",
      "2016-08-26 00:47:53,060 : INFO : topic #24 (0.020): 0.004*history + 0.003*comments + 0.003*assessed + 0.003*pulse + 0.003*medications + 0.003*not_assessed + 0.003*meq_meq + 0.002*balance + 0.002*copd + 0.002*cmho\n",
      "2016-08-26 00:47:53,148 : INFO : topic #36 (0.020): 0.005*history + 0.004*assessed + 0.004*pulse + 0.004*not_assessed + 0.003*medications + 0.003*balance + 0.003*meq_meq + 0.003*action + 0.003*comments + 0.002*assessment_and\n",
      "2016-08-26 00:47:53,237 : INFO : topic #22 (0.020): 0.003*history + 0.002*action + 0.002*assessed + 0.002*not_assessed + 0.002*daily + 0.002*medications + 0.002*balance + 0.002*meq_meq + 0.002*pna + 0.002*copd\n",
      "2016-08-26 00:47:53,324 : INFO : topic #45 (0.020): 0.003*host + 0.001*vaginal_drainage + 0.001*blockade_reduce + 0.001*diuresis_blood + 0.001*hct_protonix + 0.001*scan_well + 0.001*beta_blockade + 0.001*net_input + 0.001*access_intubated + 0.001*bleeding\n",
      "2016-08-26 00:47:53,412 : INFO : topic #1 (0.020): 0.001*ciwa + 0.001*seizure + 0.001*bilateral + 0.001*secure_and + 0.001*secure + 0.001*and_patent + 0.001*scale + 0.001*flow + 0.001*ativan + 0.001*valium\n",
      "2016-08-26 00:47:53,512 : INFO : topic diff=4.327697, rho=0.447214\n",
      "2016-08-26 00:47:53,515 : INFO : PROGRESS: pass 0, at document #12000/13421\n",
      "2016-08-26 00:48:13,996 : INFO : merging changes from 2000 documents into a model of 13421 documents\n",
      "2016-08-26 00:48:35,695 : INFO : topic #6 (0.020): 0.006*ccu + 0.004*iabp + 0.003*groin + 0.002*dopamine + 0.002*lab + 0.002*cath_lab + 0.002*maps + 0.001*dopa + 0.001*stent + 0.001*fem\n",
      "2016-08-26 00:48:35,781 : INFO : topic #38 (0.020): 0.003*paracentesis + 0.002*liver + 0.002*endoscopy + 0.002*hepatorenal_syndrome + 0.002*tips + 0.001*with_hcv + 0.001*diagnostic_paracentesis + 0.001*nicardipine_drip + 0.001*duodenal_ulcer + 0.001*hrs\n",
      "2016-08-26 00:48:35,870 : INFO : topic #49 (0.020): 0.005*neo + 0.004*svo + 0.003*epi + 0.003*cpap + 0.003*leak + 0.002*chest_tube + 0.002*wires + 0.002*insulin_gtt + 0.002*acidosis + 0.002*labile\n",
      "2016-08-26 00:48:35,957 : INFO : topic #28 (0.020): 0.001*small_cell + 0.001*she_was + 0.001*fat + 0.001*ativan + 0.001*days_has + 0.001*improvement_his + 0.001*history + 0.001*pneumonia_patient + 0.001*past + 0.001*negative\n",
      "2016-08-26 00:48:36,046 : INFO : topic #25 (0.020): 0.004*fosphenytoin + 0.003*seizure + 0.002*continuous_eeg + 0.002*seizure_she + 0.002*action_peep + 0.002*with_seizure + 0.002*the_bmt + 0.002*rate_action + 0.002*inferolateral_walls + 0.001*changes_cxr\n",
      "2016-08-26 00:48:36,143 : INFO : topic diff=6.089810, rho=0.408248\n",
      "2016-08-26 00:50:51,722 : INFO : -11.663 per-word bound, 3241.6 perplexity estimate based on a held-out corpus of 1421 documents with 7017345 words\n",
      "2016-08-26 00:50:51,722 : INFO : PROGRESS: pass 0, at document #13421/13421\n",
      "2016-08-26 00:51:07,462 : INFO : merging changes from 1421 documents into a model of 13421 documents\n",
      "2016-08-26 00:51:29,677 : INFO : topic #3 (0.020): 0.004*pancreatic_enzymes + 0.003*eus + 0.003*stab_wounds + 0.003*records_and + 0.002*and_multifocal + 0.002*tracheobronchial + 0.002*hernias + 0.002*contrast_chest + 0.002*fevers_for + 0.002*during_ercp\n",
      "2016-08-26 00:51:29,764 : INFO : topic #22 (0.020): 0.003*history + 0.002*action + 0.002*pna + 0.002*daily + 0.002*aspiration + 0.002*peep_pip + 0.002*medications + 0.002*balance + 0.002*meq_meq + 0.002*pneumonia\n",
      "2016-08-26 00:51:29,851 : INFO : topic #1 (0.020): 0.003*ciwa + 0.002*ciwa_scale + 0.002*seizure + 0.002*etoh + 0.001*ativan + 0.001*valium + 0.001*osh + 0.001*bilateral + 0.001*scale + 0.001*withdrawal\n",
      "2016-08-26 00:51:29,938 : INFO : topic #34 (0.020): 0.034*sun + 0.020*cooling + 0.017*artic_sun + 0.017*artic + 0.016*arctic + 0.016*arctic_sun + 0.015*arrest + 0.012*sun_protocol + 0.009*goal_temp + 0.005*cooling_protocol\n",
      "2016-08-26 00:51:30,025 : INFO : topic #46 (0.020): 0.005*history + 0.004*chest_pain + 0.003*daily + 0.003*action + 0.003*disease + 0.003*coronary + 0.003*lad + 0.003*cad + 0.003*ccu + 0.002*artery\n",
      "2016-08-26 00:51:30,122 : INFO : topic diff=3.626327, rho=0.377964\n",
      "2016-08-26 00:51:30,125 : INFO : PROGRESS: pass 1, at document #2000/13421\n",
      "2016-08-26 00:51:46,238 : INFO : merging changes from 2000 documents into a model of 13421 documents\n",
      "2016-08-26 00:52:05,119 : INFO : topic #15 (0.020): 0.005*bmt + 0.005*gvhd + 0.003*neutropenia + 0.003*with_recently + 0.003*serology + 0.002*febrile_neutropenia + 0.002*polyvalent_asdir + 0.002*allo + 0.002*leukemia + 0.001*ambisome\n",
      "2016-08-26 00:52:05,206 : INFO : topic #19 (0.020): 0.005*indeterminate + 0.003*judicious + 0.002*hypoxia_from + 0.002*sah_sdh + 0.002*significant_bleeding + 0.002*subtotal_gastrectomy + 0.002*rewarm + 0.002*response_fsbs + 0.002*without_apparent + 0.002*access_icu\n",
      "2016-08-26 00:52:05,292 : INFO : topic #36 (0.020): 0.005*history + 0.005*assessed + 0.004*not_assessed + 0.004*pulse + 0.003*medications + 0.003*action + 0.003*meq_meq + 0.003*balance + 0.003*comments + 0.002*abdominal\n",
      "2016-08-26 00:52:05,379 : INFO : topic #35 (0.020): 0.002*ativan + 0.001*pvi + 0.001*pfo + 0.001*side + 0.001*leg + 0.001*urethral + 0.001*now_appears + 0.001*nac + 0.001*temporary_pacing + 0.001*pna_who\n",
      "2016-08-26 00:52:05,464 : INFO : topic #40 (0.020): 0.007*rigid_bronch + 0.006*rigid + 0.006*trach + 0.005*bronch + 0.003*for_rigid + 0.003*and_chemotherapy + 0.003*tracheal + 0.002*his_hospitalization + 0.002*tracheal_stenosis + 0.002*coordination\n",
      "2016-08-26 00:52:05,561 : INFO : topic diff=1.854086, rho=0.353553\n",
      "2016-08-26 00:52:05,564 : INFO : PROGRESS: pass 1, at document #4000/13421\n",
      "2016-08-26 00:52:19,780 : INFO : merging changes from 2000 documents into a model of 13421 documents\n",
      "2016-08-26 00:52:37,310 : INFO : topic #21 (0.020): 0.004*epidural + 0.003*fentanyl + 0.002*ngt + 0.002*boluses + 0.002*neo + 0.002*acidosis + 0.002*trach + 0.002*levo + 0.002*versed + 0.001*wound\n",
      "2016-08-26 00:52:37,398 : INFO : topic #45 (0.020): 0.010*ipf + 0.002*olt + 0.002*talc + 0.002*protection_the + 0.001*subclavian_cvl + 0.001*ultrasound_and + 0.001*barrett + 0.001*left_colectomy + 0.001*management_acute + 0.001*mediastinoscopy\n",
      "2016-08-26 00:52:37,486 : INFO : topic #31 (0.020): 0.005*history + 0.003*daily + 0.003*action + 0.003*chronic + 0.002*medications + 0.002*review + 0.002*tablet + 0.002*chf + 0.002*comments + 0.002*failure\n",
      "2016-08-26 00:52:37,571 : INFO : topic #42 (0.020): 0.004*aml + 0.003*torsades + 0.003*hemochromatosis + 0.002*labs_troponin + 0.002*leukemia + 0.002*map_uop + 0.001*with_aml + 0.001*repleted_response + 0.001*follow_cbc + 0.001*outside_facility\n",
      "2016-08-26 00:52:37,657 : INFO : topic #2 (0.020): 0.001*bleeding + 0.001*egd + 0.001*banding + 0.001*osh + 0.001*nicardipine_mcg + 0.001*fentanyl + 0.001*lingular + 0.001*wife + 0.001*liver + 0.001*year\n",
      "2016-08-26 00:52:37,755 : INFO : topic diff=1.707631, rho=0.353553\n",
      "2016-08-26 00:52:37,757 : INFO : PROGRESS: pass 1, at document #6000/13421\n",
      "2016-08-26 00:52:52,510 : INFO : merging changes from 2000 documents into a model of 13421 documents\n",
      "2016-08-26 00:53:09,468 : INFO : topic #8 (0.020): 0.002*osh + 0.002*mask + 0.001*she_was + 0.001*floor + 0.001*crackles + 0.001*nrb + 0.001*admit + 0.001*vanco + 0.001*afib + 0.001*bipap\n",
      "2016-08-26 00:53:09,555 : INFO : topic #2 (0.020): 0.001*bleeding + 0.001*egd + 0.001*osh + 0.001*banding + 0.001*fentanyl + 0.001*wife + 0.001*positive_stools + 0.001*nicardipine_mcg + 0.001*liver + 0.001*prbc\n",
      "2016-08-26 00:53:09,640 : INFO : topic #7 (0.020): 0.005*metastatic + 0.004*history + 0.003*cancer + 0.003*assessed + 0.003*not_assessed + 0.002*effusion + 0.002*breast + 0.002*comments + 0.002*mets + 0.002*chemotherapy\n",
      "2016-08-26 00:53:09,726 : INFO : topic #36 (0.020): 0.005*history + 0.004*assessed + 0.004*not_assessed + 0.004*pulse + 0.003*medications + 0.003*action + 0.003*meq_meq + 0.003*balance + 0.003*comments + 0.002*abdominal\n",
      "2016-08-26 00:53:09,811 : INFO : topic #26 (0.020): 0.003*trach + 0.002*versed + 0.002*bronch + 0.002*osh + 0.001*intubation + 0.001*fentanyl + 0.001*ventilation + 0.001*vent_settings + 0.001*mdi + 0.001*she_was\n",
      "2016-08-26 00:53:09,908 : INFO : topic diff=1.554281, rho=0.353553\n",
      "2016-08-26 00:53:09,911 : INFO : PROGRESS: pass 1, at document #8000/13421\n",
      "2016-08-26 00:53:25,261 : INFO : merging changes from 2000 documents into a model of 13421 documents\n",
      "2016-08-26 00:53:41,540 : INFO : topic #35 (0.020): 0.002*ativan + 0.001*leg + 0.001*side + 0.001*lopressor + 0.001*urethral + 0.001*pfo + 0.001*bleeding + 0.001*arm + 0.001*pvi + 0.001*awake\n",
      "2016-08-26 00:53:41,628 : INFO : topic #24 (0.020): 0.005*history + 0.004*pulse + 0.004*comments + 0.003*assessed + 0.003*medications + 0.003*not_assessed + 0.003*meq_meq + 0.003*balance + 0.003*copd + 0.003*action\n",
      "2016-08-26 00:53:41,715 : INFO : topic #36 (0.020): 0.005*history + 0.004*assessed + 0.004*not_assessed + 0.004*pulse + 0.003*medications + 0.003*action + 0.003*meq_meq + 0.003*balance + 0.003*comments + 0.002*abdominal\n",
      "2016-08-26 00:53:41,803 : INFO : topic #49 (0.020): 0.007*neo + 0.005*svo + 0.004*epi + 0.003*wires + 0.003*cpap + 0.003*leak + 0.003*paced + 0.003*insulin_gtt + 0.002*labile + 0.002*volume\n",
      "2016-08-26 00:53:41,891 : INFO : topic #0 (0.020): 0.003*vocal + 0.002*rcc + 0.002*argatroban + 0.002*vocal_cord + 0.002*acute_cholecystitis + 0.002*pmhx_sig + 0.002*wbc_lines + 0.002*tail + 0.002*for_vats + 0.002*arthroplasty\n",
      "2016-08-26 00:53:41,989 : INFO : topic diff=1.385560, rho=0.353553\n",
      "2016-08-26 00:53:41,991 : INFO : PROGRESS: pass 1, at document #10000/13421\n",
      "2016-08-26 00:53:58,730 : INFO : merging changes from 2000 documents into a model of 13421 documents\n",
      "2016-08-26 00:54:14,354 : INFO : topic #46 (0.020): 0.005*history + 0.003*daily + 0.003*chest_pain + 0.003*action + 0.003*disease + 0.003*cad + 0.003*ccu + 0.003*lad + 0.003*coronary + 0.003*valve\n",
      "2016-08-26 00:54:14,441 : INFO : topic #1 (0.020): 0.004*ciwa + 0.002*ciwa_scale + 0.002*valium + 0.002*seizure + 0.002*etoh + 0.002*bilateral + 0.002*ativan + 0.002*safety + 0.002*and_patent + 0.001*secure\n",
      "2016-08-26 00:54:14,528 : INFO : topic #17 (0.020): 0.007*granulomatosis + 0.006*wegener_granulomatosis + 0.002*location_fections + 0.002*fections + 0.002*esrd_for + 0.002*herbal + 0.001*controlled_dilaudid + 0.001*immunocompromised_state + 0.001*febrile_for + 0.001*hypotension_above\n",
      "2016-08-26 00:54:14,617 : INFO : topic #24 (0.020): 0.005*history + 0.004*pulse + 0.004*assessed + 0.004*comments + 0.004*not_assessed + 0.003*medications + 0.003*balance + 0.003*meq_meq + 0.003*copd + 0.003*action\n",
      "2016-08-26 00:54:14,704 : INFO : topic #43 (0.020): 0.002*ulcerative_colitis + 0.002*prior_cva + 0.001*ulcerative + 0.001*history_htn + 0.001*sinus_congestion + 0.001*his_upper + 0.001*and_phenylephrine + 0.001*osh + 0.001*sister_telephone + 0.001*rsp\n",
      "2016-08-26 00:54:14,802 : INFO : topic diff=1.233673, rho=0.353553\n",
      "2016-08-26 00:54:14,804 : INFO : PROGRESS: pass 1, at document #12000/13421\n",
      "2016-08-26 00:54:34,940 : INFO : merging changes from 2000 documents into a model of 13421 documents\n",
      "2016-08-26 00:54:49,349 : INFO : topic #44 (0.020): 0.005*history + 0.004*pulse_present + 0.004*pulse + 0.003*absent + 0.002*musculoskeletal + 0.002*jaundice + 0.002*throat + 0.002*cervical + 0.002*nose + 0.002*conjunctiva\n",
      "2016-08-26 00:54:49,432 : INFO : topic #37 (0.020): 0.002*fentanyl + 0.002*ngt + 0.002*versed + 0.002*amts + 0.001*intubation + 0.001*aline + 0.001*suctioned_for + 0.001*vent_settings + 0.001*rsbi + 0.001*airway\n",
      "2016-08-26 00:54:49,520 : INFO : topic #25 (0.020): 0.028*seizure + 0.011*status_epilepticus + 0.011*epilepticus + 0.008*eeg + 0.008*seizures + 0.008*keppra + 0.007*fosphenytoin + 0.006*continuous_eeg + 0.004*epilepticus_assessment + 0.004*seizure_with\n",
      "2016-08-26 00:54:49,607 : INFO : topic #7 (0.020): 0.005*cancer + 0.004*metastatic + 0.004*history + 0.004*effusion + 0.003*breast + 0.003*assessed + 0.003*pleural + 0.003*not_assessed + 0.003*chemotherapy + 0.003*lobe\n",
      "2016-08-26 00:54:49,693 : INFO : topic #30 (0.020): 0.061*ercp + 0.016*for_ercp + 0.009*duct + 0.008*cbd + 0.008*sphincterotomy + 0.007*stone + 0.006*stones + 0.005*bile + 0.005*bile_duct + 0.005*trauma_surgery\n",
      "2016-08-26 00:54:49,790 : INFO : topic diff=1.415648, rho=0.353553\n",
      "2016-08-26 00:57:03,755 : INFO : -10.574 per-word bound, 1524.5 perplexity estimate based on a held-out corpus of 1421 documents with 7017345 words\n",
      "2016-08-26 00:57:03,756 : INFO : PROGRESS: pass 1, at document #13421/13421\n",
      "2016-08-26 00:57:20,725 : INFO : merging changes from 1421 documents into a model of 13421 documents\n",
      "2016-08-26 00:57:34,430 : INFO : topic #41 (0.020): 0.004*mri + 0.003*fracture + 0.003*trauma + 0.003*checks + 0.003*spine + 0.003*dilantin + 0.003*fall + 0.003*exam + 0.002*sah + 0.002*sicu\n",
      "2016-08-26 00:57:34,516 : INFO : topic #22 (0.020): 0.004*dementia + 0.004*pna + 0.003*alzheimer + 0.003*aspiration + 0.003*peep_pip + 0.002*history + 0.002*cns_infection + 0.002*dementia_including + 0.002*multi_infarct + 0.002*including_alzheimer\n",
      "2016-08-26 00:57:34,604 : INFO : topic #39 (0.020): 0.004*hemoglobin + 0.003*obstructive_pneumonia + 0.002*male_nad + 0.002*strict_npo + 0.002*intraoperatively + 0.002*continue_dilantin + 0.002*brain_abscess + 0.002*mitral_insufficiency + 0.002*tracheal_stent + 0.001*fish\n",
      "2016-08-26 00:57:34,691 : INFO : topic #16 (0.020): 0.018*evd + 0.012*pancreatitis_acute + 0.005*methotrexate + 0.005*tachycardia_cvp + 0.004*ped + 0.004*ped_struck + 0.003*given_aspirin + 0.003*expressive + 0.003*expressive_aphasia + 0.003*pmhx_pmhx\n",
      "2016-08-26 00:57:34,781 : INFO : topic #44 (0.020): 0.005*history + 0.005*pulse_present + 0.004*pulse + 0.003*absent + 0.003*jaundice + 0.003*throat + 0.003*rash + 0.003*abdominal + 0.003*pancreatitis + 0.003*nose\n",
      "2016-08-26 00:57:34,881 : INFO : topic diff=1.265980, rho=0.353553\n",
      "2016-08-26 00:57:34,884 : INFO : PROGRESS: pass 2, at document #2000/13421\n",
      "2016-08-26 00:57:52,550 : INFO : merging changes from 2000 documents into a model of 13421 documents\n",
      "2016-08-26 00:58:05,560 : INFO : topic #10 (0.020): 0.003*sarcoidosis + 0.003*action_hour + 0.003*nitro_drip + 0.002*presents_osh + 0.002*now_day + 0.002*hilar_mass + 0.002*found_his + 0.001*stable_pulmonary + 0.001*acute_cholecystitis + 0.001*tachycardia_non\n",
      "2016-08-26 00:58:05,643 : INFO : topic #12 (0.020): 0.009*wound + 0.003*foot + 0.003*wound_care + 0.003*coccyx + 0.002*vanco + 0.002*levophed + 0.002*mrsa + 0.002*stage + 0.002*heel + 0.002*sepsis\n",
      "2016-08-26 00:58:05,731 : INFO : topic #2 (0.020): 0.002*nicardipine_mcg + 0.001*lingular + 0.001*bleeding + 0.001*egd + 0.001*cont_lactulose + 0.001*positive_stools + 0.001*banding + 0.001*repeat_egd + 0.001*osh_today + 0.001*osh\n",
      "2016-08-26 00:58:05,818 : INFO : topic #9 (0.020): 0.005*pancreatic_pseudocyst + 0.004*diltiazem_drip + 0.003*renal_issues + 0.003*vincristine + 0.003*response_maintaining + 0.003*cerebellar_mass + 0.003*was_ruled + 0.003*who_originally + 0.003*hospital_which + 0.003*lumbar_sacral\n",
      "2016-08-26 00:58:05,900 : INFO : topic #13 (0.020): 0.005*neo + 0.003*insulin_gtt + 0.003*titrated + 0.003*protocol + 0.002*extubation + 0.002*extubated + 0.002*extubate + 0.002*cpap + 0.002*bilious + 0.002*pacer\n",
      "2016-08-26 00:58:05,998 : INFO : topic diff=0.682564, rho=0.333333\n",
      "2016-08-26 00:58:06,000 : INFO : PROGRESS: pass 2, at document #4000/13421\n",
      "2016-08-26 00:58:19,843 : INFO : merging changes from 2000 documents into a model of 13421 documents\n",
      "2016-08-26 00:58:32,942 : INFO : topic #1 (0.020): 0.006*ciwa + 0.004*etoh + 0.003*ativan + 0.003*ciwa_scale + 0.003*valium + 0.003*withdrawal + 0.002*seizure + 0.002*agitated + 0.002*safety + 0.002*scale\n",
      "2016-08-26 00:58:33,026 : INFO : topic #14 (0.020): 0.004*prbc + 0.003*bleeding + 0.003*ffp + 0.003*bleed + 0.002*floor + 0.002*afib + 0.002*active + 0.002*transfer + 0.002*alert_and + 0.002*unit_prbc\n",
      "2016-08-26 00:58:33,111 : INFO : topic #30 (0.020): 0.061*ercp + 0.012*for_ercp + 0.010*cbd + 0.009*duct + 0.008*stone + 0.008*stones + 0.007*bile + 0.007*cholangitis + 0.005*biliary + 0.005*bile_duct\n",
      "2016-08-26 00:58:33,199 : INFO : topic #35 (0.020): 0.002*ativan + 0.002*pvi + 0.002*pfo + 0.001*urethral + 0.001*pneumonectomy + 0.001*leg + 0.001*now_appears + 0.001*side + 0.001*avr_tissue + 0.001*pna_who\n",
      "2016-08-26 00:58:33,282 : INFO : topic #12 (0.020): 0.009*wound + 0.003*foot + 0.003*coccyx + 0.003*vanco + 0.002*wound_care + 0.002*levophed + 0.002*heel + 0.002*mrsa + 0.002*stage + 0.002*skin_care\n",
      "2016-08-26 00:58:33,380 : INFO : topic diff=0.585920, rho=0.333333\n",
      "2016-08-26 00:58:33,382 : INFO : PROGRESS: pass 2, at document #6000/13421\n",
      "2016-08-26 00:58:49,767 : INFO : merging changes from 2000 documents into a model of 13421 documents\n",
      "2016-08-26 00:59:03,215 : INFO : topic #19 (0.020): 0.005*indeterminate + 0.003*judicious + 0.003*diet_will + 0.003*pharesis + 0.002*significant_bleeding + 0.002*subtotal_gastrectomy + 0.002*hypoxia_from + 0.002*afib_cva + 0.002*rewarm + 0.002*hospitalization_has\n",
      "2016-08-26 00:59:03,303 : INFO : topic #42 (0.020): 0.006*aml + 0.004*torsades + 0.004*hemochromatosis + 0.002*labs_troponin + 0.002*with_aml + 0.002*nephrostomy + 0.002*crossmatch + 0.002*leukemia + 0.002*requirement_with + 0.002*repleted_response\n",
      "2016-08-26 00:59:03,391 : INFO : topic #4 (0.020): 0.006*failure + 0.004*action + 0.004*history + 0.003*hypotension + 0.003*renal_failure + 0.003*not_assessed + 0.002*assessed + 0.002*meq_meq + 0.002*daily + 0.002*setting\n",
      "2016-08-26 00:59:03,477 : INFO : topic #46 (0.020): 0.005*history + 0.004*action + 0.004*daily + 0.003*chest_pain + 0.003*disease + 0.003*ccu + 0.003*cad + 0.003*lad + 0.003*coronary + 0.003*artery\n",
      "2016-08-26 00:59:03,562 : INFO : topic #17 (0.020): 0.003*herbal + 0.002*conc_mask + 0.002*granulomatosis + 0.002*controlled_dilaudid + 0.002*pulmonary_vasculitis + 0.002*with_early + 0.002*coincided + 0.002*for_hyponatremia + 0.002*location_fections + 0.002*fections\n",
      "2016-08-26 00:59:03,660 : INFO : topic diff=0.487828, rho=0.333333\n",
      "2016-08-26 00:59:03,662 : INFO : PROGRESS: pass 2, at document #8000/13421\n",
      "2016-08-26 00:59:18,748 : INFO : merging changes from 2000 documents into a model of 13421 documents\n",
      "2016-08-26 00:59:32,752 : INFO : topic #37 (0.020): 0.002*fentanyl + 0.002*amts + 0.002*ngt + 0.002*versed + 0.002*suctioned_for + 0.002*intubation + 0.001*aline + 0.001*vent_settings + 0.001*resp_care + 0.001*tan\n",
      "2016-08-26 00:59:32,838 : INFO : topic #6 (0.020): 0.012*ccu + 0.006*iabp + 0.005*dopamine + 0.004*dopa + 0.003*groin + 0.003*lab + 0.003*maps + 0.002*cath_lab + 0.002*swan + 0.002*fem\n",
      "2016-08-26 00:59:32,927 : INFO : topic #36 (0.020): 0.005*history + 0.005*assessed + 0.004*not_assessed + 0.003*pulse + 0.003*medications + 0.003*action + 0.003*meq_meq + 0.003*comments + 0.003*balance + 0.003*abdominal\n",
      "2016-08-26 00:59:33,014 : INFO : topic #32 (0.020): 0.003*bipap + 0.003*she_was + 0.002*failure + 0.002*pulmonary + 0.002*she_has + 0.002*chronic + 0.002*history + 0.002*copd + 0.002*worsening + 0.002*action\n",
      "2016-08-26 00:59:33,101 : INFO : topic #44 (0.020): 0.005*pulse_present + 0.005*history + 0.004*pulse + 0.003*absent + 0.003*jaundice + 0.003*throat + 0.003*rash + 0.003*nose + 0.002*abdominal + 0.002*musculoskeletal\n",
      "2016-08-26 00:59:33,199 : INFO : topic diff=0.407209, rho=0.333333\n",
      "2016-08-26 00:59:33,201 : INFO : PROGRESS: pass 2, at document #10000/13421\n",
      "2016-08-26 00:59:49,231 : INFO : merging changes from 2000 documents into a model of 13421 documents\n",
      "2016-08-26 01:00:02,902 : INFO : topic #5 (0.020): 0.002*bullous + 0.002*unable_aspirate + 0.002*commode_and + 0.002*nausea_pain + 0.002*thoracotomy_and + 0.001*gelweave + 0.001*with_interstitial + 0.001*escape_rhythm + 0.001*vsd + 0.001*history_small\n",
      "2016-08-26 01:00:02,990 : INFO : topic #21 (0.020): 0.004*ngt + 0.004*fentanyl + 0.004*acidosis + 0.004*boluses + 0.004*epidural + 0.003*lap + 0.003*paralyzed + 0.003*vasopressin + 0.003*levo + 0.003*pressors\n",
      "2016-08-26 01:00:03,074 : INFO : topic #40 (0.020): 0.030*trach + 0.017*bronch + 0.011*rigid + 0.009*tracheal + 0.007*rigid_bronch + 0.006*trach_mask + 0.005*for_rigid + 0.004*tracheostomy + 0.004*stent + 0.003*for_trach\n",
      "2016-08-26 01:00:03,159 : INFO : topic #9 (0.020): 0.002*episodes_brbpr + 0.002*approximately_weeks + 0.002*however_his + 0.002*cerebellar_mass + 0.002*diltiazem_drip + 0.002*lumbar_sacral + 0.002*wash_out + 0.002*pancreatic_pseudocyst + 0.002*response_maintaining + 0.002*have_diff\n",
      "2016-08-26 01:00:03,247 : INFO : topic #36 (0.020): 0.005*history + 0.005*assessed + 0.004*not_assessed + 0.003*pulse + 0.003*medications + 0.003*meq_meq + 0.003*action + 0.003*comments + 0.003*balance + 0.002*bleed\n",
      "2016-08-26 01:00:03,345 : INFO : topic diff=0.317769, rho=0.333333\n",
      "2016-08-26 01:00:03,347 : INFO : PROGRESS: pass 2, at document #12000/13421\n",
      "2016-08-26 01:00:22,808 : INFO : merging changes from 2000 documents into a model of 13421 documents\n",
      "2016-08-26 01:00:35,422 : INFO : topic #19 (0.020): 0.008*judicious + 0.004*subtotal_gastrectomy + 0.004*significant_bleeding + 0.004*obstruction_central + 0.004*indeterminate + 0.004*above_blood + 0.004*central_upper + 0.003*upper_assessment + 0.003*compressing_the + 0.003*hypoxia_from\n",
      "2016-08-26 01:00:35,508 : INFO : topic #45 (0.020): 0.012*ipf + 0.003*protection_the + 0.003*ultrasound_and + 0.003*management_acute + 0.003*subclavian_cvl + 0.002*and_anemic + 0.002*grossly_clear + 0.002*neck_mass + 0.002*uip + 0.002*for_cuff\n",
      "2016-08-26 01:00:35,595 : INFO : topic #35 (0.020): 0.003*urethral + 0.002*pfo + 0.002*cta_which + 0.002*pneumonectomy + 0.001*mediastinal_shift + 0.001*ativan + 0.001*underwent_head + 0.001*temporary_pacing + 0.001*were_initially + 0.001*pvi\n",
      "2016-08-26 01:00:35,680 : INFO : topic #7 (0.020): 0.006*cancer + 0.005*effusion + 0.004*metastatic + 0.004*history + 0.004*pleural + 0.003*breast + 0.003*mass + 0.003*cell + 0.003*lobe + 0.003*assessed\n",
      "2016-08-26 01:00:35,766 : INFO : topic #48 (0.020): 0.015*cll + 0.011*tagged + 0.010*rbc_scan + 0.010*tagged_rbc + 0.005*melenotic + 0.004*plavix_asa + 0.004*recent_uti + 0.003*groove + 0.002*likely_diverticular + 0.002*mouth_was\n",
      "2016-08-26 01:00:35,863 : INFO : topic diff=0.609046, rho=0.333333\n",
      "2016-08-26 01:02:46,539 : INFO : -10.440 per-word bound, 1388.9 perplexity estimate based on a held-out corpus of 1421 documents with 7017345 words\n",
      "2016-08-26 01:02:46,540 : INFO : PROGRESS: pass 2, at document #13421/13421\n",
      "2016-08-26 01:03:02,045 : INFO : merging changes from 1421 documents into a model of 13421 documents\n",
      "2016-08-26 01:03:13,838 : INFO : topic #19 (0.020): 0.006*flush_temporary + 0.006*judicious + 0.006*indeterminate + 0.005*pharesis + 0.005*significant_bleeding + 0.005*hypoxia_from + 0.004*obstruction_central + 0.004*access_icu + 0.004*icu_location + 0.004*subtotal_gastrectomy\n",
      "2016-08-26 01:03:13,928 : INFO : topic #5 (0.020): 0.005*gelweave + 0.004*thoracotomy_and + 0.004*ganglia_hemorrhage + 0.004*discontinuation + 0.003*diversion + 0.003*located_the + 0.003*bullous + 0.003*neobladder + 0.003*labetelol + 0.003*showed_afib\n",
      "2016-08-26 01:03:14,014 : INFO : topic #34 (0.020): 0.078*arrest + 0.032*cardiac_arrest + 0.028*cooling + 0.026*sun + 0.025*protocol + 0.015*cpr + 0.014*pea + 0.013*artic + 0.012*artic_sun + 0.012*arctic\n",
      "2016-08-26 01:03:14,102 : INFO : topic #26 (0.020): 0.007*trach + 0.005*versed + 0.005*bronch + 0.003*peg + 0.003*osh + 0.003*ventilation + 0.003*intubation + 0.003*fentanyl + 0.002*bronchoscopy + 0.002*bal\n",
      "2016-08-26 01:03:14,188 : INFO : topic #3 (0.020): 0.006*pancreatic_enzymes + 0.005*eus + 0.005*stab_wounds + 0.005*toxic_megacolon + 0.004*tracheobronchial + 0.004*records_and + 0.004*have_underlying + 0.004*hernias + 0.004*megacolon + 0.003*pancreatic_pseudocysts\n",
      "2016-08-26 01:03:14,286 : INFO : topic diff=0.587223, rho=0.333333\n",
      "2016-08-26 01:03:14,289 : INFO : PROGRESS: pass 3, at document #2000/13421\n",
      "2016-08-26 01:03:29,392 : INFO : merging changes from 2000 documents into a model of 13421 documents\n",
      "2016-08-26 01:03:40,648 : INFO : topic #33 (0.020): 0.006*date + 0.006*action + 0.006*order + 0.005*order_date + 0.005*medications + 0.004*meq_meq + 0.004*cmho + 0.004*assessment_and + 0.003*and_plan + 0.003*cardiovascular\n",
      "2016-08-26 01:03:40,735 : INFO : topic #26 (0.020): 0.007*trach + 0.005*versed + 0.005*bronch + 0.003*peg + 0.003*ventilation + 0.003*osh + 0.003*intubation + 0.002*fentanyl + 0.002*bronchoscopy + 0.002*bal\n",
      "2016-08-26 01:03:40,825 : INFO : topic #22 (0.020): 0.009*dementia + 0.005*pna + 0.005*alzheimer + 0.003*aspiration + 0.002*dementia_including + 0.002*including_alzheimer + 0.002*alzheimer_multi + 0.002*multi_infarct + 0.002*peep_pip + 0.002*recent_nstemi\n",
      "2016-08-26 01:03:40,913 : INFO : topic #36 (0.020): 0.005*assessed + 0.005*history + 0.005*not_assessed + 0.003*pulse + 0.003*action + 0.003*meq_meq + 0.003*medications + 0.003*abdominal + 0.003*osh + 0.003*comments\n",
      "2016-08-26 01:03:40,996 : INFO : topic #11 (0.020): 0.003*wife + 0.002*work + 0.001*year + 0.001*name_and + 0.001*doctor_first + 0.001*lives + 0.001*sicu + 0.001*left_temporal + 0.001*ischemic_assessment + 0.001*husband\n",
      "2016-08-26 01:03:41,096 : INFO : topic diff=0.258749, rho=0.316228\n",
      "2016-08-26 01:03:41,098 : INFO : PROGRESS: pass 3, at document #4000/13421\n",
      "2016-08-26 01:03:54,495 : INFO : merging changes from 2000 documents into a model of 13421 documents\n",
      "2016-08-26 01:04:06,039 : INFO : topic #44 (0.020): 0.005*pulse_present + 0.005*history + 0.004*pulse + 0.004*absent + 0.003*abdominal + 0.003*rash + 0.003*throat + 0.003*nose + 0.003*jaundice + 0.003*nose_throat\n",
      "2016-08-26 01:04:06,127 : INFO : topic #39 (0.020): 0.003*hemoglobin + 0.002*obstructive_pneumonia + 0.002*male_nad + 0.002*strict_npo + 0.001*intraoperatively + 0.001*lbp + 0.001*brain_abscess + 0.001*continue_dilantin + 0.001*tracheal_stent + 0.001*cauda\n",
      "2016-08-26 01:04:06,216 : INFO : topic #2 (0.020): 0.002*nicardipine_mcg + 0.001*bleeding + 0.001*lingular + 0.001*cont_lactulose + 0.001*repeat_egd + 0.001*positive_stools + 0.001*osh_today + 0.001*egd + 0.001*gastric + 0.001*flutter_with\n",
      "2016-08-26 01:04:06,305 : INFO : topic #46 (0.020): 0.006*history + 0.004*action + 0.004*chest_pain + 0.003*disease + 0.003*ccu + 0.003*cad + 0.003*daily + 0.003*coronary + 0.003*lad + 0.003*artery\n",
      "2016-08-26 01:04:06,395 : INFO : topic #33 (0.020): 0.006*date + 0.006*action + 0.005*order + 0.005*order_date + 0.005*medications + 0.004*meq_meq + 0.004*cmho + 0.003*assessment_and + 0.003*and_plan + 0.003*cardiovascular\n",
      "2016-08-26 01:04:06,495 : INFO : topic diff=0.258502, rho=0.316228\n",
      "2016-08-26 01:04:06,497 : INFO : PROGRESS: pass 3, at document #6000/13421\n",
      "2016-08-26 01:04:20,530 : INFO : merging changes from 2000 documents into a model of 13421 documents\n",
      "2016-08-26 01:04:32,283 : INFO : topic #5 (0.020): 0.003*thoracotomy_and + 0.002*gelweave + 0.002*induction + 0.002*unable_aspirate + 0.002*ganglia_hemorrhage + 0.002*discontinuation + 0.002*labetelol + 0.002*showed_afib + 0.002*located_the + 0.002*diversion\n",
      "2016-08-26 01:04:32,374 : INFO : topic #19 (0.020): 0.003*indeterminate + 0.003*judicious + 0.003*flush_temporary + 0.003*pharesis + 0.003*diet_will + 0.002*significant_bleeding + 0.002*subtotal_gastrectomy + 0.002*access_icu + 0.002*hypoxia_from + 0.002*obstruction_central\n",
      "2016-08-26 01:04:32,463 : INFO : topic #28 (0.020): 0.002*cocaine + 0.002*psych + 0.001*haldol + 0.001*non_small + 0.001*ativan + 0.001*days_has + 0.001*past + 0.001*loss_consciousness + 0.001*and_has + 0.001*improvement_his\n",
      "2016-08-26 01:04:32,553 : INFO : topic #25 (0.020): 0.085*seizure + 0.030*eeg + 0.026*seizures + 0.020*seizure_activity + 0.018*activity + 0.015*keppra + 0.010*epilepticus + 0.010*status_epilepticus + 0.007*seizure_disorder + 0.006*clonic\n",
      "2016-08-26 01:04:32,643 : INFO : topic #47 (0.020): 0.027*amiodarone + 0.022*icd + 0.008*amio + 0.008*pacer + 0.008*cardiomyopathy + 0.008*ablation + 0.007*paced + 0.006*lead + 0.006*lidocaine + 0.005*amiodarone_gtt\n",
      "2016-08-26 01:04:32,742 : INFO : topic diff=0.219710, rho=0.316228\n",
      "2016-08-26 01:04:32,744 : INFO : PROGRESS: pass 3, at document #8000/13421\n",
      "2016-08-26 01:04:47,367 : INFO : merging changes from 2000 documents into a model of 13421 documents\n",
      "2016-08-26 01:05:00,191 : INFO : topic #38 (0.020): 0.023*liver + 0.011*cirrhosis + 0.009*ascites + 0.009*varices + 0.009*lactulose + 0.008*egd + 0.007*tips + 0.007*paracentesis + 0.006*endoscopy + 0.006*portal\n",
      "2016-08-26 01:05:00,280 : INFO : topic #24 (0.020): 0.006*history + 0.005*assessed + 0.005*not_assessed + 0.005*pulse + 0.004*comments + 0.004*medications + 0.003*balance + 0.003*meq_meq + 0.003*copd + 0.003*action\n",
      "2016-08-26 01:05:00,371 : INFO : topic #25 (0.020): 0.081*seizure + 0.029*eeg + 0.023*seizures + 0.020*seizure_activity + 0.018*activity + 0.013*keppra + 0.009*epilepticus + 0.009*status_epilepticus + 0.007*seizure_disorder + 0.006*dilantin\n",
      "2016-08-26 01:05:00,459 : INFO : topic #15 (0.020): 0.008*bmt + 0.008*neutropenia + 0.006*neutropenic + 0.005*aml + 0.004*gvhd + 0.004*voriconazole + 0.004*myeloma + 0.004*multiple_myeloma + 0.003*cell_lymphoma + 0.003*acyclovir\n",
      "2016-08-26 01:05:00,549 : INFO : topic #5 (0.020): 0.002*thoracotomy_and + 0.002*gelweave + 0.002*history_small + 0.002*unable_aspirate + 0.002*induction + 0.002*labetelol + 0.001*discontinuation + 0.001*located_the + 0.001*ganglia_hemorrhage + 0.001*showed_afib\n",
      "2016-08-26 01:05:00,648 : INFO : topic diff=0.193149, rho=0.316228\n",
      "2016-08-26 01:05:00,651 : INFO : PROGRESS: pass 3, at document #10000/13421\n",
      "2016-08-26 01:05:16,564 : INFO : merging changes from 2000 documents into a model of 13421 documents\n",
      "2016-08-26 01:05:29,374 : INFO : topic #25 (0.020): 0.085*seizure + 0.030*eeg + 0.026*seizures + 0.021*seizure_activity + 0.020*activity + 0.011*keppra + 0.009*epilepticus + 0.009*status_epilepticus + 0.007*seizure_disorder + 0.007*dilantin\n",
      "2016-08-26 01:05:29,462 : INFO : topic #41 (0.020): 0.005*mri + 0.003*sicu + 0.003*spine + 0.003*checks + 0.002*collar + 0.002*arm + 0.002*fall + 0.002*dilantin + 0.002*gag + 0.002*exam\n",
      "2016-08-26 01:05:29,550 : INFO : topic #38 (0.020): 0.023*liver + 0.011*lactulose + 0.011*cirrhosis + 0.011*varices + 0.009*ascites + 0.008*egd + 0.008*portal + 0.007*paracentesis + 0.006*endoscopy + 0.006*tips\n",
      "2016-08-26 01:05:29,638 : INFO : topic #17 (0.020): 0.007*granulomatosis + 0.006*wegener_granulomatosis + 0.002*location_fections + 0.002*fections + 0.002*immunocompromised_state + 0.002*herbal + 0.002*controlled_dilaudid + 0.002*cavitating + 0.002*esrd_for + 0.002*pulmonary_vasculitis\n",
      "2016-08-26 01:05:29,727 : INFO : topic #24 (0.020): 0.006*history + 0.006*assessed + 0.005*not_assessed + 0.005*pulse + 0.004*comments + 0.004*medications + 0.003*balance + 0.003*meq_meq + 0.003*copd + 0.003*cmho\n",
      "2016-08-26 01:05:29,826 : INFO : topic diff=0.114174, rho=0.316228\n",
      "2016-08-26 01:05:29,829 : INFO : PROGRESS: pass 3, at document #12000/13421\n",
      "2016-08-26 01:05:49,093 : INFO : merging changes from 2000 documents into a model of 13421 documents\n",
      "2016-08-26 01:06:00,883 : INFO : topic #36 (0.020): 0.005*assessed + 0.005*history + 0.004*not_assessed + 0.003*pulse + 0.003*action + 0.003*meq_meq + 0.003*medications + 0.003*abdominal + 0.003*comments + 0.003*bleed\n",
      "2016-08-26 01:06:00,972 : INFO : topic #24 (0.020): 0.006*history + 0.006*assessed + 0.006*not_assessed + 0.005*pulse + 0.004*comments + 0.004*medications + 0.003*balance + 0.003*meq_meq + 0.003*cmho + 0.003*action\n",
      "2016-08-26 01:06:01,061 : INFO : topic #28 (0.020): 0.002*cocaine + 0.002*psych + 0.002*post_obstructive + 0.002*non_small + 0.002*days_has + 0.001*improvement_his + 0.001*loss_consciousness + 0.001*heroin + 0.001*given_valium + 0.001*obstructive_pna\n",
      "2016-08-26 01:06:01,149 : INFO : topic #22 (0.020): 0.010*dementia + 0.006*pna + 0.005*alzheimer + 0.005*aspiration + 0.003*peep_pip + 0.003*recent_nstemi + 0.002*aspiration_pna + 0.002*multifocal + 0.002*dementia_including + 0.002*hypernatremia\n",
      "2016-08-26 01:06:01,238 : INFO : topic #43 (0.020): 0.004*history_htn + 0.003*ulcerative + 0.003*ulcerative_colitis + 0.002*bowel_perforation + 0.002*tamoxifen + 0.002*tamsulosin + 0.002*pulmonary_fibrosis + 0.002*consults_neurosurg + 0.002*prior_cva + 0.002*fibrosis\n",
      "2016-08-26 01:06:01,337 : INFO : topic diff=0.418504, rho=0.316228\n",
      "2016-08-26 01:08:12,194 : INFO : -10.401 per-word bound, 1352.6 perplexity estimate based on a held-out corpus of 1421 documents with 7017345 words\n",
      "2016-08-26 01:08:12,195 : INFO : PROGRESS: pass 3, at document #13421/13421\n",
      "2016-08-26 01:08:27,091 : INFO : merging changes from 1421 documents into a model of 13421 documents\n",
      "2016-08-26 01:08:38,354 : INFO : topic #42 (0.020): 0.008*torsades + 0.007*hemochromatosis + 0.007*nephrostomy + 0.006*aml + 0.005*labs_troponin + 0.005*lysis + 0.004*nephrostomy_tube + 0.004*hemoptysis_and + 0.004*hypervolemic + 0.004*edema_patient\n",
      "2016-08-26 01:08:38,440 : INFO : topic #7 (0.020): 0.006*cancer + 0.006*effusion + 0.004*pleural + 0.004*metastatic + 0.004*history + 0.004*mass + 0.003*cell + 0.003*pleural_effusion + 0.003*dyspnea + 0.003*pneumonia\n",
      "2016-08-26 01:08:38,526 : INFO : topic #10 (0.020): 0.004*sarcoidosis + 0.004*nitro_drip + 0.004*action_hour + 0.004*stable_pulmonary + 0.003*tachycardia_non + 0.003*presents_osh + 0.003*acute_cholecystitis + 0.003*found_his + 0.002*now_day + 0.002*hilar_mass\n",
      "2016-08-26 01:08:38,615 : INFO : topic #29 (0.020): 0.010*chemotherapy_with + 0.007*tongue_swelling + 0.006*ercp_was + 0.006*date_inserted + 0.005*recurrent_pancreatitis + 0.005*fracture_tls + 0.005*calcium_insulin + 0.004*assessment_male + 0.004*spent_icu + 0.003*neuromuscular_disorder\n",
      "2016-08-26 01:08:38,703 : INFO : topic #18 (0.020): 0.006*groin + 0.005*lab + 0.004*hematoma + 0.004*pericardial + 0.003*drain + 0.003*lopressor + 0.003*cath_lab + 0.003*cabg + 0.003*sheath + 0.003*ntg\n",
      "2016-08-26 01:08:38,800 : INFO : topic diff=0.441386, rho=0.316228\n",
      "2016-08-26 01:08:38,803 : INFO : PROGRESS: pass 4, at document #2000/13421\n",
      "2016-08-26 01:08:53,147 : INFO : merging changes from 2000 documents into a model of 13421 documents\n",
      "2016-08-26 01:09:03,781 : INFO : topic #38 (0.020): 0.035*liver + 0.019*cirrhosis + 0.013*lactulose + 0.012*varices + 0.011*ascites + 0.011*egd + 0.009*transplant + 0.009*paracentesis + 0.009*portal + 0.008*octreotide\n",
      "2016-08-26 01:09:03,866 : INFO : topic #47 (0.020): 0.035*amiodarone + 0.020*icd + 0.012*amio + 0.010*pacer + 0.009*paced + 0.009*cardiomyopathy + 0.008*ablation + 0.008*lidocaine + 0.006*lead + 0.006*amiodarone_gtt\n",
      "2016-08-26 01:09:03,954 : INFO : topic #43 (0.020): 0.004*history_htn + 0.004*ulcerative + 0.004*ulcerative_colitis + 0.002*pulmonary_fibrosis + 0.002*tamsulosin + 0.002*transverse_colon + 0.002*fibrosis + 0.002*drains_wounds + 0.002*left_cerebellar + 0.002*consults_neurosurg\n",
      "2016-08-26 01:09:04,037 : INFO : topic #14 (0.020): 0.006*prbc + 0.006*bleeding + 0.005*bleed + 0.004*ffp + 0.003*transfusion + 0.002*active + 0.002*floor + 0.002*unit_prbc + 0.002*transfused + 0.002*nausea\n",
      "2016-08-26 01:09:04,120 : INFO : topic #12 (0.020): 0.012*wound + 0.006*foot + 0.005*coccyx + 0.004*vanco + 0.004*integrity + 0.004*area + 0.004*skin_integrity + 0.004*stage + 0.004*dressing + 0.004*wound_care\n",
      "2016-08-26 01:09:04,217 : INFO : topic diff=0.203002, rho=0.301511\n",
      "2016-08-26 01:09:04,219 : INFO : PROGRESS: pass 4, at document #4000/13421\n",
      "2016-08-26 01:09:17,153 : INFO : merging changes from 2000 documents into a model of 13421 documents\n",
      "2016-08-26 01:09:27,924 : INFO : topic #28 (0.020): 0.003*cocaine + 0.002*psych + 0.002*non_small + 0.002*heroin + 0.001*days_has + 0.001*improvement_his + 0.001*mushrooms + 0.001*past + 0.001*polysubstance + 0.001*increasing_abdominal\n",
      "2016-08-26 01:09:28,012 : INFO : topic #4 (0.020): 0.007*failure + 0.005*action + 0.004*hypotension + 0.004*history + 0.004*renal_failure + 0.002*sepsis + 0.002*setting + 0.002*cmho + 0.002*meq_meq + 0.002*shock\n",
      "2016-08-26 01:09:28,098 : INFO : topic #39 (0.020): 0.003*hemoglobin + 0.002*obstructive_pneumonia + 0.002*male_nad + 0.002*strict_npo + 0.002*intraoperatively + 0.002*lbp + 0.001*brain_abscess + 0.001*tracheal_stent + 0.001*continue_dilantin + 0.001*assessment_nsr\n",
      "2016-08-26 01:09:28,185 : INFO : topic #1 (0.020): 0.010*etoh + 0.008*ativan + 0.007*ciwa + 0.006*withdrawal + 0.005*abuse + 0.005*agitated + 0.004*agitation + 0.004*valium + 0.004*haldol + 0.004*scale\n",
      "2016-08-26 01:09:28,271 : INFO : topic #15 (0.020): 0.012*neutropenia + 0.011*bmt + 0.009*neutropenic + 0.006*aml + 0.006*myeloma + 0.006*gvhd + 0.006*acyclovir + 0.005*multiple_myeloma + 0.005*voriconazole + 0.005*cell_lymphoma\n",
      "2016-08-26 01:09:28,368 : INFO : topic diff=0.216099, rho=0.301511\n",
      "2016-08-26 01:09:28,371 : INFO : PROGRESS: pass 4, at document #6000/13421\n",
      "2016-08-26 01:09:42,093 : INFO : merging changes from 2000 documents into a model of 13421 documents\n",
      "2016-08-26 01:09:52,945 : INFO : topic #37 (0.020): 0.002*fentanyl + 0.002*amts + 0.002*versed + 0.002*ngt + 0.002*suctioned_for + 0.002*intubation + 0.002*aline + 0.002*vent_settings + 0.002*intubated_and + 0.001*resp_care\n",
      "2016-08-26 01:09:53,032 : INFO : topic #35 (0.020): 0.002*pneumonectomy + 0.002*pfo + 0.001*pvi + 0.001*urethral + 0.001*leg + 0.001*ativan + 0.001*now_appears + 0.001*correctly + 0.001*avr_tissue + 0.001*system\n",
      "2016-08-26 01:09:53,121 : INFO : topic #9 (0.020): 0.003*wash_out + 0.003*pancreatic_pseudocyst + 0.003*diltiazem_drip + 0.003*however_his + 0.003*lumbar_sacral + 0.002*abscesses + 0.002*response_maintaining + 0.002*episodes_brbpr + 0.002*renal_issues + 0.002*would_recommend\n",
      "2016-08-26 01:09:53,207 : INFO : topic #36 (0.020): 0.005*assessed + 0.005*not_assessed + 0.005*history + 0.003*pulse + 0.003*meq_meq + 0.003*action + 0.003*medications + 0.003*abdominal + 0.003*osh + 0.003*comments\n",
      "2016-08-26 01:09:53,293 : INFO : topic #42 (0.020): 0.006*nephrostomy + 0.004*torsades + 0.004*nephrostomy_tube + 0.004*hemochromatosis + 0.004*aml + 0.003*lysis + 0.003*pheresis + 0.003*labs_troponin + 0.002*hypervolemic + 0.002*with_aml\n",
      "2016-08-26 01:09:53,390 : INFO : topic diff=0.184510, rho=0.301511\n",
      "2016-08-26 01:09:53,393 : INFO : PROGRESS: pass 4, at document #8000/13421\n",
      "2016-08-26 01:10:07,708 : INFO : merging changes from 2000 documents into a model of 13421 documents\n",
      "2016-08-26 01:10:19,846 : INFO : topic #1 (0.020): 0.010*etoh + 0.008*ativan + 0.006*ciwa + 0.005*agitated + 0.005*withdrawal + 0.005*abuse + 0.004*agitation + 0.004*valium + 0.004*haldol + 0.004*scale\n",
      "2016-08-26 01:10:19,931 : INFO : topic #30 (0.020): 0.049*ercp + 0.019*pancreatitis + 0.014*biliary + 0.011*cholangitis + 0.010*cbd + 0.010*ruq + 0.010*for_ercp + 0.009*stone + 0.008*duct + 0.008*stones\n",
      "2016-08-26 01:10:20,019 : INFO : topic #48 (0.020): 0.011*cll + 0.006*rbc_scan + 0.006*tagged + 0.005*tagged_rbc + 0.002*recent_uti + 0.002*and_brbpr + 0.002*plavix_asa + 0.002*melenotic + 0.002*possible_ercp + 0.002*possible_colonoscopy\n",
      "2016-08-26 01:10:20,106 : INFO : topic #35 (0.020): 0.002*pneumonectomy + 0.001*pfo + 0.001*chest_with + 0.001*system + 0.001*pvi + 0.001*pulses_skin + 0.001*correctly + 0.001*leg + 0.001*urethral + 0.001*pedial\n",
      "2016-08-26 01:10:20,194 : INFO : topic #21 (0.020): 0.006*fentanyl + 0.006*ngt + 0.006*acidosis + 0.005*lap + 0.005*boluses + 0.005*vasopressin + 0.004*neo + 0.004*pressors + 0.004*abdominal + 0.003*suction\n",
      "2016-08-26 01:10:20,292 : INFO : topic diff=0.163661, rho=0.301511\n",
      "2016-08-26 01:10:20,294 : INFO : PROGRESS: pass 4, at document #10000/13421\n",
      "2016-08-26 01:10:35,704 : INFO : merging changes from 2000 documents into a model of 13421 documents\n",
      "2016-08-26 01:10:47,860 : INFO : topic #13 (0.020): 0.005*neo + 0.003*insulin_gtt + 0.003*titrated + 0.002*extubate + 0.002*protocol + 0.002*cpap + 0.002*bilious + 0.002*simv + 0.002*update + 0.002*extubation\n",
      "2016-08-26 01:10:47,947 : INFO : topic #1 (0.020): 0.010*etoh + 0.007*ativan + 0.007*ciwa + 0.005*agitated + 0.005*withdrawal + 0.005*valium + 0.004*abuse + 0.004*agitation + 0.004*scale + 0.004*haldol\n",
      "2016-08-26 01:10:48,035 : INFO : topic #4 (0.020): 0.007*failure + 0.004*action + 0.004*hypotension + 0.004*history + 0.004*renal_failure + 0.002*setting + 0.002*sepsis + 0.002*cmho + 0.002*not_assessed + 0.002*meq_meq\n",
      "2016-08-26 01:10:48,119 : INFO : topic #40 (0.020): 0.059*trach + 0.029*bronch + 0.019*stent + 0.013*tracheal + 0.011*tracheostomy + 0.010*rigid + 0.007*hemoptysis + 0.007*trach_mask + 0.007*bronchoscopy + 0.006*rigid_bronch\n",
      "2016-08-26 01:10:48,201 : INFO : topic #20 (0.020): 0.006*dilaudid + 0.004*pain_control + 0.004*pca + 0.004*for_pain + 0.003*nausea + 0.003*relief + 0.003*face + 0.003*deep + 0.003*morphine + 0.003*sicu\n",
      "2016-08-26 01:10:48,299 : INFO : topic diff=0.079710, rho=0.301511\n",
      "2016-08-26 01:10:48,301 : INFO : PROGRESS: pass 4, at document #12000/13421\n",
      "2016-08-26 01:11:07,059 : INFO : merging changes from 2000 documents into a model of 13421 documents\n",
      "2016-08-26 01:11:18,159 : INFO : topic #9 (0.020): 0.004*disopyramide + 0.004*response_maintaining + 0.004*episodes_brbpr + 0.004*abscesses + 0.003*diltiazem_drip + 0.003*pmh_severe + 0.003*cerebellar_mass + 0.003*pancreatic_pseudocyst + 0.003*with_sbo + 0.003*however_his\n",
      "2016-08-26 01:11:18,245 : INFO : topic #0 (0.020): 0.008*argatroban + 0.007*rcc + 0.007*vocal + 0.007*empyema + 0.004*arthroplasty + 0.004*presentation_hospital + 0.004*vocal_cord + 0.003*tail + 0.003*home_however + 0.003*treatment_the\n",
      "2016-08-26 01:11:18,332 : INFO : topic #22 (0.020): 0.013*dementia + 0.008*pna + 0.006*aspiration + 0.006*alzheimer + 0.003*aspiration_pna + 0.003*peep_pip + 0.003*recent_nstemi + 0.003*dnr + 0.003*hypernatremia + 0.002*multifocal\n",
      "2016-08-26 01:11:18,419 : INFO : topic #46 (0.020): 0.006*history + 0.004*action + 0.004*ccu + 0.004*chest_pain + 0.003*disease + 0.003*cad + 0.003*lad + 0.003*daily + 0.003*nstemi + 0.003*heparin_gtt\n",
      "2016-08-26 01:11:18,509 : INFO : topic #44 (0.020): 0.006*pulse_present + 0.005*history + 0.005*pulse + 0.004*absent + 0.003*abdominal + 0.003*throat + 0.003*nose + 0.003*cardiovascular + 0.003*nose_throat + 0.003*rash\n",
      "2016-08-26 01:11:18,606 : INFO : topic diff=0.364124, rho=0.301511\n",
      "2016-08-26 01:13:27,882 : INFO : -10.379 per-word bound, 1331.3 perplexity estimate based on a held-out corpus of 1421 documents with 7017345 words\n",
      "2016-08-26 01:13:27,883 : INFO : PROGRESS: pass 4, at document #13421/13421\n",
      "2016-08-26 01:13:42,534 : INFO : merging changes from 1421 documents into a model of 13421 documents\n",
      "2016-08-26 01:13:53,325 : INFO : topic #0 (0.020): 0.009*vocal + 0.008*rcc + 0.005*empyema + 0.005*argatroban + 0.005*wbc_lines + 0.005*arthroplasty + 0.005*acute_cholecystitis + 0.005*vocal_cord + 0.004*tail + 0.004*vocal_cords\n",
      "2016-08-26 01:13:53,414 : INFO : topic #9 (0.020): 0.006*pancreatic_pseudocyst + 0.005*diltiazem_drip + 0.005*abscesses + 0.004*response_maintaining + 0.004*renal_issues + 0.004*cerebellar_mass + 0.004*episodes_brbpr + 0.004*lumbar_sacral + 0.004*vincristine + 0.003*open_ccy\n",
      "2016-08-26 01:13:53,501 : INFO : topic #39 (0.020): 0.004*hemoglobin + 0.003*obstructive_pneumonia + 0.003*male_nad + 0.003*strict_npo + 0.002*intraoperatively + 0.002*lbp + 0.002*assessment_nsr + 0.002*lap_chole + 0.002*brain_abscess + 0.002*continue_dilantin\n",
      "2016-08-26 01:13:53,589 : INFO : topic #36 (0.020): 0.005*assessed + 0.005*not_assessed + 0.005*history + 0.003*meq_meq + 0.003*action + 0.003*pulse + 0.003*abdominal + 0.003*medications + 0.003*osh + 0.003*comments\n",
      "2016-08-26 01:13:53,678 : INFO : topic #19 (0.020): 0.007*flush_temporary + 0.007*access_icu + 0.006*judicious + 0.006*adenoca + 0.006*obstruction_central + 0.005*central_upper + 0.005*pharesis + 0.005*icu_location + 0.005*significant_bleeding + 0.004*upper_assessment\n",
      "2016-08-26 01:13:53,776 : INFO : topic diff=0.400443, rho=0.301511\n",
      "2016-08-26 01:13:53,778 : INFO : PROGRESS: pass 5, at document #2000/13421\n",
      "2016-08-26 01:14:07,802 : INFO : merging changes from 2000 documents into a model of 13421 documents\n",
      "2016-08-26 01:14:18,050 : INFO : topic #15 (0.020): 0.013*neutropenia + 0.011*bmt + 0.010*neutropenic + 0.008*acyclovir + 0.008*aml + 0.007*myeloma + 0.007*gvhd + 0.006*multiple_myeloma + 0.006*voriconazole + 0.005*cell_lymphoma\n",
      "2016-08-26 01:14:18,134 : INFO : topic #40 (0.020): 0.070*trach + 0.035*bronch + 0.029*stent + 0.018*tracheal + 0.017*tracheostomy + 0.013*rigid + 0.011*hemoptysis + 0.011*bronchoscopy + 0.009*stent_placement + 0.008*rigid_bronch\n",
      "2016-08-26 01:14:18,218 : INFO : topic #14 (0.020): 0.007*bleeding + 0.007*prbc + 0.006*bleed + 0.005*ffp + 0.003*transfusion + 0.003*active + 0.002*transfused + 0.002*unit_prbc + 0.002*floor + 0.002*nausea\n",
      "2016-08-26 01:14:18,301 : INFO : topic #37 (0.020): 0.003*fentanyl + 0.002*versed + 0.002*amts + 0.002*ngt + 0.002*intubated_and + 0.002*intubation + 0.002*suctioned_for + 0.002*aline + 0.002*vent_settings + 0.002*amounts\n",
      "2016-08-26 01:14:18,389 : INFO : topic #18 (0.020): 0.006*groin + 0.005*lab + 0.004*hematoma + 0.004*pericardial + 0.004*lopressor + 0.003*sheath + 0.003*cabg + 0.003*cath_lab + 0.003*drain + 0.003*ntg\n",
      "2016-08-26 01:14:18,486 : INFO : topic diff=0.183981, rho=0.288675\n",
      "2016-08-26 01:14:18,489 : INFO : PROGRESS: pass 5, at document #4000/13421\n",
      "2016-08-26 01:14:31,219 : INFO : merging changes from 2000 documents into a model of 13421 documents\n",
      "2016-08-26 01:14:41,430 : INFO : topic #23 (0.020): 0.009*pericardiocentesis + 0.005*tox_screens + 0.004*lipase_and + 0.003*paraesophageal + 0.003*paraesophageal_hernia + 0.003*partial_gastrectomy + 0.003*screens + 0.002*read_cxr + 0.002*multiple_abdominal + 0.002*radical_nephrectomy\n",
      "2016-08-26 01:14:41,519 : INFO : topic #36 (0.020): 0.005*assessed + 0.005*not_assessed + 0.005*history + 0.003*meq_meq + 0.003*pulse + 0.003*action + 0.003*abdominal + 0.003*medications + 0.003*osh + 0.003*comments\n",
      "2016-08-26 01:14:41,607 : INFO : topic #48 (0.020): 0.015*cll + 0.008*tagged + 0.008*rbc_scan + 0.007*tagged_rbc + 0.003*recent_uti + 0.003*rsbi_sbt + 0.002*plavix_asa + 0.002*possible_ercp + 0.002*brbpr + 0.002*melenotic\n",
      "2016-08-26 01:14:41,692 : INFO : topic #16 (0.020): 0.013*evd + 0.008*pancreatitis_acute + 0.004*methotrexate + 0.004*expressive + 0.004*ped + 0.004*aphasia + 0.003*expressive_aphasia + 0.003*tachycardia_cvp + 0.003*tumor_lysis + 0.003*ped_struck\n",
      "2016-08-26 01:14:41,780 : INFO : topic #1 (0.020): 0.012*etoh + 0.009*ativan + 0.007*ciwa + 0.006*withdrawal + 0.006*abuse + 0.006*agitated + 0.005*agitation + 0.004*valium + 0.004*haldol + 0.004*scale\n",
      "2016-08-26 01:14:41,877 : INFO : topic diff=0.197900, rho=0.288675\n",
      "2016-08-26 01:14:41,879 : INFO : PROGRESS: pass 5, at document #6000/13421\n",
      "2016-08-26 01:14:55,314 : INFO : merging changes from 2000 documents into a model of 13421 documents\n",
      "2016-08-26 01:15:05,750 : INFO : topic #27 (0.020): 0.009*gsw + 0.006*exlap + 0.005*iga + 0.005*discharged_with + 0.005*anastamosis + 0.004*takedown + 0.003*wbcs_and + 0.003*shelter + 0.003*ileum + 0.003*had_egd\n",
      "2016-08-26 01:15:05,833 : INFO : topic #14 (0.020): 0.007*prbc + 0.007*bleeding + 0.006*bleed + 0.005*ffp + 0.003*transfusion + 0.002*active + 0.002*unit_prbc + 0.002*transfused + 0.002*floor + 0.002*nausea\n",
      "2016-08-26 01:15:05,918 : INFO : topic #3 (0.020): 0.003*stab + 0.003*pancreatic_enzymes + 0.003*toxic_megacolon + 0.003*stab_wounds + 0.003*eus + 0.002*hernias + 0.002*tracheobronchial + 0.002*megacolon + 0.002*ingested + 0.002*records_and\n",
      "2016-08-26 01:15:06,004 : INFO : topic #33 (0.020): 0.006*date + 0.006*action + 0.006*order + 0.005*order_date + 0.005*medications + 0.005*meq_meq + 0.004*cmho + 0.004*assessment_and + 0.004*and_plan + 0.003*cardiovascular\n",
      "2016-08-26 01:15:06,093 : INFO : topic #29 (0.020): 0.005*chemotherapy_with + 0.004*fracture_tls + 0.004*tongue_swelling + 0.003*date_inserted + 0.003*ercp_was + 0.003*recurrent_pancreatitis + 0.003*calcium_insulin + 0.002*procainamide + 0.002*assessment_male + 0.002*the_tachycardia\n",
      "2016-08-26 01:15:06,191 : INFO : topic diff=0.169155, rho=0.288675\n",
      "2016-08-26 01:15:06,193 : INFO : PROGRESS: pass 5, at document #8000/13421\n",
      "2016-08-26 01:15:20,245 : INFO : merging changes from 2000 documents into a model of 13421 documents\n",
      "2016-08-26 01:15:31,673 : INFO : topic #48 (0.020): 0.011*cll + 0.006*rbc_scan + 0.006*tagged + 0.005*tagged_rbc + 0.002*recent_uti + 0.002*plavix_asa + 0.002*rsbi_sbt + 0.002*melenotic + 0.002*possible_ercp + 0.002*brbpr\n",
      "2016-08-26 01:15:31,758 : INFO : topic #42 (0.020): 0.006*nephrostomy + 0.004*torsades + 0.004*nephrostomy_tube + 0.004*pheresis + 0.003*hemochromatosis + 0.003*lysis + 0.003*hemoptysis_and + 0.002*with_aml + 0.002*aml + 0.002*labs_troponin\n",
      "2016-08-26 01:15:31,844 : INFO : topic #15 (0.020): 0.009*neutropenia + 0.009*neutropenic + 0.008*bmt + 0.007*aml + 0.006*acyclovir + 0.006*myeloma + 0.005*multiple_myeloma + 0.005*voriconazole + 0.004*gvhd + 0.004*hickman\n",
      "2016-08-26 01:15:31,932 : INFO : topic #49 (0.020): 0.010*neo + 0.009*svo + 0.008*epi + 0.007*cabg + 0.006*wires + 0.005*volume + 0.005*avr + 0.005*paced + 0.004*milrinone + 0.004*fick\n",
      "2016-08-26 01:15:32,020 : INFO : topic #33 (0.020): 0.006*date + 0.006*order + 0.006*action + 0.005*order_date + 0.005*medications + 0.004*meq_meq + 0.004*cmho + 0.004*assessment_and + 0.004*and_plan + 0.003*cardiovascular\n",
      "2016-08-26 01:15:32,117 : INFO : topic diff=0.150726, rho=0.288675\n",
      "2016-08-26 01:15:32,120 : INFO : PROGRESS: pass 5, at document #10000/13421\n",
      "2016-08-26 01:15:47,206 : INFO : merging changes from 2000 documents into a model of 13421 documents\n",
      "2016-08-26 01:15:58,690 : INFO : topic #37 (0.020): 0.002*amts + 0.002*fentanyl + 0.002*ngt + 0.002*suctioned_for + 0.002*versed + 0.002*resp_care + 0.002*aline + 0.002*vent_settings + 0.002*intubation + 0.002*intubated_and\n",
      "2016-08-26 01:15:58,778 : INFO : topic #19 (0.020): 0.003*subtotal_gastrectomy + 0.003*judicious + 0.002*above_blood + 0.002*significant_bleeding + 0.002*flush_temporary + 0.002*hypoxia_from + 0.002*access_icu + 0.002*adenoca + 0.002*and_voriconazole + 0.002*cva_admitted\n",
      "2016-08-26 01:15:58,864 : INFO : topic #29 (0.020): 0.004*calcium_insulin + 0.004*chemotherapy_with + 0.003*ercp_was + 0.003*tongue_swelling + 0.003*fracture_tls + 0.002*respond_and + 0.002*stent_who + 0.002*aborted_due + 0.002*varices_who + 0.002*date_inserted\n",
      "2016-08-26 01:15:58,950 : INFO : topic #34 (0.020): 0.084*arrest + 0.027*cardiac_arrest + 0.024*pea + 0.020*cooling + 0.017*pea_arrest + 0.017*protocol + 0.017*sun + 0.015*cpr + 0.008*arctic + 0.008*atropine\n",
      "2016-08-26 01:15:59,036 : INFO : topic #26 (0.020): 0.005*versed + 0.005*bronch + 0.004*ventilation + 0.004*intubation + 0.004*peg + 0.004*osh + 0.003*failure + 0.003*pna + 0.003*ards + 0.003*fentanyl\n",
      "2016-08-26 01:15:59,134 : INFO : topic diff=0.069811, rho=0.288675\n",
      "2016-08-26 01:15:59,136 : INFO : PROGRESS: pass 5, at document #12000/13421\n",
      "2016-08-26 01:16:17,711 : INFO : merging changes from 2000 documents into a model of 13421 documents\n",
      "2016-08-26 01:16:28,496 : INFO : topic #25 (0.020): 0.106*seizure + 0.037*eeg + 0.034*activity + 0.031*seizures + 0.027*seizure_activity + 0.016*dilantin + 0.016*keppra + 0.012*epilepticus + 0.012*status_epilepticus + 0.011*neurology\n",
      "2016-08-26 01:16:28,581 : INFO : topic #16 (0.020): 0.012*evd + 0.008*methotrexate + 0.006*expressive + 0.006*aphasia + 0.006*expressive_aphasia + 0.006*pancreatitis_acute + 0.005*tumor_lysis + 0.004*tachycardia_cvp + 0.003*risk_for + 0.002*ped\n",
      "2016-08-26 01:16:28,667 : INFO : topic #27 (0.020): 0.013*gsw + 0.009*discharged_with + 0.007*anastamosis + 0.007*exlap + 0.005*iga + 0.005*takedown + 0.005*had_egd + 0.005*ileum + 0.003*wbcs_and + 0.003*asp_precautions\n",
      "2016-08-26 01:16:28,754 : INFO : topic #9 (0.020): 0.004*response_maintaining + 0.004*disopyramide + 0.004*episodes_brbpr + 0.004*abscesses + 0.003*diltiazem_drip + 0.003*pmh_severe + 0.003*pancreatic_pseudocyst + 0.003*cerebellar_mass + 0.002*with_sbo + 0.002*however_his\n",
      "2016-08-26 01:16:28,843 : INFO : topic #48 (0.020): 0.015*cll + 0.011*tagged + 0.010*rbc_scan + 0.009*tagged_rbc + 0.005*melenotic + 0.004*recent_uti + 0.004*plavix_asa + 0.003*likely_diverticular + 0.002*groove + 0.002*rsbi_sbt\n",
      "2016-08-26 01:16:28,941 : INFO : topic diff=0.335559, rho=0.288675\n",
      "2016-08-26 01:18:38,718 : INFO : -10.363 per-word bound, 1316.8 perplexity estimate based on a held-out corpus of 1421 documents with 7017345 words\n",
      "2016-08-26 01:18:38,719 : INFO : PROGRESS: pass 5, at document #13421/13421\n",
      "2016-08-26 01:18:53,284 : INFO : merging changes from 1421 documents into a model of 13421 documents\n",
      "2016-08-26 01:19:03,806 : INFO : topic #35 (0.020): 0.004*pneumonectomy + 0.003*pvi + 0.003*pfo + 0.002*urethral + 0.002*now_appears + 0.002*were_initially + 0.002*avr_tissue + 0.002*mediastinal_shift + 0.002*decortication + 0.002*temporary_pacing\n",
      "2016-08-26 01:19:03,896 : INFO : topic #9 (0.020): 0.006*pancreatic_pseudocyst + 0.005*abscesses + 0.005*diltiazem_drip + 0.004*response_maintaining + 0.004*renal_issues + 0.004*episodes_brbpr + 0.004*cerebellar_mass + 0.004*lumbar_sacral + 0.003*vincristine + 0.003*open_ccy\n",
      "2016-08-26 01:19:03,985 : INFO : topic #47 (0.020): 0.037*amiodarone + 0.020*icd + 0.013*amio + 0.012*pacer + 0.011*paced + 0.010*cardiomyopathy + 0.009*ablation + 0.008*lidocaine + 0.006*lead + 0.006*tachycardia\n",
      "2016-08-26 01:19:04,069 : INFO : topic #20 (0.020): 0.009*dilaudid + 0.007*pain_control + 0.006*pca + 0.005*for_pain + 0.005*morphine + 0.004*face + 0.004*nausea + 0.003*deep + 0.003*relief + 0.003*oob\n",
      "2016-08-26 01:19:04,157 : INFO : topic #41 (0.020): 0.006*mri + 0.004*fracture + 0.004*checks + 0.004*fall + 0.004*trauma + 0.003*exam + 0.003*spine + 0.003*neuro_checks + 0.002*side + 0.002*neuro_exam\n",
      "2016-08-26 01:19:04,257 : INFO : topic diff=0.379819, rho=0.288675\n",
      "2016-08-26 01:19:04,259 : INFO : PROGRESS: pass 6, at document #2000/13421\n",
      "2016-08-26 01:19:18,147 : INFO : merging changes from 2000 documents into a model of 13421 documents\n",
      "2016-08-26 01:19:28,391 : INFO : topic #25 (0.020): 0.105*seizure + 0.037*eeg + 0.031*activity + 0.030*seizures + 0.024*seizure_activity + 0.019*keppra + 0.017*dilantin + 0.011*neurology + 0.011*seizure_disorder + 0.010*unresponsive\n",
      "2016-08-26 01:19:28,481 : INFO : topic #22 (0.020): 0.017*dementia + 0.010*pna + 0.007*aspiration + 0.006*alzheimer + 0.005*dnr + 0.004*hypernatremia + 0.004*aspiration_pna + 0.003*nursing_home + 0.003*status_dnr + 0.002*for_pna\n",
      "2016-08-26 01:19:28,568 : INFO : topic #16 (0.020): 0.015*evd + 0.010*pancreatitis_acute + 0.005*methotrexate + 0.004*aphasia + 0.004*tachycardia_cvp + 0.004*expressive + 0.004*tumor_lysis + 0.004*ped + 0.004*expressive_aphasia + 0.003*ped_struck\n",
      "2016-08-26 01:19:28,654 : INFO : topic #3 (0.020): 0.006*stab + 0.005*pancreatic_enzymes + 0.004*toxic_megacolon + 0.004*stab_wounds + 0.004*eus + 0.003*tracheobronchial + 0.003*megacolon + 0.003*have_underlying + 0.003*records_and + 0.003*hernias\n",
      "2016-08-26 01:19:28,745 : INFO : topic #9 (0.020): 0.005*pancreatic_pseudocyst + 0.004*abscesses + 0.004*diltiazem_drip + 0.004*response_maintaining + 0.003*renal_issues + 0.003*episodes_brbpr + 0.003*cerebellar_mass + 0.003*lumbar_sacral + 0.003*vincristine + 0.003*was_ruled\n",
      "2016-08-26 01:19:28,844 : INFO : topic diff=0.171040, rho=0.277350\n",
      "2016-08-26 01:19:28,847 : INFO : PROGRESS: pass 6, at document #4000/13421\n",
      "2016-08-26 01:19:41,508 : INFO : merging changes from 2000 documents into a model of 13421 documents\n",
      "2016-08-26 01:19:51,642 : INFO : topic #27 (0.020): 0.010*gsw + 0.008*exlap + 0.006*discharged_with + 0.005*anastamosis + 0.005*takedown + 0.004*iga + 0.004*wbcs_and + 0.003*allergies_shellfish + 0.003*and_ild + 0.003*ileum\n",
      "2016-08-26 01:19:51,732 : INFO : topic #19 (0.020): 0.006*access_icu + 0.005*flush_temporary + 0.004*judicious + 0.004*obstruction_central + 0.004*central_upper + 0.004*adenoca + 0.003*pharesis + 0.003*icu_location + 0.003*upper_assessment + 0.003*significant_bleeding\n",
      "2016-08-26 01:19:51,818 : INFO : topic #14 (0.020): 0.008*bleeding + 0.007*prbc + 0.006*bleed + 0.005*ffp + 0.003*transfusion + 0.003*active + 0.002*unit_prbc + 0.002*transfused + 0.002*nausea + 0.002*units_prbc\n",
      "2016-08-26 01:19:51,907 : INFO : topic #43 (0.020): 0.003*ulcerative + 0.003*ulcerative_colitis + 0.003*history_htn + 0.003*fibrosis + 0.003*pulmonary_fibrosis + 0.003*colitis + 0.002*suprapubic + 0.002*tamsulosin + 0.002*transverse_colon + 0.002*drains_wounds\n",
      "2016-08-26 01:19:51,998 : INFO : topic #9 (0.020): 0.004*pancreatic_pseudocyst + 0.004*abscesses + 0.003*response_maintaining + 0.003*diltiazem_drip + 0.003*episodes_brbpr + 0.003*renal_issues + 0.003*cerebellar_mass + 0.002*lumbar_sacral + 0.002*vincristine + 0.002*was_ruled\n",
      "2016-08-26 01:19:52,097 : INFO : topic diff=0.185325, rho=0.277350\n",
      "2016-08-26 01:19:52,100 : INFO : PROGRESS: pass 6, at document #6000/13421\n",
      "2016-08-26 01:20:05,390 : INFO : merging changes from 2000 documents into a model of 13421 documents\n",
      "2016-08-26 01:20:15,726 : INFO : topic #24 (0.020): 0.007*assessed + 0.007*not_assessed + 0.007*history + 0.006*pulse + 0.004*comments + 0.004*medications + 0.004*balance + 0.004*meq_meq + 0.003*cmho + 0.003*pulse_not\n",
      "2016-08-26 01:20:15,813 : INFO : topic #16 (0.020): 0.011*evd + 0.007*pancreatitis_acute + 0.003*expressive + 0.003*aphasia + 0.003*expressive_aphasia + 0.003*methotrexate + 0.003*tumor_lysis + 0.003*ped + 0.003*tachycardia_cvp + 0.003*risk_for\n",
      "2016-08-26 01:20:15,902 : INFO : topic #5 (0.020): 0.003*labetelol + 0.003*thoracotomy_and + 0.003*induction + 0.003*gelweave + 0.002*ganglia_hemorrhage + 0.002*discontinuation + 0.002*unable_aspirate + 0.002*diversion + 0.002*located_the + 0.002*showed_afib\n",
      "2016-08-26 01:20:15,994 : INFO : topic #7 (0.020): 0.006*effusion + 0.006*cancer + 0.005*pleural + 0.004*metastatic + 0.004*mass + 0.004*history + 0.003*pleural_effusion + 0.003*cell + 0.003*pneumonia + 0.003*breast\n",
      "2016-08-26 01:20:16,082 : INFO : topic #36 (0.020): 0.005*assessed + 0.005*not_assessed + 0.005*history + 0.003*meq_meq + 0.003*abdominal + 0.003*action + 0.003*pulse + 0.003*medications + 0.003*osh + 0.003*comments\n",
      "2016-08-26 01:20:16,181 : INFO : topic diff=0.158938, rho=0.277350\n",
      "2016-08-26 01:20:16,183 : INFO : PROGRESS: pass 6, at document #8000/13421\n",
      "2016-08-26 01:20:30,143 : INFO : merging changes from 2000 documents into a model of 13421 documents\n",
      "2016-08-26 01:20:41,253 : INFO : topic #42 (0.020): 0.006*nephrostomy + 0.004*pheresis + 0.004*torsades + 0.004*nephrostomy_tube + 0.003*hemochromatosis + 0.003*lysis + 0.003*hemoptysis_and + 0.002*with_aml + 0.002*labs_troponin + 0.002*aml\n",
      "2016-08-26 01:20:41,342 : INFO : topic #49 (0.020): 0.010*neo + 0.009*svo + 0.008*epi + 0.007*cabg + 0.006*wires + 0.005*avr + 0.005*paced + 0.005*volume + 0.004*milrinone + 0.004*fick\n",
      "2016-08-26 01:20:41,432 : INFO : topic #21 (0.020): 0.008*fentanyl + 0.006*acidosis + 0.006*ngt + 0.006*neo + 0.005*boluses + 0.005*lap + 0.005*vasopressin + 0.005*abdominal + 0.005*pressors + 0.004*surgery\n",
      "2016-08-26 01:20:41,522 : INFO : topic #10 (0.020): 0.003*sarcoidosis + 0.003*nitro_drip + 0.002*stable_pulmonary + 0.002*developed_chest + 0.002*acute_cholecystitis + 0.002*chest_tightness + 0.002*action_hour + 0.002*tachycardia_non + 0.002*presents_osh + 0.001*found_his\n",
      "2016-08-26 01:20:41,611 : INFO : topic #2 (0.020): 0.001*nicardipine_mcg + 0.001*positive_stools + 0.001*lingular + 0.001*bleeding + 0.001*cont_lactulose + 0.001*fax_home + 0.001*gastric + 0.001*repeat_egd + 0.001*pending_further + 0.001*ccs\n",
      "2016-08-26 01:20:41,711 : INFO : topic diff=0.142479, rho=0.277350\n",
      "2016-08-26 01:20:41,713 : INFO : PROGRESS: pass 6, at document #10000/13421\n",
      "2016-08-26 01:20:56,720 : INFO : merging changes from 2000 documents into a model of 13421 documents\n",
      "2016-08-26 01:21:07,782 : INFO : topic #17 (0.020): 0.006*granulomatosis + 0.005*wegener_granulomatosis + 0.003*immunocompromised_state + 0.002*location_fections + 0.002*fections + 0.002*herbal + 0.002*controlled_dilaudid + 0.002*cavitating + 0.002*for_hyponatremia + 0.002*lymphopenia\n",
      "2016-08-26 01:21:07,874 : INFO : topic #19 (0.020): 0.003*subtotal_gastrectomy + 0.003*judicious + 0.003*access_icu + 0.002*flush_temporary + 0.002*above_blood + 0.002*significant_bleeding + 0.002*hypoxia_from + 0.002*adenoca + 0.002*and_voriconazole + 0.002*pharesis\n",
      "2016-08-26 01:21:07,963 : INFO : topic #36 (0.020): 0.005*assessed + 0.005*not_assessed + 0.005*history + 0.003*meq_meq + 0.003*pulse + 0.003*action + 0.003*medications + 0.003*abdominal + 0.003*comments + 0.003*balance\n",
      "2016-08-26 01:21:08,049 : INFO : topic #40 (0.020): 0.068*trach + 0.030*bronch + 0.024*stent + 0.014*tracheostomy + 0.013*tracheal + 0.010*rigid + 0.009*hemoptysis + 0.009*bronchoscopy + 0.007*stent_placement + 0.007*trach_mask\n",
      "2016-08-26 01:21:08,140 : INFO : topic #24 (0.020): 0.007*assessed + 0.007*not_assessed + 0.007*history + 0.006*pulse + 0.004*comments + 0.004*medications + 0.004*balance + 0.004*meq_meq + 0.003*cmho + 0.003*pulse_not\n",
      "2016-08-26 01:21:08,240 : INFO : topic diff=0.065426, rho=0.277350\n",
      "2016-08-26 01:21:08,242 : INFO : PROGRESS: pass 6, at document #12000/13421\n",
      "2016-08-26 01:21:26,781 : INFO : merging changes from 2000 documents into a model of 13421 documents\n",
      "2016-08-26 01:21:37,626 : INFO : topic #47 (0.020): 0.039*amiodarone + 0.016*icd + 0.014*amio + 0.012*pacer + 0.010*paced + 0.009*cardiomyopathy + 0.009*lidocaine + 0.008*ablation + 0.007*pacemaker + 0.006*tachycardia\n",
      "2016-08-26 01:21:37,713 : INFO : topic #4 (0.020): 0.007*failure + 0.005*action + 0.005*hypotension + 0.004*history + 0.004*renal_failure + 0.003*cmho + 0.003*sepsis + 0.003*shock + 0.003*levophed + 0.003*setting\n",
      "2016-08-26 01:21:37,797 : INFO : topic #13 (0.020): 0.006*neo + 0.003*insulin_gtt + 0.003*titrated + 0.003*extubate + 0.002*cpap + 0.002*extubation + 0.002*bilious + 0.002*protocol + 0.002*simv + 0.002*extubated\n",
      "2016-08-26 01:21:37,886 : INFO : topic #17 (0.020): 0.005*granulomatosis + 0.004*with_early + 0.004*wegener_granulomatosis + 0.003*herbal + 0.003*controlled_dilaudid + 0.003*for_hyponatremia + 0.003*immunocompromised_state + 0.002*ocd_stable + 0.002*location_fections + 0.002*fections\n",
      "2016-08-26 01:21:37,975 : INFO : topic #34 (0.020): 0.092*arrest + 0.031*cardiac_arrest + 0.023*pea + 0.022*cooling + 0.018*cpr + 0.018*pea_arrest + 0.017*sun + 0.016*protocol + 0.011*atropine + 0.009*versed\n",
      "2016-08-26 01:21:38,074 : INFO : topic diff=0.315190, rho=0.277350\n",
      "2016-08-26 01:23:50,120 : INFO : -10.351 per-word bound, 1306.0 perplexity estimate based on a held-out corpus of 1421 documents with 7017345 words\n",
      "2016-08-26 01:23:50,121 : INFO : PROGRESS: pass 6, at document #13421/13421\n",
      "2016-08-26 01:24:10,112 : INFO : merging changes from 1421 documents into a model of 13421 documents\n",
      "2016-08-26 01:24:20,703 : INFO : topic #24 (0.020): 0.007*assessed + 0.007*not_assessed + 0.007*history + 0.006*pulse + 0.005*comments + 0.004*medications + 0.004*meq_meq + 0.004*balance + 0.003*cmho + 0.003*radial_pulse\n",
      "2016-08-26 01:24:20,790 : INFO : topic #39 (0.020): 0.004*hemoglobin + 0.003*obstructive_pneumonia + 0.003*male_nad + 0.003*strict_npo + 0.002*lbp + 0.002*assessment_nsr + 0.002*lap_chole + 0.002*intraoperatively + 0.002*brain_abscess + 0.002*continue_dilantin\n",
      "2016-08-26 01:24:20,878 : INFO : topic #18 (0.020): 0.007*groin + 0.005*lab + 0.004*hematoma + 0.004*pericardial + 0.004*lopressor + 0.004*procedure + 0.004*nitro + 0.003*ntg + 0.003*cabg + 0.003*drain\n",
      "2016-08-26 01:24:20,964 : INFO : topic #26 (0.020): 0.007*versed + 0.006*osh + 0.006*intubation + 0.005*ventilation + 0.005*bronch + 0.005*failure + 0.005*peg + 0.005*ards + 0.004*fentanyl + 0.004*pna\n",
      "2016-08-26 01:24:21,051 : INFO : topic #49 (0.020): 0.011*neo + 0.010*cabg + 0.009*svo + 0.008*epi + 0.007*avr + 0.006*wires + 0.005*morphine + 0.005*volume + 0.005*chest_tube + 0.005*fick\n",
      "2016-08-26 01:24:21,149 : INFO : topic diff=0.365516, rho=0.277350\n",
      "2016-08-26 01:24:21,151 : INFO : PROGRESS: pass 7, at document #2000/13421\n",
      "2016-08-26 01:24:39,647 : INFO : merging changes from 2000 documents into a model of 13421 documents\n",
      "2016-08-26 01:24:49,632 : INFO : topic #40 (0.020): 0.075*trach + 0.035*bronch + 0.032*stent + 0.019*tracheostomy + 0.017*tracheal + 0.012*rigid + 0.012*hemoptysis + 0.012*bronchoscopy + 0.011*stent_placement + 0.008*ent\n",
      "2016-08-26 01:24:49,720 : INFO : topic #19 (0.020): 0.007*access_icu + 0.006*flush_temporary + 0.005*obstruction_central + 0.005*judicious + 0.005*central_upper + 0.005*adenoca + 0.004*upper_assessment + 0.004*icu_location + 0.004*pharesis + 0.003*hypoxia_from\n",
      "2016-08-26 01:24:49,809 : INFO : topic #31 (0.020): 0.006*daily + 0.005*chf + 0.005*atrial + 0.005*chronic + 0.004*history + 0.004*afib + 0.004*atrial_fibrillation + 0.004*fibrillation + 0.003*tablet + 0.003*systolic\n",
      "2016-08-26 01:24:49,894 : INFO : topic #16 (0.020): 0.015*evd + 0.010*pancreatitis_acute + 0.005*aphasia + 0.005*methotrexate + 0.004*tachycardia_cvp + 0.004*expressive + 0.004*tumor_lysis + 0.004*ped + 0.004*expressive_aphasia + 0.003*ped_struck\n",
      "2016-08-26 01:24:49,980 : INFO : topic #9 (0.020): 0.005*pancreatic_pseudocyst + 0.004*abscesses + 0.004*response_maintaining + 0.004*diltiazem_drip + 0.003*renal_issues + 0.003*episodes_brbpr + 0.003*cerebellar_mass + 0.003*lumbar_sacral + 0.003*vincristine + 0.003*was_ruled\n",
      "2016-08-26 01:24:50,077 : INFO : topic diff=0.161207, rho=0.267261\n",
      "2016-08-26 01:24:50,079 : INFO : PROGRESS: pass 7, at document #4000/13421\n",
      "2016-08-26 01:25:04,693 : INFO : merging changes from 2000 documents into a model of 13421 documents\n",
      "2016-08-26 01:25:14,548 : INFO : topic #31 (0.020): 0.006*daily + 0.005*chf + 0.005*atrial + 0.005*chronic + 0.004*history + 0.004*afib + 0.004*atrial_fibrillation + 0.004*fibrillation + 0.003*tablet + 0.003*systolic\n",
      "2016-08-26 01:25:14,636 : INFO : topic #25 (0.020): 0.102*seizure + 0.036*eeg + 0.032*activity + 0.028*seizures + 0.025*seizure_activity + 0.017*keppra + 0.017*dilantin + 0.012*neurology + 0.012*unresponsive + 0.011*seizure_disorder\n",
      "2016-08-26 01:25:14,723 : INFO : topic #10 (0.020): 0.003*stable_pulmonary + 0.003*nitro_drip + 0.003*sarcoidosis + 0.003*action_hour + 0.002*tachycardia_non + 0.002*acute_cholecystitis + 0.002*schizophrenia + 0.002*presents_osh + 0.002*found_his + 0.002*developed_chest\n",
      "2016-08-26 01:25:14,809 : INFO : topic #39 (0.020): 0.003*hemoglobin + 0.002*obstructive_pneumonia + 0.002*male_nad + 0.002*lbp + 0.002*strict_npo + 0.002*lap_chole + 0.002*assessment_nsr + 0.002*intraoperatively + 0.001*tracheal_stent + 0.001*brain_abscess\n",
      "2016-08-26 01:25:14,896 : INFO : topic #29 (0.020): 0.006*chemotherapy_with + 0.005*tongue_swelling + 0.004*ercp_was + 0.004*date_inserted + 0.004*recurrent_pancreatitis + 0.003*fracture_tls + 0.003*calcium_insulin + 0.003*assessment_male + 0.002*procainamide + 0.002*spent_icu\n",
      "2016-08-26 01:25:14,994 : INFO : topic diff=0.175633, rho=0.267261\n",
      "2016-08-26 01:25:14,996 : INFO : PROGRESS: pass 7, at document #6000/13421\n",
      "2016-08-26 01:25:28,975 : INFO : merging changes from 2000 documents into a model of 13421 documents\n",
      "2016-08-26 01:25:39,116 : INFO : topic #15 (0.020): 0.011*neutropenia + 0.010*neutropenic + 0.009*bmt + 0.008*acyclovir + 0.007*myeloma + 0.007*aml + 0.005*transplant + 0.005*multiple_myeloma + 0.005*gvhd + 0.005*voriconazole\n",
      "2016-08-26 01:25:39,204 : INFO : topic #44 (0.020): 0.006*pulse_present + 0.006*pulse + 0.005*history + 0.004*abdominal + 0.004*absent + 0.004*throat + 0.003*cardiovascular + 0.003*nose + 0.003*nose_throat + 0.003*rash\n",
      "2016-08-26 01:25:39,293 : INFO : topic #21 (0.020): 0.009*fentanyl + 0.007*neo + 0.006*acidosis + 0.006*ngt + 0.006*boluses + 0.006*abdominal + 0.005*lap + 0.005*vasopressin + 0.005*pressors + 0.005*surgery\n",
      "2016-08-26 01:25:39,380 : INFO : topic #6 (0.020): 0.014*ccu + 0.007*iabp + 0.007*dopamine + 0.005*dopa + 0.004*lab + 0.003*maps + 0.003*groin + 0.003*swan + 0.002*cath_lab + 0.002*fem\n",
      "2016-08-26 01:25:39,462 : INFO : topic #20 (0.020): 0.007*dilaudid + 0.005*pain_control + 0.005*pca + 0.005*for_pain + 0.004*morphine + 0.004*face + 0.004*nausea + 0.003*relief + 0.003*alert_and + 0.003*sicu\n",
      "2016-08-26 01:25:39,560 : INFO : topic diff=0.151223, rho=0.267261\n",
      "2016-08-26 01:25:39,563 : INFO : PROGRESS: pass 7, at document #8000/13421\n",
      "2016-08-26 01:25:57,202 : INFO : merging changes from 2000 documents into a model of 13421 documents\n",
      "2016-08-26 01:26:08,264 : INFO : topic #7 (0.020): 0.006*effusion + 0.006*cancer + 0.005*pleural + 0.004*mass + 0.004*metastatic + 0.004*history + 0.003*pleural_effusion + 0.003*cell + 0.003*breast + 0.003*pneumonia\n",
      "2016-08-26 01:26:08,355 : INFO : topic #42 (0.020): 0.006*nephrostomy + 0.005*pheresis + 0.004*torsades + 0.004*nephrostomy_tube + 0.003*hemochromatosis + 0.003*lysis + 0.003*hemoptysis_and + 0.002*with_aml + 0.002*labs_troponin + 0.002*air_was\n",
      "2016-08-26 01:26:08,446 : INFO : topic #5 (0.020): 0.003*labetelol + 0.002*thoracotomy_and + 0.002*gelweave + 0.002*induction + 0.002*history_small + 0.002*unable_aspirate + 0.002*diversion + 0.002*discontinuation + 0.002*ganglia_hemorrhage + 0.002*lumpectomy\n",
      "2016-08-26 01:26:08,537 : INFO : topic #2 (0.020): 0.001*nicardipine_mcg + 0.001*positive_stools + 0.001*lingular + 0.001*fax_home + 0.001*cont_lactulose + 0.001*pending_further + 0.001*gastric + 0.001*repeat_egd + 0.001*ccs + 0.001*and_osh\n",
      "2016-08-26 01:26:08,627 : INFO : topic #24 (0.020): 0.007*assessed + 0.007*not_assessed + 0.007*history + 0.006*pulse + 0.004*comments + 0.004*medications + 0.004*meq_meq + 0.004*balance + 0.003*cmho + 0.003*pulse_not\n",
      "2016-08-26 01:26:08,730 : INFO : topic diff=0.136323, rho=0.267261\n",
      "2016-08-26 01:26:08,733 : INFO : PROGRESS: pass 7, at document #10000/13421\n",
      "2016-08-26 01:26:32,996 : INFO : merging changes from 2000 documents into a model of 13421 documents\n",
      "2016-08-26 01:26:44,259 : INFO : topic #33 (0.020): 0.006*action + 0.005*date + 0.005*order + 0.005*medications + 0.005*order_date + 0.004*meq_meq + 0.004*cmho + 0.004*assessment_and + 0.004*and_plan + 0.004*cardiovascular\n",
      "2016-08-26 01:26:44,350 : INFO : topic #17 (0.020): 0.006*granulomatosis + 0.005*wegener_granulomatosis + 0.003*immunocompromised_state + 0.002*location_fections + 0.002*fections + 0.002*herbal + 0.002*controlled_dilaudid + 0.002*for_hyponatremia + 0.002*cavitating + 0.002*pulmonary_vasculitis\n",
      "2016-08-26 01:26:44,439 : INFO : topic #44 (0.020): 0.006*pulse_present + 0.006*pulse + 0.005*history + 0.004*abdominal + 0.004*absent + 0.003*cardiovascular + 0.003*throat + 0.003*nose + 0.003*nose_throat + 0.003*rash\n",
      "2016-08-26 01:26:44,534 : INFO : topic #15 (0.020): 0.010*bmt + 0.009*neutropenia + 0.009*neutropenic + 0.009*gvhd + 0.008*acyclovir + 0.006*myeloma + 0.006*transplant + 0.005*aml + 0.005*voriconazole + 0.005*cell_lymphoma\n",
      "2016-08-26 01:26:44,632 : INFO : topic #48 (0.020): 0.009*cll + 0.006*tagged + 0.006*rbc_scan + 0.005*tagged_rbc + 0.003*rsbi_sbt + 0.003*recent_uti + 0.003*melenotic + 0.002*plavix_asa + 0.002*diverticulosis + 0.002*which_concerning\n",
      "2016-08-26 01:26:44,735 : INFO : topic diff=0.062924, rho=0.267261\n",
      "2016-08-26 01:26:44,737 : INFO : PROGRESS: pass 7, at document #12000/13421\n",
      "2016-08-26 01:27:13,751 : INFO : merging changes from 2000 documents into a model of 13421 documents\n",
      "2016-08-26 01:27:25,215 : INFO : topic #35 (0.020): 0.003*pneumonectomy + 0.002*pfo + 0.002*urethral + 0.002*cta_which + 0.002*round + 0.001*mediastinal_shift + 0.001*chest_with + 0.001*cdi + 0.001*were_initially + 0.001*pulses_skin\n",
      "2016-08-26 01:27:25,304 : INFO : topic #22 (0.020): 0.016*dementia + 0.012*pna + 0.009*aspiration + 0.005*alzheimer + 0.005*dnr + 0.004*aspiration_pna + 0.004*hypernatremia + 0.004*nursing_home + 0.003*for_pna + 0.003*peep_pip\n",
      "2016-08-26 01:27:25,389 : INFO : topic #3 (0.020): 0.009*stab + 0.006*stab_wounds + 0.004*toxic_megacolon + 0.004*hernias + 0.003*allergies_latex + 0.003*abg_above + 0.003*have_underlying + 0.003*pancreatic_enzymes + 0.003*fevers_for + 0.003*during_ercp\n",
      "2016-08-26 01:27:25,478 : INFO : topic #36 (0.020): 0.005*assessed + 0.005*not_assessed + 0.005*history + 0.003*meq_meq + 0.003*action + 0.003*medications + 0.003*abdominal + 0.003*pulse + 0.003*comments + 0.003*balance\n",
      "2016-08-26 01:27:25,563 : INFO : topic #11 (0.020): 0.007*wife + 0.004*work + 0.003*lives + 0.003*name_and + 0.003*doctor_first + 0.002*telephone + 0.002*year + 0.002*mother + 0.002*fax + 0.002*telephone_fax\n",
      "2016-08-26 01:27:25,663 : INFO : topic diff=0.298739, rho=0.267261\n",
      "2016-08-26 01:30:14,088 : INFO : -10.342 per-word bound, 1297.7 perplexity estimate based on a held-out corpus of 1421 documents with 7017345 words\n",
      "2016-08-26 01:30:14,089 : INFO : PROGRESS: pass 7, at document #13421/13421\n",
      "2016-08-26 01:30:36,437 : INFO : merging changes from 1421 documents into a model of 13421 documents\n",
      "2016-08-26 01:30:47,420 : INFO : topic #26 (0.020): 0.008*versed + 0.007*osh + 0.006*intubation + 0.006*ventilation + 0.005*failure + 0.005*ards + 0.005*bronch + 0.004*peg + 0.004*fentanyl + 0.004*pna\n",
      "2016-08-26 01:30:47,508 : INFO : topic #15 (0.020): 0.014*neutropenia + 0.012*bmt + 0.012*neutropenic + 0.011*acyclovir + 0.009*aml + 0.008*myeloma + 0.007*gvhd + 0.007*transplant + 0.006*multiple_myeloma + 0.006*voriconazole\n",
      "2016-08-26 01:30:47,591 : INFO : topic #12 (0.020): 0.012*wound + 0.006*vanco + 0.006*foot + 0.006*integrity + 0.006*area + 0.006*skin_integrity + 0.005*impaired + 0.005*impaired_skin + 0.005*coccyx + 0.004*applied\n",
      "2016-08-26 01:30:47,679 : INFO : topic #7 (0.020): 0.007*effusion + 0.006*cancer + 0.005*pleural + 0.005*mass + 0.004*metastatic + 0.004*history + 0.003*pleural_effusion + 0.003*cell + 0.003*pneumonia + 0.003*breast\n",
      "2016-08-26 01:30:47,767 : INFO : topic #9 (0.020): 0.005*pancreatic_pseudocyst + 0.005*abscesses + 0.005*response_maintaining + 0.004*diltiazem_drip + 0.004*renal_issues + 0.004*episodes_brbpr + 0.004*cerebellar_mass + 0.003*lumbar_sacral + 0.003*vincristine + 0.003*was_ruled\n",
      "2016-08-26 01:30:47,868 : INFO : topic diff=0.354019, rho=0.267261\n",
      "2016-08-26 01:30:47,871 : INFO : PROGRESS: pass 8, at document #2000/13421\n",
      "2016-08-26 01:31:08,351 : INFO : merging changes from 2000 documents into a model of 13421 documents\n",
      "2016-08-26 01:31:18,521 : INFO : topic #2 (0.020): 0.002*nicardipine_mcg + 0.002*lingular + 0.002*fax_home + 0.001*cont_lactulose + 0.001*pending_further + 0.001*octreotide_and + 0.001*osh_today + 0.001*positive_stools + 0.001*hospital_initial + 0.001*repeat_egd\n",
      "2016-08-26 01:31:18,617 : INFO : topic #33 (0.020): 0.006*date + 0.006*order + 0.006*action + 0.006*order_date + 0.005*medications + 0.005*meq_meq + 0.004*cmho + 0.004*assessment_and + 0.004*and_plan + 0.004*cardiovascular\n",
      "2016-08-26 01:31:18,708 : INFO : topic #21 (0.020): 0.010*fentanyl + 0.007*neo + 0.006*acidosis + 0.006*ngt + 0.006*abdominal + 0.006*boluses + 0.006*lap + 0.005*surgery + 0.005*vasopressin + 0.005*pressors\n",
      "2016-08-26 01:31:18,798 : INFO : topic #42 (0.020): 0.007*nephrostomy + 0.006*torsades + 0.005*hemochromatosis + 0.005*lysis + 0.005*pheresis + 0.004*nephrostomy_tube + 0.004*labs_troponin + 0.003*hemoptysis_and + 0.003*hypervolemic + 0.003*with_aml\n",
      "2016-08-26 01:31:18,892 : INFO : topic #24 (0.020): 0.008*assessed + 0.008*not_assessed + 0.007*history + 0.006*pulse + 0.005*comments + 0.004*medications + 0.004*meq_meq + 0.004*balance + 0.004*cmho + 0.003*pulse_not\n",
      "2016-08-26 01:31:19,001 : INFO : topic diff=0.153138, rho=0.258199\n",
      "2016-08-26 01:31:19,004 : INFO : PROGRESS: pass 8, at document #4000/13421\n",
      "2016-08-26 01:31:38,139 : INFO : merging changes from 2000 documents into a model of 13421 documents\n",
      "2016-08-26 01:31:48,278 : INFO : topic #28 (0.020): 0.002*heroin + 0.002*non_small + 0.002*gap + 0.002*cocaine + 0.001*mushrooms + 0.001*dka + 0.001*psych + 0.001*days_has + 0.001*improvement_his + 0.001*post_obstructive\n",
      "2016-08-26 01:31:48,367 : INFO : topic #30 (0.020): 0.050*ercp + 0.047*pancreatitis + 0.016*biliary + 0.015*ruq + 0.013*cholangitis + 0.012*cholecystitis + 0.011*cbd + 0.011*procedure + 0.011*lipase + 0.010*stent\n",
      "2016-08-26 01:31:48,455 : INFO : topic #40 (0.020): 0.075*trach + 0.033*bronch + 0.031*stent + 0.019*tracheostomy + 0.016*tracheal + 0.012*bronchoscopy + 0.012*rigid + 0.012*hemoptysis + 0.010*stent_placement + 0.007*ent\n",
      "2016-08-26 01:31:48,547 : INFO : topic #43 (0.020): 0.003*ulcerative + 0.003*colitis + 0.003*fibrosis + 0.003*ulcerative_colitis + 0.003*pulmonary_fibrosis + 0.003*history_htn + 0.002*suprapubic + 0.002*tamsulosin + 0.002*para_location + 0.002*transverse_colon\n",
      "2016-08-26 01:31:48,638 : INFO : topic #46 (0.020): 0.007*history + 0.004*action + 0.004*chest_pain + 0.004*ccu + 0.003*disease + 0.003*cad + 0.003*coronary + 0.003*lad + 0.003*daily + 0.003*nstemi\n",
      "2016-08-26 01:31:48,737 : INFO : topic diff=0.167634, rho=0.258199\n",
      "2016-08-26 01:31:48,740 : INFO : PROGRESS: pass 8, at document #6000/13421\n",
      "2016-08-26 01:32:08,089 : INFO : merging changes from 2000 documents into a model of 13421 documents\n",
      "2016-08-26 01:32:18,556 : INFO : topic #43 (0.020): 0.004*ulcerative + 0.004*ulcerative_colitis + 0.003*colitis + 0.003*fibrosis + 0.002*pulmonary_fibrosis + 0.002*history_htn + 0.002*suprapubic + 0.002*and_phenylephrine + 0.002*tamsulosin + 0.002*epinephrine_and\n",
      "2016-08-26 01:32:18,640 : INFO : topic #37 (0.020): 0.002*amts + 0.002*fentanyl + 0.002*ngt + 0.002*suctioned_for + 0.002*versed + 0.002*intubated_and + 0.002*aline + 0.002*vent_settings + 0.002*amounts + 0.002*intubation\n",
      "2016-08-26 01:32:18,728 : INFO : topic #17 (0.020): 0.004*herbal + 0.003*fulminant_hepatic + 0.002*granulomatosis + 0.002*controlled_dilaudid + 0.002*for_hyponatremia + 0.002*pulmonary_vasculitis + 0.002*immunocompromised_state + 0.002*with_early + 0.002*location_fections + 0.002*fections\n",
      "2016-08-26 01:32:18,816 : INFO : topic #10 (0.020): 0.003*sarcoidosis + 0.003*nitro_drip + 0.003*stable_pulmonary + 0.002*action_hour + 0.002*schizophrenia + 0.002*tachycardia_non + 0.002*acute_cholecystitis + 0.002*chest_tightness + 0.002*presents_osh + 0.002*found_his\n",
      "2016-08-26 01:32:18,907 : INFO : topic #45 (0.020): 0.011*ipf + 0.008*nadolol + 0.004*barrett + 0.003*with_ipf + 0.003*and_emphysema + 0.002*unresectable + 0.002*uip + 0.002*nuero + 0.002*ultrasound_and + 0.002*protection_the\n",
      "2016-08-26 01:32:19,008 : INFO : topic diff=0.144901, rho=0.258199\n",
      "2016-08-26 01:32:19,010 : INFO : PROGRESS: pass 8, at document #8000/13421\n",
      "2016-08-26 01:32:39,733 : INFO : merging changes from 2000 documents into a model of 13421 documents\n",
      "2016-08-26 01:32:51,167 : INFO : topic #12 (0.020): 0.010*wound + 0.006*area + 0.006*vanco + 0.006*coccyx + 0.006*foot + 0.005*applied + 0.005*integrity + 0.004*stage + 0.004*sepsis + 0.004*areas\n",
      "2016-08-26 01:32:51,258 : INFO : topic #4 (0.020): 0.008*failure + 0.005*action + 0.005*hypotension + 0.004*renal_failure + 0.004*history + 0.003*sepsis + 0.003*cmho + 0.003*shock + 0.003*levophed + 0.003*setting\n",
      "2016-08-26 01:32:51,343 : INFO : topic #14 (0.020): 0.009*bleeding + 0.008*prbc + 0.007*bleed + 0.005*ffp + 0.004*transfusion + 0.003*active + 0.003*transfused + 0.003*unit_prbc + 0.002*units_prbc + 0.002*nausea\n",
      "2016-08-26 01:32:51,434 : INFO : topic #18 (0.020): 0.007*groin + 0.005*lab + 0.005*hematoma + 0.004*ntg + 0.004*sheath + 0.004*cabg + 0.004*lopressor + 0.004*pericardial + 0.004*cath_lab + 0.004*nitro\n",
      "2016-08-26 01:32:51,527 : INFO : topic #29 (0.020): 0.005*chemotherapy_with + 0.004*calcium_insulin + 0.004*tongue_swelling + 0.003*ercp_was + 0.003*fracture_tls + 0.003*emergent_cabg + 0.003*date_inserted + 0.002*recurrent_pancreatitis + 0.002*respond_and + 0.002*assessment_male\n",
      "2016-08-26 01:32:51,629 : INFO : topic diff=0.131315, rho=0.258199\n",
      "2016-08-26 01:32:51,632 : INFO : PROGRESS: pass 8, at document #10000/13421\n",
      "2016-08-26 01:33:14,036 : INFO : merging changes from 2000 documents into a model of 13421 documents\n",
      "2016-08-26 01:33:25,728 : INFO : topic #15 (0.020): 0.010*bmt + 0.009*neutropenia + 0.009*neutropenic + 0.009*gvhd + 0.008*acyclovir + 0.007*transplant + 0.006*myeloma + 0.005*aml + 0.005*voriconazole + 0.005*cell_lymphoma\n",
      "2016-08-26 01:33:25,821 : INFO : topic #8 (0.020): 0.002*she_was + 0.002*mask + 0.002*floor + 0.002*crackles + 0.002*nrb + 0.002*daughter + 0.001*afib + 0.001*was_given + 0.001*receiving + 0.001*tylenol\n",
      "2016-08-26 01:33:25,917 : INFO : topic #19 (0.020): 0.003*access_icu + 0.003*subtotal_gastrectomy + 0.003*judicious + 0.002*flush_temporary + 0.002*adenoca + 0.002*above_blood + 0.002*hypoxia_from + 0.002*obstruction_central + 0.002*central_upper + 0.002*significant_bleeding\n",
      "2016-08-26 01:33:26,014 : INFO : topic #44 (0.020): 0.006*pulse_present + 0.006*pulse + 0.005*history + 0.004*abdominal + 0.004*absent + 0.004*cardiovascular + 0.003*throat + 0.003*nose + 0.003*nose_throat + 0.003*rash\n",
      "2016-08-26 01:33:26,101 : INFO : topic #29 (0.020): 0.004*chemotherapy_with + 0.004*calcium_insulin + 0.003*tongue_swelling + 0.003*ercp_was + 0.003*fracture_tls + 0.002*emergent_cabg + 0.002*date_inserted + 0.002*respond_and + 0.002*procainamide + 0.002*stent_who\n",
      "2016-08-26 01:33:26,199 : INFO : topic diff=0.061249, rho=0.258199\n",
      "2016-08-26 01:33:26,201 : INFO : PROGRESS: pass 8, at document #12000/13421\n",
      "2016-08-26 01:33:54,909 : INFO : merging changes from 2000 documents into a model of 13421 documents\n",
      "2016-08-26 01:34:06,555 : INFO : topic #24 (0.020): 0.008*not_assessed + 0.008*assessed + 0.007*history + 0.006*pulse + 0.005*comments + 0.004*medications + 0.004*balance + 0.004*meq_meq + 0.004*cmho + 0.003*pulse_not\n",
      "2016-08-26 01:34:06,643 : INFO : topic #45 (0.020): 0.011*ipf + 0.010*nadolol + 0.004*uip + 0.003*barrett + 0.003*protection_the + 0.003*unresectable + 0.003*ultrasound_and + 0.003*neck_mass + 0.002*management_acute + 0.002*grossly_clear\n",
      "2016-08-26 01:34:06,735 : INFO : topic #9 (0.020): 0.004*response_maintaining + 0.004*abscesses + 0.004*disopyramide + 0.004*episodes_brbpr + 0.003*diltiazem_drip + 0.003*pmh_severe + 0.003*pancreatic_pseudocyst + 0.002*cerebellar_mass + 0.002*wash_out + 0.002*with_sbo\n",
      "2016-08-26 01:34:06,825 : INFO : topic #26 (0.020): 0.009*versed + 0.007*osh + 0.007*intubation + 0.006*ventilation + 0.005*bronch + 0.005*failure + 0.005*ards + 0.005*fentanyl + 0.004*pna + 0.004*peg\n",
      "2016-08-26 01:34:06,916 : INFO : topic #2 (0.020): 0.002*nicardipine_mcg + 0.001*and_osh + 0.001*osh_today + 0.001*and_stenting + 0.001*fax_home + 0.001*osh_admission + 0.001*asbestosis + 0.001*ascities + 0.001*repeat_egd + 0.001*bleeding_but\n",
      "2016-08-26 01:34:07,016 : INFO : topic diff=0.284760, rho=0.258199\n",
      "2016-08-26 01:36:42,128 : INFO : -10.334 per-word bound, 1290.9 perplexity estimate based on a held-out corpus of 1421 documents with 7017345 words\n",
      "2016-08-26 01:36:42,129 : INFO : PROGRESS: pass 8, at document #13421/13421\n",
      "2016-08-26 01:36:56,245 : INFO : merging changes from 1421 documents into a model of 13421 documents\n",
      "2016-08-26 01:37:06,462 : INFO : topic #37 (0.020): 0.002*fentanyl + 0.002*amts + 0.002*versed + 0.002*ngt + 0.002*intubated_and + 0.002*suctioned_for + 0.002*aline + 0.002*vent_settings + 0.002*intubation + 0.002*amounts\n",
      "2016-08-26 01:37:06,546 : INFO : topic #3 (0.020): 0.009*stab + 0.006*pancreatic_enzymes + 0.005*toxic_megacolon + 0.005*stab_wounds + 0.005*eus + 0.004*tracheobronchial + 0.004*megacolon + 0.004*have_underlying + 0.004*records_and + 0.003*ingested\n",
      "2016-08-26 01:37:06,634 : INFO : topic #43 (0.020): 0.004*ulcerative + 0.004*ulcerative_colitis + 0.004*fibrosis + 0.004*colitis + 0.003*pulmonary_fibrosis + 0.003*history_htn + 0.003*tamsulosin + 0.003*suprapubic + 0.002*transverse_colon + 0.002*para_location\n",
      "2016-08-26 01:37:06,715 : INFO : topic #13 (0.020): 0.006*neo + 0.004*insulin_gtt + 0.003*titrated + 0.003*extubate + 0.003*cpap + 0.003*extubation + 0.002*protocol + 0.002*extubated + 0.002*bilious + 0.002*repleted\n",
      "2016-08-26 01:37:06,801 : INFO : topic #15 (0.020): 0.014*neutropenia + 0.012*bmt + 0.012*neutropenic + 0.011*acyclovir + 0.009*aml + 0.008*myeloma + 0.007*gvhd + 0.007*transplant + 0.006*multiple_myeloma + 0.006*voriconazole\n",
      "2016-08-26 01:37:06,899 : INFO : topic diff=0.344135, rho=0.258199\n",
      "2016-08-26 01:37:06,901 : INFO : PROGRESS: pass 9, at document #2000/13421\n",
      "2016-08-26 01:37:20,145 : INFO : merging changes from 2000 documents into a model of 13421 documents\n",
      "2016-08-26 01:37:29,795 : INFO : topic #36 (0.020): 0.005*assessed + 0.005*not_assessed + 0.005*history + 0.003*meq_meq + 0.003*abdominal + 0.003*action + 0.003*medications + 0.003*pulse + 0.003*comments + 0.003*osh\n",
      "2016-08-26 01:37:29,877 : INFO : topic #11 (0.020): 0.008*wife + 0.004*work + 0.003*lives + 0.003*doctor_first + 0.003*name_and + 0.003*telephone + 0.003*fax + 0.003*telephone_fax + 0.003*year + 0.003*mother\n",
      "2016-08-26 01:37:29,964 : INFO : topic #34 (0.020): 0.086*arrest + 0.031*cardiac_arrest + 0.025*cooling + 0.023*protocol + 0.022*sun + 0.018*pea + 0.018*cpr + 0.013*pea_arrest + 0.010*artic + 0.010*artic_sun\n",
      "2016-08-26 01:37:30,053 : INFO : topic #29 (0.020): 0.008*chemotherapy_with + 0.005*tongue_swelling + 0.005*ercp_was + 0.005*date_inserted + 0.004*recurrent_pancreatitis + 0.004*fracture_tls + 0.004*calcium_insulin + 0.003*assessment_male + 0.003*pancreatic_duct + 0.003*spent_icu\n",
      "2016-08-26 01:37:30,136 : INFO : topic #12 (0.020): 0.011*wound + 0.006*vanco + 0.006*foot + 0.006*area + 0.005*integrity + 0.005*skin_integrity + 0.005*impaired + 0.005*coccyx + 0.005*picc + 0.005*impaired_skin\n",
      "2016-08-26 01:37:30,234 : INFO : topic diff=0.146251, rho=0.250000\n",
      "2016-08-26 01:37:30,236 : INFO : PROGRESS: pass 9, at document #4000/13421\n",
      "2016-08-26 01:37:42,534 : INFO : merging changes from 2000 documents into a model of 13421 documents\n",
      "2016-08-26 01:37:52,293 : INFO : topic #33 (0.020): 0.006*date + 0.006*order + 0.006*action + 0.006*order_date + 0.005*medications + 0.005*meq_meq + 0.004*cmho + 0.004*assessment_and + 0.004*and_plan + 0.004*cardiovascular\n",
      "2016-08-26 01:37:52,377 : INFO : topic #40 (0.020): 0.075*trach + 0.033*bronch + 0.031*stent + 0.019*tracheostomy + 0.016*tracheal + 0.012*rigid + 0.012*bronchoscopy + 0.012*hemoptysis + 0.011*stent_placement + 0.007*ent\n",
      "2016-08-26 01:37:52,463 : INFO : topic #30 (0.020): 0.049*ercp + 0.048*pancreatitis + 0.016*biliary + 0.015*ruq + 0.013*cholecystitis + 0.013*cholangitis + 0.012*lipase + 0.011*cbd + 0.011*procedure + 0.010*stent\n",
      "2016-08-26 01:37:52,549 : INFO : topic #41 (0.020): 0.006*mri + 0.004*checks + 0.004*fall + 0.004*fracture + 0.003*trauma + 0.003*spine + 0.003*exam + 0.003*neuro_checks + 0.003*sicu + 0.003*arm\n",
      "2016-08-26 01:37:52,634 : INFO : topic #17 (0.020): 0.004*herbal + 0.003*fulminant_hepatic + 0.003*controlled_dilaudid + 0.003*granulomatosis + 0.003*pulmonary_vasculitis + 0.003*immunocompromised_state + 0.003*for_hyponatremia + 0.002*with_early + 0.002*location_fections + 0.002*fections\n",
      "2016-08-26 01:37:52,731 : INFO : topic diff=0.160789, rho=0.250000\n",
      "2016-08-26 01:37:52,734 : INFO : PROGRESS: pass 9, at document #6000/13421\n",
      "2016-08-26 01:38:05,540 : INFO : merging changes from 2000 documents into a model of 13421 documents\n",
      "2016-08-26 01:38:15,640 : INFO : topic #37 (0.020): 0.002*amts + 0.002*ngt + 0.002*fentanyl + 0.002*suctioned_for + 0.002*versed + 0.002*aline + 0.002*intubated_and + 0.002*amounts + 0.002*vent_settings + 0.002*intubation\n",
      "2016-08-26 01:38:15,729 : INFO : topic #47 (0.020): 0.031*amiodarone + 0.019*icd + 0.015*pacer + 0.011*amio + 0.011*paced + 0.009*cardiomyopathy + 0.009*afib + 0.008*ablation + 0.008*pacemaker + 0.006*lead\n",
      "2016-08-26 01:38:15,816 : INFO : topic #35 (0.020): 0.002*pneumonectomy + 0.002*pfo + 0.002*pvi + 0.001*cdi + 0.001*system + 0.001*round + 0.001*chest_with + 0.001*decortication + 0.001*urethral + 0.001*pulses_skin\n",
      "2016-08-26 01:38:15,901 : INFO : topic #16 (0.020): 0.011*evd + 0.007*pancreatitis_acute + 0.004*aphasia + 0.004*expressive + 0.003*tachycardia_cvp + 0.003*tumor_lysis + 0.003*expressive_aphasia + 0.003*methotrexate + 0.003*ped + 0.003*risk_for\n",
      "2016-08-26 01:38:15,989 : INFO : topic #36 (0.020): 0.005*assessed + 0.005*not_assessed + 0.005*history + 0.003*meq_meq + 0.003*abdominal + 0.003*action + 0.003*medications + 0.003*pulse + 0.003*comments + 0.003*balance\n",
      "2016-08-26 01:38:16,087 : INFO : topic diff=0.139518, rho=0.250000\n",
      "2016-08-26 01:38:16,089 : INFO : PROGRESS: pass 9, at document #8000/13421\n",
      "2016-08-26 01:38:29,601 : INFO : merging changes from 2000 documents into a model of 13421 documents\n",
      "2016-08-26 01:38:39,915 : INFO : topic #11 (0.020): 0.008*wife + 0.004*work + 0.004*lives + 0.003*name_and + 0.003*doctor_first + 0.003*telephone + 0.003*mother + 0.003*fax + 0.003*telephone_fax + 0.003*year\n",
      "2016-08-26 01:38:40,000 : INFO : topic #42 (0.020): 0.006*nephrostomy + 0.005*pheresis + 0.004*torsades + 0.004*nephrostomy_tube + 0.004*lysis + 0.003*hemochromatosis + 0.002*with_aml + 0.002*hemoptysis_and + 0.002*labs_troponin + 0.002*thrive\n",
      "2016-08-26 01:38:40,087 : INFO : topic #43 (0.020): 0.003*colitis + 0.003*ulcerative + 0.003*ulcerative_colitis + 0.003*fibrosis + 0.002*pulmonary_fibrosis + 0.002*suprapubic + 0.002*history_htn + 0.002*epinephrine_and + 0.002*tamsulosin + 0.002*ivab\n",
      "2016-08-26 01:38:40,169 : INFO : topic #13 (0.020): 0.005*neo + 0.004*insulin_gtt + 0.003*titrated + 0.003*extubate + 0.002*cpap + 0.002*simv + 0.002*bilious + 0.002*extubation + 0.002*update + 0.002*protocol\n",
      "2016-08-26 01:38:40,257 : INFO : topic #44 (0.020): 0.007*pulse_present + 0.006*pulse + 0.006*history + 0.004*abdominal + 0.004*absent + 0.004*throat + 0.004*cardiovascular + 0.003*nose + 0.003*nose_throat + 0.003*rash\n",
      "2016-08-26 01:38:40,354 : INFO : topic diff=0.127046, rho=0.250000\n",
      "2016-08-26 01:38:40,357 : INFO : PROGRESS: pass 9, at document #10000/13421\n",
      "2016-08-26 01:38:54,880 : INFO : merging changes from 2000 documents into a model of 13421 documents\n",
      "2016-08-26 01:39:05,586 : INFO : topic #1 (0.020): 0.012*etoh + 0.010*ativan + 0.007*abuse + 0.007*agitated + 0.006*ciwa + 0.006*withdrawal + 0.005*agitation + 0.005*valium + 0.004*haldol + 0.004*scale\n",
      "2016-08-26 01:39:05,675 : INFO : topic #5 (0.020): 0.003*labetelol + 0.002*thoracotomy_and + 0.002*bullous + 0.002*gelweave + 0.002*induction + 0.002*unable_aspirate + 0.002*lumpectomy + 0.002*ganglia_hemorrhage + 0.002*discontinuation + 0.002*vsd\n",
      "2016-08-26 01:39:05,762 : INFO : topic #48 (0.020): 0.010*cll + 0.007*tagged + 0.006*rbc_scan + 0.005*tagged_rbc + 0.003*recent_uti + 0.003*rsbi_sbt + 0.003*melenotic + 0.002*diverticulosis + 0.002*plavix_asa + 0.002*which_concerning\n",
      "2016-08-26 01:39:05,848 : INFO : topic #39 (0.020): 0.002*obstructive_pneumonia + 0.002*hemoglobin + 0.002*strict_npo + 0.001*lbp + 0.001*intraoperatively + 0.001*assessment_nsr + 0.001*tracheal_stent + 0.001*lap_chole + 0.001*male_nad + 0.001*stent_removal\n",
      "2016-08-26 01:39:05,937 : INFO : topic #47 (0.020): 0.032*amiodarone + 0.017*icd + 0.015*pacer + 0.012*amio + 0.012*paced + 0.009*cardiomyopathy + 0.009*afib + 0.008*pacemaker + 0.007*ablation + 0.006*digoxin\n",
      "2016-08-26 01:39:06,035 : INFO : topic diff=0.059995, rho=0.250000\n",
      "2016-08-26 01:39:06,037 : INFO : PROGRESS: pass 9, at document #12000/13421\n",
      "2016-08-26 01:39:23,777 : INFO : merging changes from 2000 documents into a model of 13421 documents\n",
      "2016-08-26 01:39:33,983 : INFO : topic #35 (0.020): 0.003*pneumonectomy + 0.002*pfo + 0.002*urethral + 0.002*round + 0.002*cta_which + 0.002*cdi + 0.001*mediastinal_shift + 0.001*chest_with + 0.001*system + 0.001*were_initially\n",
      "2016-08-26 01:39:34,070 : INFO : topic #32 (0.020): 0.009*she_was + 0.004*bipap + 0.004*copd + 0.003*chronic + 0.003*pulmonary + 0.003*she_has + 0.003*action + 0.003*failure + 0.003*worsening + 0.003*cpap\n",
      "2016-08-26 01:39:34,160 : INFO : topic #9 (0.020): 0.005*response_maintaining + 0.005*abscesses + 0.004*disopyramide + 0.004*episodes_brbpr + 0.003*diltiazem_drip + 0.003*pancreatic_pseudocyst + 0.003*pmh_severe + 0.002*wash_out + 0.002*cerebellar_mass + 0.002*with_sbo\n",
      "2016-08-26 01:39:34,249 : INFO : topic #5 (0.020): 0.006*labetelol + 0.003*gelweave + 0.003*thoracotomy_and + 0.003*vsd + 0.003*ganglia_hemorrhage + 0.003*keep_down + 0.003*lumpectomy + 0.003*history_small + 0.003*discontinuation + 0.002*bullous\n",
      "2016-08-26 01:39:34,336 : INFO : topic #43 (0.020): 0.004*fibrosis + 0.003*colitis + 0.003*ulcerative + 0.003*ulcerative_colitis + 0.003*pulmonary_fibrosis + 0.003*suprapubic + 0.002*bowel_perforation + 0.002*history_htn + 0.002*tamoxifen + 0.002*tamsulosin\n",
      "2016-08-26 01:39:34,433 : INFO : topic diff=0.272578, rho=0.250000\n",
      "2016-08-26 01:41:42,400 : INFO : -10.328 per-word bound, 1285.2 perplexity estimate based on a held-out corpus of 1421 documents with 7017345 words\n",
      "2016-08-26 01:41:42,401 : INFO : PROGRESS: pass 9, at document #13421/13421\n",
      "2016-08-26 01:41:56,568 : INFO : merging changes from 1421 documents into a model of 13421 documents\n",
      "2016-08-26 01:42:06,942 : INFO : topic #0 (0.020): 0.008*vocal + 0.007*rcc + 0.006*empyema + 0.005*argatroban + 0.004*acute_cholecystitis + 0.004*wbc_lines + 0.004*arthroplasty + 0.004*vocal_cord + 0.004*tail + 0.004*vocal_cords\n",
      "2016-08-26 01:42:07,029 : INFO : topic #16 (0.020): 0.017*evd + 0.011*pancreatitis_acute + 0.006*tachycardia_cvp + 0.006*aphasia + 0.005*methotrexate + 0.005*tumor_lysis + 0.005*expressive + 0.004*ped + 0.004*with_pancreatitis + 0.004*expressive_aphasia\n",
      "2016-08-26 01:42:07,119 : INFO : topic #18 (0.020): 0.007*groin + 0.005*lab + 0.005*pericardial + 0.004*hematoma + 0.004*procedure + 0.004*nitro + 0.004*cabg + 0.004*lopressor + 0.004*ntg + 0.004*surgery\n",
      "2016-08-26 01:42:07,208 : INFO : topic #43 (0.020): 0.004*ulcerative + 0.004*fibrosis + 0.004*ulcerative_colitis + 0.004*colitis + 0.003*pulmonary_fibrosis + 0.003*history_htn + 0.003*suprapubic + 0.003*tamsulosin + 0.002*transverse_colon + 0.002*para_location\n",
      "2016-08-26 01:42:07,297 : INFO : topic #7 (0.020): 0.007*effusion + 0.006*cancer + 0.005*pleural + 0.005*mass + 0.004*metastatic + 0.004*history + 0.003*pleural_effusion + 0.003*cell + 0.003*pneumonia + 0.003*breast\n",
      "2016-08-26 01:42:07,396 : INFO : topic diff=0.335361, rho=0.250000\n"
     ]
    }
   ],
   "source": [
    "# Create lda model (equivalent to \"fit\" in sklearn)\n",
    "lda = models.LdaModel(corpus = corpus, id2word=dictionary, num_topics=50, passes=10)"
   ]
  },
  {
   "cell_type": "code",
   "execution_count": 71,
   "metadata": {
    "collapsed": false
   },
   "outputs": [],
   "source": [
    "pickle.dump(lda, open(\"../Pickles/Gensim_LDA_FINAL.p\", \"wb\"))\n",
    "pickle.dump(dictionary, open(\"../Pickles/dictionary_FINAL.p\", \"wb\"))\n",
    "pickle.dump(corpus, open(\"../Pickles/corpus_FINAL.p\", \"wb\"))"
   ]
  },
  {
   "cell_type": "markdown",
   "metadata": {},
   "source": [
    "## Run this in iPython NOT Jupyter. Jupyter kernel dies."
   ]
  },
  {
   "cell_type": "markdown",
   "metadata": {},
   "source": [
    "#### For Sklearn"
   ]
  },
  {
   "cell_type": "code",
   "execution_count": null,
   "metadata": {
    "collapsed": true
   },
   "outputs": [],
   "source": [
    "lda_tf = pickle.load(open(\"Pickles/Sklearn_LDA.p\", \"rb\"))\n",
    "vecs = pickle.load(open(\"Pickles/vecs.p\", \"rb\"))\n",
    "count_vect = pickle.load(open(\"Pickles/count_vect.p\", \"rb\"))\n",
    "data = pyLDAvis.sklearn.prepare(lda, vecs, count_vect)"
   ]
  },
  {
   "cell_type": "markdown",
   "metadata": {},
   "source": [
    "#### For Gensim"
   ]
  },
  {
   "cell_type": "code",
   "execution_count": 62,
   "metadata": {
    "collapsed": false,
    "scrolled": false
   },
   "outputs": [],
   "source": [
    "lda = pickle.load(open(\"Pickles/Gensim_LDA_FINAL.p\", \"rb\"))\n",
    "dictionary = pickle.load(open(\"Pickles/dictionary_FINAL.p\", \"rb\"))\n",
    "corpus = pickle.load(open(\"Pickles/corpus_FINAL.p\", \"rb\"))"
   ]
  },
  {
   "cell_type": "code",
   "execution_count": null,
   "metadata": {
    "collapsed": true
   },
   "outputs": [],
   "source": [
    "import pyLDAvis.gensim\n",
    "import pyLDAvis.sklearn\n",
    "data = pyLDAvis.gensim.prepare(lda, corpus, dictionary)"
   ]
  },
  {
   "cell_type": "code",
   "execution_count": 26,
   "metadata": {
    "collapsed": false
   },
   "outputs": [],
   "source": [
    "pickle.dump(data, \"Pickles/LDAvis_FINAL.data\")"
   ]
  }
 ],
 "metadata": {
  "kernelspec": {
   "display_name": "Python [Root]",
   "language": "python",
   "name": "Python [Root]"
  },
  "language_info": {
   "codemirror_mode": {
    "name": "ipython",
    "version": 2
   },
   "file_extension": ".py",
   "mimetype": "text/x-python",
   "name": "python",
   "nbconvert_exporter": "python",
   "pygments_lexer": "ipython2",
   "version": "2.7.12"
  }
 },
 "nbformat": 4,
 "nbformat_minor": 0
}
